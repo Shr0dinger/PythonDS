{
 "cells": [
  {
   "cell_type": "markdown",
   "id": "566b2498",
   "metadata": {},
   "source": [
    "### Загрузка библиотек:"
   ]
  },
  {
   "cell_type": "code",
   "execution_count": 1,
   "id": "85a0ff74",
   "metadata": {},
   "outputs": [],
   "source": [
    "# 1. Основные библиотеки\n",
    "import numpy as np\n",
    "import pandas as pd\n",
    "import pickle   # сохранение модели\n",
    "\n",
    "import matplotlib\n",
    "import matplotlib.pyplot as plt\n",
    "import seaborn as sns\n",
    "%matplotlib inline\n",
    "\n",
    "# 2. Разделение датасета\n",
    "from sklearn.model_selection import train_test_split, KFold, GridSearchCV, cross_val_score\n",
    "\n",
    "\n",
    "# 3. Модели\n",
    "from sklearn.linear_model import LinearRegression\n",
    "from sklearn.tree import DecisionTreeRegressor, plot_tree\n",
    "from sklearn.ensemble import GradientBoostingRegressor\n",
    "from sklearn.preprocessing import StandardScaler, MinMaxScaler\n",
    "\n",
    "# 4. Метрики качества\n",
    "from sklearn.metrics import mean_squared_error as mse, r2_score as r2"
   ]
  },
  {
   "cell_type": "code",
   "execution_count": 2,
   "id": "22dc0fb7",
   "metadata": {},
   "outputs": [],
   "source": [
    "import warnings\n",
    "warnings.filterwarnings('ignore')"
   ]
  },
  {
   "cell_type": "code",
   "execution_count": 3,
   "id": "e02082eb",
   "metadata": {},
   "outputs": [],
   "source": [
    "matplotlib.rcParams.update({'font.size': 14})"
   ]
  },
  {
   "cell_type": "code",
   "execution_count": 4,
   "id": "c86449b8",
   "metadata": {},
   "outputs": [],
   "source": [
    "def evaluate_preds(train_true_values, train_pred_values, test_true_values, test_pred_values):\n",
    "    \"\"\"\n",
    "    # дописать документация\n",
    "    \"\"\"\n",
    "    print(\"Train R2:\\t\" + str(round(r2(train_true_values, train_pred_values), 3)))\n",
    "    print(\"Valid R2:\\t\" + str(round(r2(test_true_values, test_pred_values), 3)))\n",
    "    \n",
    "    \"\"\"\n",
    "    # расчет переобучения\n",
    "    \"\"\"\n",
    "    aaa = round(r2(train_true_values, train_pred_values), 3)\n",
    "    bbb = round(r2(test_true_values, test_pred_values), 3)\n",
    "    if aaa>bbb: ccc = round((((aaa-bbb)/aaa)*100),2)\n",
    "    if aaa<bbb: ccc = round((((bbb-aaa)/bbb)*100),2)\n",
    "    print(\"Overfitting:    \" + str(ccc) + \"%\")\n",
    "    \n",
    "    plt.figure(figsize=(18,10))\n",
    "    plt.subplot(121)\n",
    "    sns.scatterplot(x=train_pred_values, y=train_true_values)\n",
    "    plt.xlabel('Predicted values')\n",
    "    plt.ylabel('True values')\n",
    "    plt.title('Train sample prediction')\n",
    "    \n",
    "    plt.subplot(122)\n",
    "    sns.scatterplot(x=test_pred_values, y=test_true_values)\n",
    "    plt.xlabel('Predicted values')\n",
    "    plt.ylabel('True values')\n",
    "    plt.title('Test sample prediction')\n",
    "\n",
    "    plt.show()"
   ]
  },
  {
   "cell_type": "markdown",
   "id": "200f573e",
   "metadata": {},
   "source": [
    "### Загрузка данных:"
   ]
  },
  {
   "cell_type": "code",
   "execution_count": 5,
   "id": "4309f056",
   "metadata": {},
   "outputs": [],
   "source": [
    "TRAIN_DATASET_PATH = './/train.csv'\n",
    "TEST_DATASET_PATH = './/test.csv'\n",
    "TRAIN_PREPARED_DATASET_PATH = './/prepared_train_hard.csv'\n",
    "TEST_PREPARED_DATASET_PATH = './/prepared_test_hard.csv'"
   ]
  },
  {
   "cell_type": "markdown",
   "id": "0b34d144",
   "metadata": {},
   "source": [
    "### Обзор датасета:"
   ]
  },
  {
   "cell_type": "code",
   "execution_count": 6,
   "id": "fff5f602",
   "metadata": {},
   "outputs": [
    {
     "data": {
      "text/html": [
       "<div>\n",
       "<style scoped>\n",
       "    .dataframe tbody tr th:only-of-type {\n",
       "        vertical-align: middle;\n",
       "    }\n",
       "\n",
       "    .dataframe tbody tr th {\n",
       "        vertical-align: top;\n",
       "    }\n",
       "\n",
       "    .dataframe thead th {\n",
       "        text-align: right;\n",
       "    }\n",
       "</style>\n",
       "<table border=\"1\" class=\"dataframe\">\n",
       "  <thead>\n",
       "    <tr style=\"text-align: right;\">\n",
       "      <th></th>\n",
       "      <th>Id</th>\n",
       "      <th>DistrictId</th>\n",
       "      <th>Rooms</th>\n",
       "      <th>Square</th>\n",
       "      <th>LifeSquare</th>\n",
       "      <th>KitchenSquare</th>\n",
       "      <th>Floor</th>\n",
       "      <th>HouseFloor</th>\n",
       "      <th>HouseYear</th>\n",
       "      <th>Ecology_1</th>\n",
       "      <th>Ecology_2</th>\n",
       "      <th>Ecology_3</th>\n",
       "      <th>Social_1</th>\n",
       "      <th>Social_2</th>\n",
       "      <th>Social_3</th>\n",
       "      <th>Healthcare_1</th>\n",
       "      <th>Helthcare_2</th>\n",
       "      <th>Shops_1</th>\n",
       "      <th>Shops_2</th>\n",
       "      <th>Price</th>\n",
       "    </tr>\n",
       "  </thead>\n",
       "  <tbody>\n",
       "    <tr>\n",
       "      <th>0</th>\n",
       "      <td>11809</td>\n",
       "      <td>27</td>\n",
       "      <td>3.0</td>\n",
       "      <td>115.027311</td>\n",
       "      <td>NaN</td>\n",
       "      <td>10.0</td>\n",
       "      <td>4</td>\n",
       "      <td>10.0</td>\n",
       "      <td>2014</td>\n",
       "      <td>0.075424</td>\n",
       "      <td>B</td>\n",
       "      <td>B</td>\n",
       "      <td>11</td>\n",
       "      <td>3097</td>\n",
       "      <td>0</td>\n",
       "      <td>NaN</td>\n",
       "      <td>0</td>\n",
       "      <td>0</td>\n",
       "      <td>B</td>\n",
       "      <td>305018.871089</td>\n",
       "    </tr>\n",
       "    <tr>\n",
       "      <th>1</th>\n",
       "      <td>3013</td>\n",
       "      <td>22</td>\n",
       "      <td>1.0</td>\n",
       "      <td>39.832524</td>\n",
       "      <td>23.169223</td>\n",
       "      <td>8.0</td>\n",
       "      <td>7</td>\n",
       "      <td>8.0</td>\n",
       "      <td>1966</td>\n",
       "      <td>0.118537</td>\n",
       "      <td>B</td>\n",
       "      <td>B</td>\n",
       "      <td>30</td>\n",
       "      <td>6207</td>\n",
       "      <td>1</td>\n",
       "      <td>1183.0</td>\n",
       "      <td>1</td>\n",
       "      <td>0</td>\n",
       "      <td>B</td>\n",
       "      <td>177734.553407</td>\n",
       "    </tr>\n",
       "    <tr>\n",
       "      <th>2</th>\n",
       "      <td>8215</td>\n",
       "      <td>1</td>\n",
       "      <td>3.0</td>\n",
       "      <td>78.342215</td>\n",
       "      <td>47.671972</td>\n",
       "      <td>10.0</td>\n",
       "      <td>2</td>\n",
       "      <td>17.0</td>\n",
       "      <td>1988</td>\n",
       "      <td>0.025609</td>\n",
       "      <td>B</td>\n",
       "      <td>B</td>\n",
       "      <td>33</td>\n",
       "      <td>5261</td>\n",
       "      <td>0</td>\n",
       "      <td>240.0</td>\n",
       "      <td>3</td>\n",
       "      <td>1</td>\n",
       "      <td>B</td>\n",
       "      <td>282078.720850</td>\n",
       "    </tr>\n",
       "    <tr>\n",
       "      <th>3</th>\n",
       "      <td>2352</td>\n",
       "      <td>1</td>\n",
       "      <td>1.0</td>\n",
       "      <td>40.409907</td>\n",
       "      <td>NaN</td>\n",
       "      <td>1.0</td>\n",
       "      <td>10</td>\n",
       "      <td>22.0</td>\n",
       "      <td>1977</td>\n",
       "      <td>0.007122</td>\n",
       "      <td>B</td>\n",
       "      <td>B</td>\n",
       "      <td>1</td>\n",
       "      <td>264</td>\n",
       "      <td>0</td>\n",
       "      <td>NaN</td>\n",
       "      <td>0</td>\n",
       "      <td>1</td>\n",
       "      <td>B</td>\n",
       "      <td>168106.007630</td>\n",
       "    </tr>\n",
       "    <tr>\n",
       "      <th>4</th>\n",
       "      <td>13866</td>\n",
       "      <td>94</td>\n",
       "      <td>2.0</td>\n",
       "      <td>64.285067</td>\n",
       "      <td>38.562517</td>\n",
       "      <td>9.0</td>\n",
       "      <td>16</td>\n",
       "      <td>16.0</td>\n",
       "      <td>1972</td>\n",
       "      <td>0.282798</td>\n",
       "      <td>B</td>\n",
       "      <td>B</td>\n",
       "      <td>33</td>\n",
       "      <td>8667</td>\n",
       "      <td>2</td>\n",
       "      <td>NaN</td>\n",
       "      <td>0</td>\n",
       "      <td>6</td>\n",
       "      <td>B</td>\n",
       "      <td>343995.102962</td>\n",
       "    </tr>\n",
       "  </tbody>\n",
       "</table>\n",
       "</div>"
      ],
      "text/plain": [
       "      Id  DistrictId  Rooms      Square  LifeSquare  KitchenSquare  Floor  \\\n",
       "0  11809          27    3.0  115.027311         NaN           10.0      4   \n",
       "1   3013          22    1.0   39.832524   23.169223            8.0      7   \n",
       "2   8215           1    3.0   78.342215   47.671972           10.0      2   \n",
       "3   2352           1    1.0   40.409907         NaN            1.0     10   \n",
       "4  13866          94    2.0   64.285067   38.562517            9.0     16   \n",
       "\n",
       "   HouseFloor  HouseYear  Ecology_1 Ecology_2 Ecology_3  Social_1  Social_2  \\\n",
       "0        10.0       2014   0.075424         B         B        11      3097   \n",
       "1         8.0       1966   0.118537         B         B        30      6207   \n",
       "2        17.0       1988   0.025609         B         B        33      5261   \n",
       "3        22.0       1977   0.007122         B         B         1       264   \n",
       "4        16.0       1972   0.282798         B         B        33      8667   \n",
       "\n",
       "   Social_3  Healthcare_1  Helthcare_2  Shops_1 Shops_2          Price  \n",
       "0         0           NaN            0        0       B  305018.871089  \n",
       "1         1        1183.0            1        0       B  177734.553407  \n",
       "2         0         240.0            3        1       B  282078.720850  \n",
       "3         0           NaN            0        1       B  168106.007630  \n",
       "4         2           NaN            0        6       B  343995.102962  "
      ]
     },
     "execution_count": 6,
     "metadata": {},
     "output_type": "execute_result"
    }
   ],
   "source": [
    "dftr = pd.read_csv(TRAIN_DATASET_PATH, sep=',')\n",
    "dftr.head()"
   ]
  },
  {
   "cell_type": "code",
   "execution_count": 7,
   "id": "defe31db",
   "metadata": {},
   "outputs": [
    {
     "data": {
      "text/html": [
       "<div>\n",
       "<style scoped>\n",
       "    .dataframe tbody tr th:only-of-type {\n",
       "        vertical-align: middle;\n",
       "    }\n",
       "\n",
       "    .dataframe tbody tr th {\n",
       "        vertical-align: top;\n",
       "    }\n",
       "\n",
       "    .dataframe thead th {\n",
       "        text-align: right;\n",
       "    }\n",
       "</style>\n",
       "<table border=\"1\" class=\"dataframe\">\n",
       "  <thead>\n",
       "    <tr style=\"text-align: right;\">\n",
       "      <th></th>\n",
       "      <th>Id</th>\n",
       "      <th>DistrictId</th>\n",
       "      <th>Rooms</th>\n",
       "      <th>Square</th>\n",
       "      <th>LifeSquare</th>\n",
       "      <th>KitchenSquare</th>\n",
       "      <th>Floor</th>\n",
       "      <th>HouseFloor</th>\n",
       "      <th>HouseYear</th>\n",
       "      <th>Ecology_1</th>\n",
       "      <th>Ecology_2</th>\n",
       "      <th>Ecology_3</th>\n",
       "      <th>Social_1</th>\n",
       "      <th>Social_2</th>\n",
       "      <th>Social_3</th>\n",
       "      <th>Healthcare_1</th>\n",
       "      <th>Helthcare_2</th>\n",
       "      <th>Shops_1</th>\n",
       "      <th>Shops_2</th>\n",
       "    </tr>\n",
       "  </thead>\n",
       "  <tbody>\n",
       "    <tr>\n",
       "      <th>0</th>\n",
       "      <td>4567</td>\n",
       "      <td>44</td>\n",
       "      <td>1.0</td>\n",
       "      <td>36.847630</td>\n",
       "      <td>19.094182</td>\n",
       "      <td>5.0</td>\n",
       "      <td>5</td>\n",
       "      <td>9.0</td>\n",
       "      <td>1970</td>\n",
       "      <td>0.036122</td>\n",
       "      <td>B</td>\n",
       "      <td>B</td>\n",
       "      <td>24</td>\n",
       "      <td>4378</td>\n",
       "      <td>0</td>\n",
       "      <td>1036.0</td>\n",
       "      <td>1</td>\n",
       "      <td>1</td>\n",
       "      <td>B</td>\n",
       "    </tr>\n",
       "    <tr>\n",
       "      <th>1</th>\n",
       "      <td>5925</td>\n",
       "      <td>62</td>\n",
       "      <td>1.0</td>\n",
       "      <td>42.493907</td>\n",
       "      <td>42.568133</td>\n",
       "      <td>10.0</td>\n",
       "      <td>7</td>\n",
       "      <td>17.0</td>\n",
       "      <td>2017</td>\n",
       "      <td>0.072158</td>\n",
       "      <td>B</td>\n",
       "      <td>B</td>\n",
       "      <td>2</td>\n",
       "      <td>629</td>\n",
       "      <td>1</td>\n",
       "      <td>NaN</td>\n",
       "      <td>0</td>\n",
       "      <td>0</td>\n",
       "      <td>A</td>\n",
       "    </tr>\n",
       "    <tr>\n",
       "      <th>2</th>\n",
       "      <td>960</td>\n",
       "      <td>27</td>\n",
       "      <td>2.0</td>\n",
       "      <td>59.463678</td>\n",
       "      <td>NaN</td>\n",
       "      <td>9.0</td>\n",
       "      <td>19</td>\n",
       "      <td>19.0</td>\n",
       "      <td>1977</td>\n",
       "      <td>0.211401</td>\n",
       "      <td>B</td>\n",
       "      <td>B</td>\n",
       "      <td>9</td>\n",
       "      <td>1892</td>\n",
       "      <td>0</td>\n",
       "      <td>NaN</td>\n",
       "      <td>0</td>\n",
       "      <td>1</td>\n",
       "      <td>B</td>\n",
       "    </tr>\n",
       "    <tr>\n",
       "      <th>3</th>\n",
       "      <td>3848</td>\n",
       "      <td>23</td>\n",
       "      <td>3.0</td>\n",
       "      <td>49.646030</td>\n",
       "      <td>33.893825</td>\n",
       "      <td>6.0</td>\n",
       "      <td>2</td>\n",
       "      <td>2.0</td>\n",
       "      <td>1965</td>\n",
       "      <td>0.014073</td>\n",
       "      <td>B</td>\n",
       "      <td>B</td>\n",
       "      <td>2</td>\n",
       "      <td>475</td>\n",
       "      <td>0</td>\n",
       "      <td>NaN</td>\n",
       "      <td>0</td>\n",
       "      <td>0</td>\n",
       "      <td>B</td>\n",
       "    </tr>\n",
       "    <tr>\n",
       "      <th>4</th>\n",
       "      <td>746</td>\n",
       "      <td>74</td>\n",
       "      <td>1.0</td>\n",
       "      <td>53.837056</td>\n",
       "      <td>NaN</td>\n",
       "      <td>1.0</td>\n",
       "      <td>8</td>\n",
       "      <td>17.0</td>\n",
       "      <td>1977</td>\n",
       "      <td>0.309479</td>\n",
       "      <td>B</td>\n",
       "      <td>B</td>\n",
       "      <td>35</td>\n",
       "      <td>7715</td>\n",
       "      <td>4</td>\n",
       "      <td>990.0</td>\n",
       "      <td>0</td>\n",
       "      <td>6</td>\n",
       "      <td>B</td>\n",
       "    </tr>\n",
       "  </tbody>\n",
       "</table>\n",
       "</div>"
      ],
      "text/plain": [
       "     Id  DistrictId  Rooms     Square  LifeSquare  KitchenSquare  Floor  \\\n",
       "0  4567          44    1.0  36.847630   19.094182            5.0      5   \n",
       "1  5925          62    1.0  42.493907   42.568133           10.0      7   \n",
       "2   960          27    2.0  59.463678         NaN            9.0     19   \n",
       "3  3848          23    3.0  49.646030   33.893825            6.0      2   \n",
       "4   746          74    1.0  53.837056         NaN            1.0      8   \n",
       "\n",
       "   HouseFloor  HouseYear  Ecology_1 Ecology_2 Ecology_3  Social_1  Social_2  \\\n",
       "0         9.0       1970   0.036122         B         B        24      4378   \n",
       "1        17.0       2017   0.072158         B         B         2       629   \n",
       "2        19.0       1977   0.211401         B         B         9      1892   \n",
       "3         2.0       1965   0.014073         B         B         2       475   \n",
       "4        17.0       1977   0.309479         B         B        35      7715   \n",
       "\n",
       "   Social_3  Healthcare_1  Helthcare_2  Shops_1 Shops_2  \n",
       "0         0        1036.0            1        1       B  \n",
       "1         1           NaN            0        0       A  \n",
       "2         0           NaN            0        1       B  \n",
       "3         0           NaN            0        0       B  \n",
       "4         4         990.0            0        6       B  "
      ]
     },
     "execution_count": 7,
     "metadata": {},
     "output_type": "execute_result"
    }
   ],
   "source": [
    "dftst = pd.read_csv(TEST_DATASET_PATH, sep=',')\n",
    "dftst.head()"
   ]
  },
  {
   "cell_type": "code",
   "execution_count": 8,
   "id": "b815965c",
   "metadata": {},
   "outputs": [
    {
     "name": "stdout",
     "output_type": "stream",
     "text": [
      "<class 'pandas.core.frame.DataFrame'>\n",
      "RangeIndex: 10000 entries, 0 to 9999\n",
      "Data columns (total 20 columns):\n",
      " #   Column         Non-Null Count  Dtype  \n",
      "---  ------         --------------  -----  \n",
      " 0   Id             10000 non-null  int64  \n",
      " 1   DistrictId     10000 non-null  int64  \n",
      " 2   Rooms          10000 non-null  float64\n",
      " 3   Square         10000 non-null  float64\n",
      " 4   LifeSquare     7887 non-null   float64\n",
      " 5   KitchenSquare  10000 non-null  float64\n",
      " 6   Floor          10000 non-null  int64  \n",
      " 7   HouseFloor     10000 non-null  float64\n",
      " 8   HouseYear      10000 non-null  int64  \n",
      " 9   Ecology_1      10000 non-null  float64\n",
      " 10  Ecology_2      10000 non-null  object \n",
      " 11  Ecology_3      10000 non-null  object \n",
      " 12  Social_1       10000 non-null  int64  \n",
      " 13  Social_2       10000 non-null  int64  \n",
      " 14  Social_3       10000 non-null  int64  \n",
      " 15  Healthcare_1   5202 non-null   float64\n",
      " 16  Helthcare_2    10000 non-null  int64  \n",
      " 17  Shops_1        10000 non-null  int64  \n",
      " 18  Shops_2        10000 non-null  object \n",
      " 19  Price          10000 non-null  float64\n",
      "dtypes: float64(8), int64(9), object(3)\n",
      "memory usage: 3.0 MB\n"
     ]
    }
   ],
   "source": [
    "dftr.info(memory_usage='deep')"
   ]
  },
  {
   "cell_type": "code",
   "execution_count": 9,
   "id": "7d372444",
   "metadata": {},
   "outputs": [
    {
     "name": "stdout",
     "output_type": "stream",
     "text": [
      "<class 'pandas.core.frame.DataFrame'>\n",
      "RangeIndex: 5000 entries, 0 to 4999\n",
      "Data columns (total 19 columns):\n",
      " #   Column         Non-Null Count  Dtype  \n",
      "---  ------         --------------  -----  \n",
      " 0   Id             5000 non-null   int64  \n",
      " 1   DistrictId     5000 non-null   int64  \n",
      " 2   Rooms          5000 non-null   float64\n",
      " 3   Square         5000 non-null   float64\n",
      " 4   LifeSquare     3959 non-null   float64\n",
      " 5   KitchenSquare  5000 non-null   float64\n",
      " 6   Floor          5000 non-null   int64  \n",
      " 7   HouseFloor     5000 non-null   float64\n",
      " 8   HouseYear      5000 non-null   int64  \n",
      " 9   Ecology_1      5000 non-null   float64\n",
      " 10  Ecology_2      5000 non-null   object \n",
      " 11  Ecology_3      5000 non-null   object \n",
      " 12  Social_1       5000 non-null   int64  \n",
      " 13  Social_2       5000 non-null   int64  \n",
      " 14  Social_3       5000 non-null   int64  \n",
      " 15  Healthcare_1   2623 non-null   float64\n",
      " 16  Helthcare_2    5000 non-null   int64  \n",
      " 17  Shops_1        5000 non-null   int64  \n",
      " 18  Shops_2        5000 non-null   object \n",
      "dtypes: float64(7), int64(9), object(3)\n",
      "memory usage: 1.4 MB\n"
     ]
    }
   ],
   "source": [
    "dftst.info(memory_usage='deep')"
   ]
  },
  {
   "cell_type": "code",
   "execution_count": 10,
   "id": "882e1e62",
   "metadata": {},
   "outputs": [
    {
     "data": {
      "text/plain": [
       "RangeIndex(start=0, stop=10000, step=1)"
      ]
     },
     "execution_count": 10,
     "metadata": {},
     "output_type": "execute_result"
    }
   ],
   "source": [
    "dftr.index"
   ]
  },
  {
   "cell_type": "code",
   "execution_count": 11,
   "id": "b58c7d52",
   "metadata": {},
   "outputs": [
    {
     "data": {
      "text/plain": [
       "RangeIndex(start=0, stop=5000, step=1)"
      ]
     },
     "execution_count": 11,
     "metadata": {},
     "output_type": "execute_result"
    }
   ],
   "source": [
    "dftst.index"
   ]
  },
  {
   "cell_type": "markdown",
   "id": "952a7c68",
   "metadata": {},
   "source": [
    "### Оценка и приведение типов:"
   ]
  },
  {
   "cell_type": "code",
   "execution_count": 12,
   "id": "0eb6782b",
   "metadata": {},
   "outputs": [
    {
     "data": {
      "text/html": [
       "<div>\n",
       "<style scoped>\n",
       "    .dataframe tbody tr th:only-of-type {\n",
       "        vertical-align: middle;\n",
       "    }\n",
       "\n",
       "    .dataframe tbody tr th {\n",
       "        vertical-align: top;\n",
       "    }\n",
       "\n",
       "    .dataframe thead th {\n",
       "        text-align: right;\n",
       "    }\n",
       "</style>\n",
       "<table border=\"1\" class=\"dataframe\">\n",
       "  <thead>\n",
       "    <tr style=\"text-align: right;\">\n",
       "      <th></th>\n",
       "      <th>Id</th>\n",
       "      <th>DistrictId</th>\n",
       "      <th>Rooms</th>\n",
       "      <th>Square</th>\n",
       "      <th>LifeSquare</th>\n",
       "      <th>KitchenSquare</th>\n",
       "      <th>Floor</th>\n",
       "      <th>HouseFloor</th>\n",
       "      <th>HouseYear</th>\n",
       "      <th>Ecology_1</th>\n",
       "      <th>Social_1</th>\n",
       "      <th>Social_2</th>\n",
       "      <th>Social_3</th>\n",
       "      <th>Healthcare_1</th>\n",
       "      <th>Helthcare_2</th>\n",
       "      <th>Shops_1</th>\n",
       "      <th>Price</th>\n",
       "    </tr>\n",
       "  </thead>\n",
       "  <tbody>\n",
       "    <tr>\n",
       "      <th>count</th>\n",
       "      <td>10000.00000</td>\n",
       "      <td>10000.000000</td>\n",
       "      <td>10000.000000</td>\n",
       "      <td>10000.000000</td>\n",
       "      <td>7887.000000</td>\n",
       "      <td>10000.000000</td>\n",
       "      <td>10000.000000</td>\n",
       "      <td>10000.000000</td>\n",
       "      <td>1.000000e+04</td>\n",
       "      <td>10000.000000</td>\n",
       "      <td>10000.000000</td>\n",
       "      <td>10000.000000</td>\n",
       "      <td>10000.000000</td>\n",
       "      <td>5202.000000</td>\n",
       "      <td>10000.000000</td>\n",
       "      <td>10000.000000</td>\n",
       "      <td>10000.000000</td>\n",
       "    </tr>\n",
       "    <tr>\n",
       "      <th>mean</th>\n",
       "      <td>8383.40770</td>\n",
       "      <td>50.400800</td>\n",
       "      <td>1.890500</td>\n",
       "      <td>56.315775</td>\n",
       "      <td>37.199645</td>\n",
       "      <td>6.273300</td>\n",
       "      <td>8.526700</td>\n",
       "      <td>12.609400</td>\n",
       "      <td>3.990166e+03</td>\n",
       "      <td>0.118858</td>\n",
       "      <td>24.687000</td>\n",
       "      <td>5352.157400</td>\n",
       "      <td>8.039200</td>\n",
       "      <td>1142.904460</td>\n",
       "      <td>1.319500</td>\n",
       "      <td>4.231300</td>\n",
       "      <td>214138.857399</td>\n",
       "    </tr>\n",
       "    <tr>\n",
       "      <th>std</th>\n",
       "      <td>4859.01902</td>\n",
       "      <td>43.587592</td>\n",
       "      <td>0.839512</td>\n",
       "      <td>21.058732</td>\n",
       "      <td>86.241209</td>\n",
       "      <td>28.560917</td>\n",
       "      <td>5.241148</td>\n",
       "      <td>6.775974</td>\n",
       "      <td>2.005003e+05</td>\n",
       "      <td>0.119025</td>\n",
       "      <td>17.532614</td>\n",
       "      <td>4006.799803</td>\n",
       "      <td>23.831875</td>\n",
       "      <td>1021.517264</td>\n",
       "      <td>1.493601</td>\n",
       "      <td>4.806341</td>\n",
       "      <td>92872.293865</td>\n",
       "    </tr>\n",
       "    <tr>\n",
       "      <th>min</th>\n",
       "      <td>0.00000</td>\n",
       "      <td>0.000000</td>\n",
       "      <td>0.000000</td>\n",
       "      <td>1.136859</td>\n",
       "      <td>0.370619</td>\n",
       "      <td>0.000000</td>\n",
       "      <td>1.000000</td>\n",
       "      <td>0.000000</td>\n",
       "      <td>1.910000e+03</td>\n",
       "      <td>0.000000</td>\n",
       "      <td>0.000000</td>\n",
       "      <td>168.000000</td>\n",
       "      <td>0.000000</td>\n",
       "      <td>0.000000</td>\n",
       "      <td>0.000000</td>\n",
       "      <td>0.000000</td>\n",
       "      <td>59174.778028</td>\n",
       "    </tr>\n",
       "    <tr>\n",
       "      <th>25%</th>\n",
       "      <td>4169.50000</td>\n",
       "      <td>20.000000</td>\n",
       "      <td>1.000000</td>\n",
       "      <td>41.774881</td>\n",
       "      <td>22.769832</td>\n",
       "      <td>1.000000</td>\n",
       "      <td>4.000000</td>\n",
       "      <td>9.000000</td>\n",
       "      <td>1.974000e+03</td>\n",
       "      <td>0.017647</td>\n",
       "      <td>6.000000</td>\n",
       "      <td>1564.000000</td>\n",
       "      <td>0.000000</td>\n",
       "      <td>350.000000</td>\n",
       "      <td>0.000000</td>\n",
       "      <td>1.000000</td>\n",
       "      <td>153872.633942</td>\n",
       "    </tr>\n",
       "    <tr>\n",
       "      <th>50%</th>\n",
       "      <td>8394.50000</td>\n",
       "      <td>36.000000</td>\n",
       "      <td>2.000000</td>\n",
       "      <td>52.513310</td>\n",
       "      <td>32.781260</td>\n",
       "      <td>6.000000</td>\n",
       "      <td>7.000000</td>\n",
       "      <td>13.000000</td>\n",
       "      <td>1.977000e+03</td>\n",
       "      <td>0.075424</td>\n",
       "      <td>25.000000</td>\n",
       "      <td>5285.000000</td>\n",
       "      <td>2.000000</td>\n",
       "      <td>900.000000</td>\n",
       "      <td>1.000000</td>\n",
       "      <td>3.000000</td>\n",
       "      <td>192269.644879</td>\n",
       "    </tr>\n",
       "    <tr>\n",
       "      <th>75%</th>\n",
       "      <td>12592.50000</td>\n",
       "      <td>75.000000</td>\n",
       "      <td>2.000000</td>\n",
       "      <td>65.900625</td>\n",
       "      <td>45.128803</td>\n",
       "      <td>9.000000</td>\n",
       "      <td>12.000000</td>\n",
       "      <td>17.000000</td>\n",
       "      <td>2.001000e+03</td>\n",
       "      <td>0.195781</td>\n",
       "      <td>36.000000</td>\n",
       "      <td>7227.000000</td>\n",
       "      <td>5.000000</td>\n",
       "      <td>1548.000000</td>\n",
       "      <td>2.000000</td>\n",
       "      <td>6.000000</td>\n",
       "      <td>249135.462171</td>\n",
       "    </tr>\n",
       "    <tr>\n",
       "      <th>max</th>\n",
       "      <td>16798.00000</td>\n",
       "      <td>209.000000</td>\n",
       "      <td>19.000000</td>\n",
       "      <td>641.065193</td>\n",
       "      <td>7480.592129</td>\n",
       "      <td>2014.000000</td>\n",
       "      <td>42.000000</td>\n",
       "      <td>117.000000</td>\n",
       "      <td>2.005201e+07</td>\n",
       "      <td>0.521867</td>\n",
       "      <td>74.000000</td>\n",
       "      <td>19083.000000</td>\n",
       "      <td>141.000000</td>\n",
       "      <td>4849.000000</td>\n",
       "      <td>6.000000</td>\n",
       "      <td>23.000000</td>\n",
       "      <td>633233.466570</td>\n",
       "    </tr>\n",
       "  </tbody>\n",
       "</table>\n",
       "</div>"
      ],
      "text/plain": [
       "                Id    DistrictId         Rooms        Square   LifeSquare  \\\n",
       "count  10000.00000  10000.000000  10000.000000  10000.000000  7887.000000   \n",
       "mean    8383.40770     50.400800      1.890500     56.315775    37.199645   \n",
       "std     4859.01902     43.587592      0.839512     21.058732    86.241209   \n",
       "min        0.00000      0.000000      0.000000      1.136859     0.370619   \n",
       "25%     4169.50000     20.000000      1.000000     41.774881    22.769832   \n",
       "50%     8394.50000     36.000000      2.000000     52.513310    32.781260   \n",
       "75%    12592.50000     75.000000      2.000000     65.900625    45.128803   \n",
       "max    16798.00000    209.000000     19.000000    641.065193  7480.592129   \n",
       "\n",
       "       KitchenSquare         Floor    HouseFloor     HouseYear     Ecology_1  \\\n",
       "count   10000.000000  10000.000000  10000.000000  1.000000e+04  10000.000000   \n",
       "mean        6.273300      8.526700     12.609400  3.990166e+03      0.118858   \n",
       "std        28.560917      5.241148      6.775974  2.005003e+05      0.119025   \n",
       "min         0.000000      1.000000      0.000000  1.910000e+03      0.000000   \n",
       "25%         1.000000      4.000000      9.000000  1.974000e+03      0.017647   \n",
       "50%         6.000000      7.000000     13.000000  1.977000e+03      0.075424   \n",
       "75%         9.000000     12.000000     17.000000  2.001000e+03      0.195781   \n",
       "max      2014.000000     42.000000    117.000000  2.005201e+07      0.521867   \n",
       "\n",
       "           Social_1      Social_2      Social_3  Healthcare_1   Helthcare_2  \\\n",
       "count  10000.000000  10000.000000  10000.000000   5202.000000  10000.000000   \n",
       "mean      24.687000   5352.157400      8.039200   1142.904460      1.319500   \n",
       "std       17.532614   4006.799803     23.831875   1021.517264      1.493601   \n",
       "min        0.000000    168.000000      0.000000      0.000000      0.000000   \n",
       "25%        6.000000   1564.000000      0.000000    350.000000      0.000000   \n",
       "50%       25.000000   5285.000000      2.000000    900.000000      1.000000   \n",
       "75%       36.000000   7227.000000      5.000000   1548.000000      2.000000   \n",
       "max       74.000000  19083.000000    141.000000   4849.000000      6.000000   \n",
       "\n",
       "            Shops_1          Price  \n",
       "count  10000.000000   10000.000000  \n",
       "mean       4.231300  214138.857399  \n",
       "std        4.806341   92872.293865  \n",
       "min        0.000000   59174.778028  \n",
       "25%        1.000000  153872.633942  \n",
       "50%        3.000000  192269.644879  \n",
       "75%        6.000000  249135.462171  \n",
       "max       23.000000  633233.466570  "
      ]
     },
     "execution_count": 12,
     "metadata": {},
     "output_type": "execute_result"
    }
   ],
   "source": [
    "dftr.describe()"
   ]
  },
  {
   "cell_type": "code",
   "execution_count": 13,
   "id": "32168283",
   "metadata": {},
   "outputs": [
    {
     "data": {
      "text/html": [
       "<div>\n",
       "<style scoped>\n",
       "    .dataframe tbody tr th:only-of-type {\n",
       "        vertical-align: middle;\n",
       "    }\n",
       "\n",
       "    .dataframe tbody tr th {\n",
       "        vertical-align: top;\n",
       "    }\n",
       "\n",
       "    .dataframe thead th {\n",
       "        text-align: right;\n",
       "    }\n",
       "</style>\n",
       "<table border=\"1\" class=\"dataframe\">\n",
       "  <thead>\n",
       "    <tr style=\"text-align: right;\">\n",
       "      <th></th>\n",
       "      <th>Id</th>\n",
       "      <th>DistrictId</th>\n",
       "      <th>Rooms</th>\n",
       "      <th>Square</th>\n",
       "      <th>LifeSquare</th>\n",
       "      <th>KitchenSquare</th>\n",
       "      <th>Floor</th>\n",
       "      <th>HouseFloor</th>\n",
       "      <th>HouseYear</th>\n",
       "      <th>Ecology_1</th>\n",
       "      <th>Social_1</th>\n",
       "      <th>Social_2</th>\n",
       "      <th>Social_3</th>\n",
       "      <th>Healthcare_1</th>\n",
       "      <th>Helthcare_2</th>\n",
       "      <th>Shops_1</th>\n",
       "    </tr>\n",
       "  </thead>\n",
       "  <tbody>\n",
       "    <tr>\n",
       "      <th>count</th>\n",
       "      <td>5000.000000</td>\n",
       "      <td>5000.000000</td>\n",
       "      <td>5000.000000</td>\n",
       "      <td>5000.000000</td>\n",
       "      <td>3959.000000</td>\n",
       "      <td>5000.000000</td>\n",
       "      <td>5000.000000</td>\n",
       "      <td>5000.000000</td>\n",
       "      <td>5000.000000</td>\n",
       "      <td>5000.000000</td>\n",
       "      <td>5000.000000</td>\n",
       "      <td>5000.000000</td>\n",
       "      <td>5000.000000</td>\n",
       "      <td>2623.000000</td>\n",
       "      <td>5000.00000</td>\n",
       "      <td>5000.000000</td>\n",
       "    </tr>\n",
       "    <tr>\n",
       "      <th>mean</th>\n",
       "      <td>8412.595400</td>\n",
       "      <td>51.279200</td>\n",
       "      <td>1.910000</td>\n",
       "      <td>56.449500</td>\n",
       "      <td>36.158810</td>\n",
       "      <td>5.976800</td>\n",
       "      <td>8.632000</td>\n",
       "      <td>12.601000</td>\n",
       "      <td>1984.392600</td>\n",
       "      <td>0.119874</td>\n",
       "      <td>24.933800</td>\n",
       "      <td>5406.900000</td>\n",
       "      <td>8.262600</td>\n",
       "      <td>1146.657263</td>\n",
       "      <td>1.31940</td>\n",
       "      <td>4.242800</td>\n",
       "    </tr>\n",
       "    <tr>\n",
       "      <th>std</th>\n",
       "      <td>4832.674037</td>\n",
       "      <td>44.179466</td>\n",
       "      <td>0.838594</td>\n",
       "      <td>19.092787</td>\n",
       "      <td>17.825287</td>\n",
       "      <td>9.950018</td>\n",
       "      <td>5.483228</td>\n",
       "      <td>6.789213</td>\n",
       "      <td>18.573149</td>\n",
       "      <td>0.120070</td>\n",
       "      <td>17.532202</td>\n",
       "      <td>4026.614773</td>\n",
       "      <td>23.863762</td>\n",
       "      <td>1044.744231</td>\n",
       "      <td>1.47994</td>\n",
       "      <td>4.777365</td>\n",
       "    </tr>\n",
       "    <tr>\n",
       "      <th>min</th>\n",
       "      <td>1.000000</td>\n",
       "      <td>0.000000</td>\n",
       "      <td>0.000000</td>\n",
       "      <td>1.378543</td>\n",
       "      <td>0.333490</td>\n",
       "      <td>0.000000</td>\n",
       "      <td>1.000000</td>\n",
       "      <td>0.000000</td>\n",
       "      <td>1908.000000</td>\n",
       "      <td>0.000000</td>\n",
       "      <td>0.000000</td>\n",
       "      <td>168.000000</td>\n",
       "      <td>0.000000</td>\n",
       "      <td>0.000000</td>\n",
       "      <td>0.00000</td>\n",
       "      <td>0.000000</td>\n",
       "    </tr>\n",
       "    <tr>\n",
       "      <th>25%</th>\n",
       "      <td>4221.750000</td>\n",
       "      <td>21.000000</td>\n",
       "      <td>1.000000</td>\n",
       "      <td>41.906231</td>\n",
       "      <td>23.092026</td>\n",
       "      <td>1.000000</td>\n",
       "      <td>4.000000</td>\n",
       "      <td>9.000000</td>\n",
       "      <td>1973.000000</td>\n",
       "      <td>0.019509</td>\n",
       "      <td>6.000000</td>\n",
       "      <td>1564.000000</td>\n",
       "      <td>0.000000</td>\n",
       "      <td>325.000000</td>\n",
       "      <td>0.00000</td>\n",
       "      <td>1.000000</td>\n",
       "    </tr>\n",
       "    <tr>\n",
       "      <th>50%</th>\n",
       "      <td>8320.500000</td>\n",
       "      <td>37.000000</td>\n",
       "      <td>2.000000</td>\n",
       "      <td>52.921340</td>\n",
       "      <td>32.925087</td>\n",
       "      <td>6.000000</td>\n",
       "      <td>7.000000</td>\n",
       "      <td>12.000000</td>\n",
       "      <td>1977.000000</td>\n",
       "      <td>0.072158</td>\n",
       "      <td>25.000000</td>\n",
       "      <td>5285.000000</td>\n",
       "      <td>2.000000</td>\n",
       "      <td>900.000000</td>\n",
       "      <td>1.00000</td>\n",
       "      <td>3.000000</td>\n",
       "    </tr>\n",
       "    <tr>\n",
       "      <th>75%</th>\n",
       "      <td>12598.250000</td>\n",
       "      <td>77.000000</td>\n",
       "      <td>2.000000</td>\n",
       "      <td>66.285129</td>\n",
       "      <td>45.174091</td>\n",
       "      <td>9.000000</td>\n",
       "      <td>12.000000</td>\n",
       "      <td>17.000000</td>\n",
       "      <td>2000.000000</td>\n",
       "      <td>0.195781</td>\n",
       "      <td>36.000000</td>\n",
       "      <td>7287.000000</td>\n",
       "      <td>5.000000</td>\n",
       "      <td>1548.000000</td>\n",
       "      <td>2.00000</td>\n",
       "      <td>6.000000</td>\n",
       "    </tr>\n",
       "    <tr>\n",
       "      <th>max</th>\n",
       "      <td>16795.000000</td>\n",
       "      <td>212.000000</td>\n",
       "      <td>17.000000</td>\n",
       "      <td>223.453689</td>\n",
       "      <td>303.071094</td>\n",
       "      <td>620.000000</td>\n",
       "      <td>78.000000</td>\n",
       "      <td>99.000000</td>\n",
       "      <td>2020.000000</td>\n",
       "      <td>0.521867</td>\n",
       "      <td>74.000000</td>\n",
       "      <td>19083.000000</td>\n",
       "      <td>141.000000</td>\n",
       "      <td>4849.000000</td>\n",
       "      <td>6.00000</td>\n",
       "      <td>23.000000</td>\n",
       "    </tr>\n",
       "  </tbody>\n",
       "</table>\n",
       "</div>"
      ],
      "text/plain": [
       "                 Id   DistrictId        Rooms       Square   LifeSquare  \\\n",
       "count   5000.000000  5000.000000  5000.000000  5000.000000  3959.000000   \n",
       "mean    8412.595400    51.279200     1.910000    56.449500    36.158810   \n",
       "std     4832.674037    44.179466     0.838594    19.092787    17.825287   \n",
       "min        1.000000     0.000000     0.000000     1.378543     0.333490   \n",
       "25%     4221.750000    21.000000     1.000000    41.906231    23.092026   \n",
       "50%     8320.500000    37.000000     2.000000    52.921340    32.925087   \n",
       "75%    12598.250000    77.000000     2.000000    66.285129    45.174091   \n",
       "max    16795.000000   212.000000    17.000000   223.453689   303.071094   \n",
       "\n",
       "       KitchenSquare        Floor   HouseFloor    HouseYear    Ecology_1  \\\n",
       "count    5000.000000  5000.000000  5000.000000  5000.000000  5000.000000   \n",
       "mean        5.976800     8.632000    12.601000  1984.392600     0.119874   \n",
       "std         9.950018     5.483228     6.789213    18.573149     0.120070   \n",
       "min         0.000000     1.000000     0.000000  1908.000000     0.000000   \n",
       "25%         1.000000     4.000000     9.000000  1973.000000     0.019509   \n",
       "50%         6.000000     7.000000    12.000000  1977.000000     0.072158   \n",
       "75%         9.000000    12.000000    17.000000  2000.000000     0.195781   \n",
       "max       620.000000    78.000000    99.000000  2020.000000     0.521867   \n",
       "\n",
       "          Social_1      Social_2     Social_3  Healthcare_1  Helthcare_2  \\\n",
       "count  5000.000000   5000.000000  5000.000000   2623.000000   5000.00000   \n",
       "mean     24.933800   5406.900000     8.262600   1146.657263      1.31940   \n",
       "std      17.532202   4026.614773    23.863762   1044.744231      1.47994   \n",
       "min       0.000000    168.000000     0.000000      0.000000      0.00000   \n",
       "25%       6.000000   1564.000000     0.000000    325.000000      0.00000   \n",
       "50%      25.000000   5285.000000     2.000000    900.000000      1.00000   \n",
       "75%      36.000000   7287.000000     5.000000   1548.000000      2.00000   \n",
       "max      74.000000  19083.000000   141.000000   4849.000000      6.00000   \n",
       "\n",
       "           Shops_1  \n",
       "count  5000.000000  \n",
       "mean      4.242800  \n",
       "std       4.777365  \n",
       "min       0.000000  \n",
       "25%       1.000000  \n",
       "50%       3.000000  \n",
       "75%       6.000000  \n",
       "max      23.000000  "
      ]
     },
     "execution_count": 13,
     "metadata": {},
     "output_type": "execute_result"
    }
   ],
   "source": [
    "dftst.describe()"
   ]
  },
  {
   "cell_type": "code",
   "execution_count": 14,
   "id": "0167cc19",
   "metadata": {},
   "outputs": [
    {
     "data": {
      "text/plain": [
       "int64      9\n",
       "float64    8\n",
       "object     3\n",
       "dtype: int64"
      ]
     },
     "execution_count": 14,
     "metadata": {},
     "output_type": "execute_result"
    }
   ],
   "source": [
    "dftr.dtypes.value_counts()"
   ]
  },
  {
   "cell_type": "code",
   "execution_count": 15,
   "id": "adde6637",
   "metadata": {},
   "outputs": [
    {
     "data": {
      "text/plain": [
       "int64      9\n",
       "float64    7\n",
       "object     3\n",
       "dtype: int64"
      ]
     },
     "execution_count": 15,
     "metadata": {},
     "output_type": "execute_result"
    }
   ],
   "source": [
    "dftst.dtypes.value_counts()"
   ]
  },
  {
   "cell_type": "code",
   "execution_count": 16,
   "id": "12e6e98b",
   "metadata": {},
   "outputs": [],
   "source": [
    "dftr['Id'] = dftr['Id'].astype(str)\n",
    "dftr['DistrictId'] = dftr['DistrictId'].astype(str)\n",
    "dftr['Rooms'] = dftr['Rooms'].astype(int)\n",
    "dftr['Square'] = dftr['Square'].round(1)\n",
    "dftr['LifeSquare'] = dftr['LifeSquare'].round(1)\n",
    "dftr['KitchenSquare'] = dftr['KitchenSquare'].round(1)\n",
    "dftr['HouseFloor'] = dftr['HouseFloor'].astype(int)\n",
    "dftr['HouseYear'] = dftr['HouseYear'].astype(np.int16)\n",
    "dftr.rename(columns={'Helthcare_2': 'Healthcare_2'}, inplace=True)\n",
    "dftr['Price'] = dftr['Price'].round(2)"
   ]
  },
  {
   "cell_type": "code",
   "execution_count": 17,
   "id": "69953fc7",
   "metadata": {},
   "outputs": [],
   "source": [
    "dftst['Id'] = dftst['Id'].astype(str)\n",
    "dftst['DistrictId'] = dftst['DistrictId'].astype(str)\n",
    "dftst['Rooms'] = dftst['Rooms'].astype(int)\n",
    "dftst['Square'] = dftst['Square'].round(1)\n",
    "dftst['LifeSquare'] = dftst['LifeSquare'].round(1)\n",
    "dftst['KitchenSquare'] = dftst['KitchenSquare'].round(1)\n",
    "dftst['HouseFloor'] = dftst['HouseFloor'].astype(int)\n",
    "dftst['HouseYear'] = dftr['HouseYear'].astype(np.int16)\n",
    "dftst.rename(columns={'Helthcare_2': 'Healthcare_2'}, inplace=True)"
   ]
  },
  {
   "cell_type": "code",
   "execution_count": 18,
   "id": "d4aa2820",
   "metadata": {},
   "outputs": [
    {
     "data": {
      "text/plain": [
       "float64    6\n",
       "int64      6\n",
       "object     5\n",
       "int32      2\n",
       "int16      1\n",
       "dtype: int64"
      ]
     },
     "execution_count": 18,
     "metadata": {},
     "output_type": "execute_result"
    }
   ],
   "source": [
    "dftr.dtypes.value_counts()"
   ]
  },
  {
   "cell_type": "code",
   "execution_count": 19,
   "id": "a06f39db",
   "metadata": {},
   "outputs": [
    {
     "data": {
      "text/plain": [
       "int64      6\n",
       "object     5\n",
       "float64    5\n",
       "int32      2\n",
       "int16      1\n",
       "dtype: int64"
      ]
     },
     "execution_count": 19,
     "metadata": {},
     "output_type": "execute_result"
    }
   ],
   "source": [
    "dftst.dtypes.value_counts()"
   ]
  },
  {
   "cell_type": "markdown",
   "id": "6ee485d4",
   "metadata": {},
   "source": [
    "### Устранение отсутствующих значений:"
   ]
  },
  {
   "cell_type": "code",
   "execution_count": 20,
   "id": "68baafe1",
   "metadata": {},
   "outputs": [
    {
     "name": "stdout",
     "output_type": "stream",
     "text": [
      "4798\n",
      "2377\n"
     ]
    }
   ],
   "source": [
    "print(dftr['Healthcare_1'].isnull().sum())\n",
    "print(dftst['Healthcare_1'].isnull().sum())"
   ]
  },
  {
   "cell_type": "code",
   "execution_count": 21,
   "id": "7dc6cf7a",
   "metadata": {},
   "outputs": [
    {
     "name": "stdout",
     "output_type": "stream",
     "text": [
      "2113\n",
      "1041\n"
     ]
    }
   ],
   "source": [
    "print(dftr['LifeSquare'].isnull().sum())\n",
    "print(dftst['LifeSquare'].isnull().sum())"
   ]
  },
  {
   "cell_type": "code",
   "execution_count": 22,
   "id": "47d17a21",
   "metadata": {},
   "outputs": [
    {
     "name": "stdout",
     "output_type": "stream",
     "text": [
      "900.0\n",
      "900.0\n"
     ]
    }
   ],
   "source": [
    "print(dftr['Healthcare_1'].median())\n",
    "print(dftst['Healthcare_1'].median())"
   ]
  },
  {
   "cell_type": "code",
   "execution_count": 23,
   "id": "fc7db1a2",
   "metadata": {},
   "outputs": [
    {
     "name": "stdout",
     "output_type": "stream",
     "text": [
      "4798\n",
      "2377\n"
     ]
    }
   ],
   "source": [
    "dftr['Healthcare_1_nan'] = 0\n",
    "dftst['Healthcare_1_nan'] = 0\n",
    "dftr.loc[dftr['Healthcare_1'].isnull(), 'Healthcare_1_nan'] = 1\n",
    "dftst.loc[dftst['Healthcare_1'].isnull(), 'Healthcare_1_nan'] = 1\n",
    "print(dftr['Healthcare_1_nan'].sum())\n",
    "print(dftst['Healthcare_1_nan'].sum())"
   ]
  },
  {
   "cell_type": "code",
   "execution_count": 24,
   "id": "9db8a0f1",
   "metadata": {},
   "outputs": [],
   "source": [
    "HKmed = dftr['Healthcare_1'].median()\n",
    "dftr['Healthcare_1'] = dftr['Healthcare_1'].fillna(HKmed)\n",
    "dftst['Healthcare_1'] = dftst['Healthcare_1'].fillna(HKmed)"
   ]
  },
  {
   "cell_type": "code",
   "execution_count": 25,
   "id": "1ee6f1fe",
   "metadata": {},
   "outputs": [],
   "source": [
    "dftr['Healthcare_1'] = dftr['Healthcare_1'].astype(int)\n",
    "dftst['Healthcare_1'] = dftr['Healthcare_1'].astype(int)"
   ]
  },
  {
   "cell_type": "code",
   "execution_count": 26,
   "id": "a93dcfbb",
   "metadata": {},
   "outputs": [
    {
     "name": "stdout",
     "output_type": "stream",
     "text": [
      "2113\n",
      "1041\n"
     ]
    }
   ],
   "source": [
    "dftr['LifeSquare_nan'] = 0\n",
    "dftst['LifeSquare_nan'] = 0\n",
    "dftr.loc[dftr['LifeSquare'].isnull(), 'LifeSquare_nan'] = 1\n",
    "dftst.loc[dftst['LifeSquare'].isnull(), 'LifeSquare_nan'] = 1\n",
    "print(dftr['LifeSquare_nan'].sum())\n",
    "print(dftst['LifeSquare_nan'].sum())"
   ]
  },
  {
   "cell_type": "markdown",
   "id": "423fc71a",
   "metadata": {},
   "source": [
    "#### На этапе построения модели, после анализа признаков было принято решение удалить Healthcare_1_nan, а чуть ниже и LifeSquare_nan из датасета."
   ]
  },
  {
   "cell_type": "code",
   "execution_count": 27,
   "id": "2852e867",
   "metadata": {},
   "outputs": [],
   "source": [
    "dftr.drop('Healthcare_1_nan', axis=1, inplace=True)\n",
    "dftst.drop('Healthcare_1_nan', axis=1, inplace=True)\n"
   ]
  },
  {
   "cell_type": "markdown",
   "id": "78a5b54d",
   "metadata": {},
   "source": [
    "#### Перед тем как заполнять отсутствующие значения 'LifeSquare', введем новый признак 'OtherSquare', определяющий площадь коридоров, кладовок и лоджий из имеющихся данных."
   ]
  },
  {
   "cell_type": "code",
   "execution_count": 28,
   "id": "0a9d6f35",
   "metadata": {},
   "outputs": [],
   "source": [
    "dftr['OtherSquare'] = dftr['Square'] - (dftr['LifeSquare'] + dftr['KitchenSquare'])\n",
    "dftst['OtherSquare'] = dftst['Square'] - (dftst['LifeSquare'] + dftst['KitchenSquare'])"
   ]
  },
  {
   "cell_type": "code",
   "execution_count": 29,
   "id": "86b7b6f0",
   "metadata": {},
   "outputs": [
    {
     "data": {
      "text/plain": [
       "836"
      ]
     },
     "execution_count": 29,
     "metadata": {},
     "output_type": "execute_result"
    }
   ],
   "source": [
    "(dftr['OtherSquare'] < 0).sum()"
   ]
  },
  {
   "cell_type": "code",
   "execution_count": 30,
   "id": "ed7660d7",
   "metadata": {},
   "outputs": [
    {
     "data": {
      "text/plain": [
       "435"
      ]
     },
     "execution_count": 30,
     "metadata": {},
     "output_type": "execute_result"
    }
   ],
   "source": [
    "(dftst['OtherSquare'] < 0).sum()"
   ]
  },
  {
   "cell_type": "markdown",
   "id": "9f556b13",
   "metadata": {},
   "source": [
    "#### Выявились отрицательные значения 'OtherSquare', требующие устранения путем редактирования значений известных площадей. Изменяем признак 'Square' путем сложения двух известных площадей, затем вновь перерасчитываем 'OtherSquare'."
   ]
  },
  {
   "cell_type": "code",
   "execution_count": 31,
   "id": "f5363132",
   "metadata": {},
   "outputs": [
    {
     "data": {
      "text/plain": [
       "0"
      ]
     },
     "execution_count": 31,
     "metadata": {},
     "output_type": "execute_result"
    }
   ],
   "source": [
    "dftr.loc[dftr['OtherSquare'] < 0, 'Square'] = dftr['LifeSquare'] + dftr['KitchenSquare']\n",
    "dftr['OtherSquare'] = dftr['Square'] - (dftr['LifeSquare'] + dftr['KitchenSquare'])\n",
    "(dftr['OtherSquare'] < 0).sum()"
   ]
  },
  {
   "cell_type": "code",
   "execution_count": 32,
   "id": "29d4cb7d",
   "metadata": {},
   "outputs": [
    {
     "data": {
      "text/plain": [
       "0"
      ]
     },
     "execution_count": 32,
     "metadata": {},
     "output_type": "execute_result"
    }
   ],
   "source": [
    "dftst.loc[dftst['OtherSquare'] < 0, 'Square'] = dftst['LifeSquare'] + dftst['KitchenSquare']\n",
    "dftst['OtherSquare'] = dftst['Square'] - (dftst['LifeSquare'] + dftst['KitchenSquare'])\n",
    "(dftst['OtherSquare'] < 0).sum()"
   ]
  },
  {
   "cell_type": "markdown",
   "id": "3dc769ee",
   "metadata": {},
   "source": [
    "####  Находим медиану 'OtherSquare'."
   ]
  },
  {
   "cell_type": "code",
   "execution_count": 33,
   "id": "6e8f3724",
   "metadata": {},
   "outputs": [
    {
     "data": {
      "text/plain": [
       "11.399999999999999"
      ]
     },
     "execution_count": 33,
     "metadata": {},
     "output_type": "execute_result"
    }
   ],
   "source": [
    "OSmedTR = dftr['OtherSquare'].median()\n",
    "OSmedTR"
   ]
  },
  {
   "cell_type": "code",
   "execution_count": 34,
   "id": "becc2d09",
   "metadata": {},
   "outputs": [
    {
     "data": {
      "text/plain": [
       "11.399999999999999"
      ]
     },
     "execution_count": 34,
     "metadata": {},
     "output_type": "execute_result"
    }
   ],
   "source": [
    "OSmedTST = dftst['OtherSquare'].median()\n",
    "OSmedTST"
   ]
  },
  {
   "cell_type": "code",
   "execution_count": 35,
   "id": "17fec691",
   "metadata": {},
   "outputs": [
    {
     "data": {
      "text/plain": [
       "849"
      ]
     },
     "execution_count": 35,
     "metadata": {},
     "output_type": "execute_result"
    }
   ],
   "source": [
    "(dftr['OtherSquare'] == 0).sum()"
   ]
  },
  {
   "cell_type": "code",
   "execution_count": 36,
   "id": "81ba81a5",
   "metadata": {},
   "outputs": [
    {
     "data": {
      "text/plain": [
       "441"
      ]
     },
     "execution_count": 36,
     "metadata": {},
     "output_type": "execute_result"
    }
   ],
   "source": [
    "(dftst['OtherSquare'] == 0).sum()"
   ]
  },
  {
   "cell_type": "markdown",
   "id": "06f6c50a",
   "metadata": {},
   "source": [
    "#### Теперь необходимо устранить нулевые значения 'OtherSquare' чтобы во всех квартирах присутствовала площадь коридоров, кладовок и лоджий. Для этого вычитаем медианное значение 'OtherSquare' из 'LifeSquare' там, где 'OtherSquare' меньше нуля и, перерасчитывая его, убеждаемся, что нулевые значения отсутствуют."
   ]
  },
  {
   "cell_type": "code",
   "execution_count": 37,
   "id": "9efbf68c",
   "metadata": {},
   "outputs": [],
   "source": [
    "dftr.loc[dftr['OtherSquare'] == 0, 'LifeSquare'] = dftr['LifeSquare'] - OSmedTR\n",
    "dftst.loc[dftst['OtherSquare'] == 0, 'LifeSquare'] = dftst['LifeSquare'] - OSmedTST"
   ]
  },
  {
   "cell_type": "code",
   "execution_count": 38,
   "id": "7c8d0fe8",
   "metadata": {},
   "outputs": [],
   "source": [
    "dftr['OtherSquare'] = dftr['Square'] - (dftr['LifeSquare'] + dftr['KitchenSquare'])\n",
    "dftst['OtherSquare'] = dftst['Square'] - (dftst['LifeSquare'] + dftst['KitchenSquare'])"
   ]
  },
  {
   "cell_type": "code",
   "execution_count": 39,
   "id": "7fdca16d",
   "metadata": {},
   "outputs": [
    {
     "data": {
      "text/plain": [
       "0"
      ]
     },
     "execution_count": 39,
     "metadata": {},
     "output_type": "execute_result"
    }
   ],
   "source": [
    "(dftr['OtherSquare'] == 0).sum()"
   ]
  },
  {
   "cell_type": "code",
   "execution_count": 40,
   "id": "d3d3182a",
   "metadata": {},
   "outputs": [
    {
     "data": {
      "text/plain": [
       "0"
      ]
     },
     "execution_count": 40,
     "metadata": {},
     "output_type": "execute_result"
    }
   ],
   "source": [
    "(dftst['OtherSquare'] == 0).sum()"
   ]
  },
  {
   "cell_type": "markdown",
   "id": "2862c377",
   "metadata": {},
   "source": [
    "#### Наконец, заполняем отсутствующие значения 'LifeSquare' с учетом теперь известного медианного значения площади коридоров, кладовок и лоджий, и последний раз перерасчитываем 'OtherSquare' с учетом этих изменений, что приводит к единообразию всех площадей датасета."
   ]
  },
  {
   "cell_type": "code",
   "execution_count": 41,
   "id": "abf43684",
   "metadata": {},
   "outputs": [],
   "source": [
    "dftr.loc[dftr['LifeSquare_nan'] == 1, 'LifeSquare'] = dftr['Square'] - dftr['KitchenSquare'] - OSmedTR\n",
    "dftst.loc[dftst['LifeSquare_nan'] == 1, 'LifeSquare'] = dftst['Square'] - dftst['KitchenSquare'] - OSmedTST\n",
    "dftr['OtherSquare'] = dftr['Square'] - (dftr['LifeSquare'] + dftr['KitchenSquare'])\n",
    "dftst['OtherSquare'] = dftst['Square'] - (dftst['LifeSquare'] + dftst['KitchenSquare'])\n",
    "dftr.drop('LifeSquare_nan', axis=1, inplace=True)\n",
    "dftst.drop('LifeSquare_nan', axis=1, inplace=True)"
   ]
  },
  {
   "cell_type": "code",
   "execution_count": 42,
   "id": "460882e4",
   "metadata": {},
   "outputs": [
    {
     "data": {
      "text/plain": [
       "Id               0\n",
       "DistrictId       0\n",
       "Rooms            0\n",
       "Square           0\n",
       "LifeSquare       0\n",
       "KitchenSquare    0\n",
       "Floor            0\n",
       "HouseFloor       0\n",
       "HouseYear        0\n",
       "Ecology_1        0\n",
       "Ecology_2        0\n",
       "Ecology_3        0\n",
       "Social_1         0\n",
       "Social_2         0\n",
       "Social_3         0\n",
       "Healthcare_1     0\n",
       "Healthcare_2     0\n",
       "Shops_1          0\n",
       "Shops_2          0\n",
       "Price            0\n",
       "OtherSquare      0\n",
       "dtype: int64"
      ]
     },
     "execution_count": 42,
     "metadata": {},
     "output_type": "execute_result"
    }
   ],
   "source": [
    "dftr.isnull().sum()"
   ]
  },
  {
   "cell_type": "code",
   "execution_count": 43,
   "id": "6eff39e8",
   "metadata": {},
   "outputs": [
    {
     "data": {
      "text/plain": [
       "Id               0\n",
       "DistrictId       0\n",
       "Rooms            0\n",
       "Square           0\n",
       "LifeSquare       0\n",
       "KitchenSquare    0\n",
       "Floor            0\n",
       "HouseFloor       0\n",
       "HouseYear        0\n",
       "Ecology_1        0\n",
       "Ecology_2        0\n",
       "Ecology_3        0\n",
       "Social_1         0\n",
       "Social_2         0\n",
       "Social_3         0\n",
       "Healthcare_1     0\n",
       "Healthcare_2     0\n",
       "Shops_1          0\n",
       "Shops_2          0\n",
       "OtherSquare      0\n",
       "dtype: int64"
      ]
     },
     "execution_count": 43,
     "metadata": {},
     "output_type": "execute_result"
    }
   ],
   "source": [
    "dftst.isnull().sum()"
   ]
  },
  {
   "cell_type": "markdown",
   "id": "09395a32",
   "metadata": {},
   "source": [
    "### Поиск аномальных значений и выбросов:"
   ]
  },
  {
   "cell_type": "markdown",
   "id": "b774d638",
   "metadata": {},
   "source": [
    "#### Замечено нулевое количество комнат."
   ]
  },
  {
   "cell_type": "code",
   "execution_count": 44,
   "id": "c1383786",
   "metadata": {},
   "outputs": [
    {
     "data": {
      "text/plain": [
       "8"
      ]
     },
     "execution_count": 44,
     "metadata": {},
     "output_type": "execute_result"
    }
   ],
   "source": [
    "(dftr['Rooms'] < 1).sum()"
   ]
  },
  {
   "cell_type": "code",
   "execution_count": 45,
   "id": "ab66bfd9",
   "metadata": {},
   "outputs": [
    {
     "data": {
      "text/plain": [
       "2"
      ]
     },
     "execution_count": 45,
     "metadata": {},
     "output_type": "execute_result"
    }
   ],
   "source": [
    "(dftst['Rooms'] < 1).sum()"
   ]
  },
  {
   "cell_type": "markdown",
   "id": "2893dbf2",
   "metadata": {},
   "source": [
    "#### Вычисляем статистически необходимое количество комнат для заполнения по известной общей площади."
   ]
  },
  {
   "cell_type": "code",
   "execution_count": 46,
   "id": "549ce322",
   "metadata": {},
   "outputs": [],
   "source": [
    "dftr.loc[dftr['Rooms'] < 1, 'Rooms'] = dftr.loc[dftr['Square'].between(38, 139, inclusive=True), 'Rooms'].median()\n",
    "dftst.loc[dftst['Rooms'] < 1, 'Rooms'] = dftst.loc[dftst['Square'].between(70, 120, inclusive=True), 'Rooms'].median()"
   ]
  },
  {
   "cell_type": "markdown",
   "id": "dcfbfa97",
   "metadata": {},
   "source": [
    "#### Замечено нулевое количество этажей и значения этажей больше этажностей домов."
   ]
  },
  {
   "cell_type": "code",
   "execution_count": 47,
   "id": "287d75a0",
   "metadata": {},
   "outputs": [
    {
     "data": {
      "text/plain": [
       "269"
      ]
     },
     "execution_count": 47,
     "metadata": {},
     "output_type": "execute_result"
    }
   ],
   "source": [
    "(dftr['HouseFloor'] < 1).sum()"
   ]
  },
  {
   "cell_type": "code",
   "execution_count": 48,
   "id": "38f9ffdf",
   "metadata": {},
   "outputs": [
    {
     "data": {
      "text/plain": [
       "131"
      ]
     },
     "execution_count": 48,
     "metadata": {},
     "output_type": "execute_result"
    }
   ],
   "source": [
    "(dftst['HouseFloor'] < 1).sum()"
   ]
  },
  {
   "cell_type": "code",
   "execution_count": 49,
   "id": "d9a494bb",
   "metadata": {},
   "outputs": [
    {
     "data": {
      "text/plain": [
       "1825"
      ]
     },
     "execution_count": 49,
     "metadata": {},
     "output_type": "execute_result"
    }
   ],
   "source": [
    "(dftr['HouseFloor'] < dftr['Floor']).sum()"
   ]
  },
  {
   "cell_type": "code",
   "execution_count": 50,
   "id": "34a72e79",
   "metadata": {},
   "outputs": [
    {
     "data": {
      "text/plain": [
       "884"
      ]
     },
     "execution_count": 50,
     "metadata": {},
     "output_type": "execute_result"
    }
   ],
   "source": [
    "(dftst['HouseFloor'] < dftst['Floor']).sum()"
   ]
  },
  {
   "cell_type": "markdown",
   "id": "20840609",
   "metadata": {},
   "source": [
    "#### Было принято решение нулевое количество этажей, в виду незначительного влияния на общее количество наблюдений, приравнять к этажу квартиры, а превышение квартирой этажности дома заменить на значение, при котором этаж квартиры принимает отрицательное значение только в 1 и 2 этажных домах. Образовавшиеся отрицательные этажности приравниваются к этажности дома."
   ]
  },
  {
   "cell_type": "code",
   "execution_count": 51,
   "id": "b84c110a",
   "metadata": {},
   "outputs": [],
   "source": [
    "dftr.loc[dftr['HouseFloor'] < 1, 'HouseFloor'] = dftr['Floor']\n",
    "dftst.loc[dftst['HouseFloor'] < 1, 'HouseFloor'] = dftst['Floor']"
   ]
  },
  {
   "cell_type": "code",
   "execution_count": 52,
   "id": "ba60815c",
   "metadata": {},
   "outputs": [],
   "source": [
    "dftr.loc[dftr['HouseFloor'] < dftr['Floor'], 'Floor'] = (dftr['HouseFloor'] -  dftr['Floor']/8)\n",
    "dftst.loc[dftst['HouseFloor'] < dftst['Floor'], 'Floor'] = (dftst['HouseFloor'] -  dftst['Floor']/8)\n",
    "dftr['Floor'] = dftr['Floor'].astype(int)\n",
    "dftst['Floor'] = dftst['Floor'].astype(int)"
   ]
  },
  {
   "cell_type": "code",
   "execution_count": 53,
   "id": "505f196f",
   "metadata": {},
   "outputs": [],
   "source": [
    "dftr.loc[dftr['Floor'] < 1, 'Floor'] = dftr['HouseFloor']\n",
    "dftst.loc[dftst['Floor'] < 1, 'Floor'] = dftst['HouseFloor']"
   ]
  },
  {
   "cell_type": "markdown",
   "id": "750a8cfb",
   "metadata": {},
   "source": [
    "### Статистический поиск выбросов: статистический поиск производился с помощью BoxPlot, а затем принимались самостоятельные логические решения."
   ]
  },
  {
   "cell_type": "markdown",
   "id": "a0dfe0eb",
   "metadata": {},
   "source": [
    "#### Количество комнат:"
   ]
  },
  {
   "cell_type": "code",
   "execution_count": 54,
   "id": "ddb05ae4",
   "metadata": {},
   "outputs": [
    {
     "data": {
      "text/html": [
       "<div>\n",
       "<style scoped>\n",
       "    .dataframe tbody tr th:only-of-type {\n",
       "        vertical-align: middle;\n",
       "    }\n",
       "\n",
       "    .dataframe tbody tr th {\n",
       "        vertical-align: top;\n",
       "    }\n",
       "\n",
       "    .dataframe thead th {\n",
       "        text-align: right;\n",
       "    }\n",
       "</style>\n",
       "<table border=\"1\" class=\"dataframe\">\n",
       "  <thead>\n",
       "    <tr style=\"text-align: right;\">\n",
       "      <th></th>\n",
       "      <th>Id</th>\n",
       "      <th>DistrictId</th>\n",
       "      <th>Rooms</th>\n",
       "      <th>Square</th>\n",
       "      <th>LifeSquare</th>\n",
       "      <th>KitchenSquare</th>\n",
       "      <th>Floor</th>\n",
       "      <th>HouseFloor</th>\n",
       "      <th>HouseYear</th>\n",
       "      <th>Ecology_1</th>\n",
       "      <th>...</th>\n",
       "      <th>Ecology_3</th>\n",
       "      <th>Social_1</th>\n",
       "      <th>Social_2</th>\n",
       "      <th>Social_3</th>\n",
       "      <th>Healthcare_1</th>\n",
       "      <th>Healthcare_2</th>\n",
       "      <th>Shops_1</th>\n",
       "      <th>Shops_2</th>\n",
       "      <th>Price</th>\n",
       "      <th>OtherSquare</th>\n",
       "    </tr>\n",
       "  </thead>\n",
       "  <tbody>\n",
       "    <tr>\n",
       "      <th>403</th>\n",
       "      <td>13434</td>\n",
       "      <td>13</td>\n",
       "      <td>5</td>\n",
       "      <td>183.4</td>\n",
       "      <td>101.0</td>\n",
       "      <td>15.0</td>\n",
       "      <td>2</td>\n",
       "      <td>6</td>\n",
       "      <td>1997</td>\n",
       "      <td>0.090799</td>\n",
       "      <td>...</td>\n",
       "      <td>B</td>\n",
       "      <td>74</td>\n",
       "      <td>19083</td>\n",
       "      <td>2</td>\n",
       "      <td>900</td>\n",
       "      <td>5</td>\n",
       "      <td>15</td>\n",
       "      <td>B</td>\n",
       "      <td>622888.83</td>\n",
       "      <td>67.4</td>\n",
       "    </tr>\n",
       "    <tr>\n",
       "      <th>505</th>\n",
       "      <td>3454</td>\n",
       "      <td>8</td>\n",
       "      <td>5</td>\n",
       "      <td>112.1</td>\n",
       "      <td>79.8</td>\n",
       "      <td>10.0</td>\n",
       "      <td>4</td>\n",
       "      <td>17</td>\n",
       "      <td>1999</td>\n",
       "      <td>0.437885</td>\n",
       "      <td>...</td>\n",
       "      <td>B</td>\n",
       "      <td>23</td>\n",
       "      <td>5735</td>\n",
       "      <td>3</td>\n",
       "      <td>1084</td>\n",
       "      <td>0</td>\n",
       "      <td>5</td>\n",
       "      <td>B</td>\n",
       "      <td>471833.79</td>\n",
       "      <td>22.3</td>\n",
       "    </tr>\n",
       "    <tr>\n",
       "      <th>511</th>\n",
       "      <td>8685</td>\n",
       "      <td>62</td>\n",
       "      <td>5</td>\n",
       "      <td>124.9</td>\n",
       "      <td>81.1</td>\n",
       "      <td>30.0</td>\n",
       "      <td>2</td>\n",
       "      <td>3</td>\n",
       "      <td>2017</td>\n",
       "      <td>0.072158</td>\n",
       "      <td>...</td>\n",
       "      <td>B</td>\n",
       "      <td>2</td>\n",
       "      <td>629</td>\n",
       "      <td>1</td>\n",
       "      <td>900</td>\n",
       "      <td>0</td>\n",
       "      <td>0</td>\n",
       "      <td>A</td>\n",
       "      <td>271919.87</td>\n",
       "      <td>13.8</td>\n",
       "    </tr>\n",
       "    <tr>\n",
       "      <th>940</th>\n",
       "      <td>4971</td>\n",
       "      <td>169</td>\n",
       "      <td>5</td>\n",
       "      <td>117.9</td>\n",
       "      <td>76.6</td>\n",
       "      <td>9.0</td>\n",
       "      <td>12</td>\n",
       "      <td>14</td>\n",
       "      <td>2001</td>\n",
       "      <td>0.178917</td>\n",
       "      <td>...</td>\n",
       "      <td>B</td>\n",
       "      <td>18</td>\n",
       "      <td>3594</td>\n",
       "      <td>4</td>\n",
       "      <td>192</td>\n",
       "      <td>1</td>\n",
       "      <td>5</td>\n",
       "      <td>B</td>\n",
       "      <td>608674.13</td>\n",
       "      <td>32.3</td>\n",
       "    </tr>\n",
       "    <tr>\n",
       "      <th>1459</th>\n",
       "      <td>8901</td>\n",
       "      <td>34</td>\n",
       "      <td>5</td>\n",
       "      <td>121.6</td>\n",
       "      <td>114.9</td>\n",
       "      <td>1.0</td>\n",
       "      <td>1</td>\n",
       "      <td>1</td>\n",
       "      <td>1977</td>\n",
       "      <td>0.069753</td>\n",
       "      <td>...</td>\n",
       "      <td>B</td>\n",
       "      <td>53</td>\n",
       "      <td>13670</td>\n",
       "      <td>4</td>\n",
       "      <td>900</td>\n",
       "      <td>1</td>\n",
       "      <td>11</td>\n",
       "      <td>B</td>\n",
       "      <td>455446.39</td>\n",
       "      <td>5.7</td>\n",
       "    </tr>\n",
       "    <tr>\n",
       "      <th>1906</th>\n",
       "      <td>5548</td>\n",
       "      <td>86</td>\n",
       "      <td>5</td>\n",
       "      <td>275.6</td>\n",
       "      <td>233.9</td>\n",
       "      <td>26.0</td>\n",
       "      <td>12</td>\n",
       "      <td>37</td>\n",
       "      <td>2011</td>\n",
       "      <td>0.161976</td>\n",
       "      <td>...</td>\n",
       "      <td>A</td>\n",
       "      <td>31</td>\n",
       "      <td>7010</td>\n",
       "      <td>5</td>\n",
       "      <td>4508</td>\n",
       "      <td>3</td>\n",
       "      <td>7</td>\n",
       "      <td>B</td>\n",
       "      <td>455264.88</td>\n",
       "      <td>15.7</td>\n",
       "    </tr>\n",
       "    <tr>\n",
       "      <th>1909</th>\n",
       "      <td>238</td>\n",
       "      <td>88</td>\n",
       "      <td>5</td>\n",
       "      <td>90.8</td>\n",
       "      <td>71.0</td>\n",
       "      <td>5.0</td>\n",
       "      <td>1</td>\n",
       "      <td>9</td>\n",
       "      <td>1972</td>\n",
       "      <td>0.127376</td>\n",
       "      <td>...</td>\n",
       "      <td>B</td>\n",
       "      <td>43</td>\n",
       "      <td>8429</td>\n",
       "      <td>3</td>\n",
       "      <td>900</td>\n",
       "      <td>3</td>\n",
       "      <td>9</td>\n",
       "      <td>B</td>\n",
       "      <td>289683.94</td>\n",
       "      <td>14.8</td>\n",
       "    </tr>\n",
       "    <tr>\n",
       "      <th>2004</th>\n",
       "      <td>5927</td>\n",
       "      <td>57</td>\n",
       "      <td>10</td>\n",
       "      <td>59.1</td>\n",
       "      <td>36.2</td>\n",
       "      <td>10.0</td>\n",
       "      <td>22</td>\n",
       "      <td>22</td>\n",
       "      <td>2002</td>\n",
       "      <td>0.090799</td>\n",
       "      <td>...</td>\n",
       "      <td>B</td>\n",
       "      <td>74</td>\n",
       "      <td>19083</td>\n",
       "      <td>2</td>\n",
       "      <td>900</td>\n",
       "      <td>5</td>\n",
       "      <td>15</td>\n",
       "      <td>B</td>\n",
       "      <td>317265.32</td>\n",
       "      <td>12.9</td>\n",
       "    </tr>\n",
       "    <tr>\n",
       "      <th>2516</th>\n",
       "      <td>338</td>\n",
       "      <td>46</td>\n",
       "      <td>5</td>\n",
       "      <td>147.7</td>\n",
       "      <td>136.3</td>\n",
       "      <td>0.0</td>\n",
       "      <td>6</td>\n",
       "      <td>6</td>\n",
       "      <td>1977</td>\n",
       "      <td>0.150818</td>\n",
       "      <td>...</td>\n",
       "      <td>B</td>\n",
       "      <td>16</td>\n",
       "      <td>3433</td>\n",
       "      <td>4</td>\n",
       "      <td>2643</td>\n",
       "      <td>4</td>\n",
       "      <td>5</td>\n",
       "      <td>B</td>\n",
       "      <td>352168.96</td>\n",
       "      <td>11.4</td>\n",
       "    </tr>\n",
       "    <tr>\n",
       "      <th>2728</th>\n",
       "      <td>14865</td>\n",
       "      <td>9</td>\n",
       "      <td>10</td>\n",
       "      <td>60.9</td>\n",
       "      <td>38.4</td>\n",
       "      <td>10.0</td>\n",
       "      <td>1</td>\n",
       "      <td>2</td>\n",
       "      <td>1994</td>\n",
       "      <td>0.161532</td>\n",
       "      <td>...</td>\n",
       "      <td>B</td>\n",
       "      <td>25</td>\n",
       "      <td>5648</td>\n",
       "      <td>1</td>\n",
       "      <td>30</td>\n",
       "      <td>2</td>\n",
       "      <td>4</td>\n",
       "      <td>B</td>\n",
       "      <td>172329.27</td>\n",
       "      <td>12.5</td>\n",
       "    </tr>\n",
       "    <tr>\n",
       "      <th>2799</th>\n",
       "      <td>6358</td>\n",
       "      <td>27</td>\n",
       "      <td>5</td>\n",
       "      <td>42.0</td>\n",
       "      <td>30.6</td>\n",
       "      <td>0.0</td>\n",
       "      <td>5</td>\n",
       "      <td>12</td>\n",
       "      <td>1977</td>\n",
       "      <td>0.011654</td>\n",
       "      <td>...</td>\n",
       "      <td>B</td>\n",
       "      <td>4</td>\n",
       "      <td>915</td>\n",
       "      <td>0</td>\n",
       "      <td>900</td>\n",
       "      <td>0</td>\n",
       "      <td>0</td>\n",
       "      <td>B</td>\n",
       "      <td>112693.64</td>\n",
       "      <td>11.4</td>\n",
       "    </tr>\n",
       "    <tr>\n",
       "      <th>5665</th>\n",
       "      <td>1243</td>\n",
       "      <td>86</td>\n",
       "      <td>5</td>\n",
       "      <td>108.1</td>\n",
       "      <td>82.7</td>\n",
       "      <td>8.0</td>\n",
       "      <td>3</td>\n",
       "      <td>5</td>\n",
       "      <td>1942</td>\n",
       "      <td>0.161976</td>\n",
       "      <td>...</td>\n",
       "      <td>A</td>\n",
       "      <td>31</td>\n",
       "      <td>7010</td>\n",
       "      <td>5</td>\n",
       "      <td>4508</td>\n",
       "      <td>3</td>\n",
       "      <td>7</td>\n",
       "      <td>B</td>\n",
       "      <td>310305.07</td>\n",
       "      <td>17.4</td>\n",
       "    </tr>\n",
       "    <tr>\n",
       "      <th>5737</th>\n",
       "      <td>3294</td>\n",
       "      <td>167</td>\n",
       "      <td>5</td>\n",
       "      <td>111.0</td>\n",
       "      <td>81.9</td>\n",
       "      <td>9.0</td>\n",
       "      <td>6</td>\n",
       "      <td>6</td>\n",
       "      <td>1940</td>\n",
       "      <td>0.050272</td>\n",
       "      <td>...</td>\n",
       "      <td>B</td>\n",
       "      <td>21</td>\n",
       "      <td>4231</td>\n",
       "      <td>14</td>\n",
       "      <td>1020</td>\n",
       "      <td>0</td>\n",
       "      <td>3</td>\n",
       "      <td>B</td>\n",
       "      <td>513239.50</td>\n",
       "      <td>20.1</td>\n",
       "    </tr>\n",
       "    <tr>\n",
       "      <th>6088</th>\n",
       "      <td>8491</td>\n",
       "      <td>1</td>\n",
       "      <td>19</td>\n",
       "      <td>42.0</td>\n",
       "      <td>21.8</td>\n",
       "      <td>7.0</td>\n",
       "      <td>17</td>\n",
       "      <td>17</td>\n",
       "      <td>2014</td>\n",
       "      <td>0.007122</td>\n",
       "      <td>...</td>\n",
       "      <td>B</td>\n",
       "      <td>1</td>\n",
       "      <td>264</td>\n",
       "      <td>0</td>\n",
       "      <td>900</td>\n",
       "      <td>0</td>\n",
       "      <td>1</td>\n",
       "      <td>B</td>\n",
       "      <td>78364.62</td>\n",
       "      <td>13.2</td>\n",
       "    </tr>\n",
       "    <tr>\n",
       "      <th>6290</th>\n",
       "      <td>4070</td>\n",
       "      <td>21</td>\n",
       "      <td>5</td>\n",
       "      <td>114.3</td>\n",
       "      <td>88.5</td>\n",
       "      <td>9.0</td>\n",
       "      <td>4</td>\n",
       "      <td>5</td>\n",
       "      <td>1960</td>\n",
       "      <td>0.034331</td>\n",
       "      <td>...</td>\n",
       "      <td>B</td>\n",
       "      <td>25</td>\n",
       "      <td>5487</td>\n",
       "      <td>3</td>\n",
       "      <td>900</td>\n",
       "      <td>0</td>\n",
       "      <td>4</td>\n",
       "      <td>B</td>\n",
       "      <td>499830.94</td>\n",
       "      <td>16.8</td>\n",
       "    </tr>\n",
       "    <tr>\n",
       "      <th>7975</th>\n",
       "      <td>7594</td>\n",
       "      <td>53</td>\n",
       "      <td>5</td>\n",
       "      <td>40.4</td>\n",
       "      <td>28.0</td>\n",
       "      <td>1.0</td>\n",
       "      <td>1</td>\n",
       "      <td>1</td>\n",
       "      <td>1977</td>\n",
       "      <td>0.049637</td>\n",
       "      <td>...</td>\n",
       "      <td>B</td>\n",
       "      <td>34</td>\n",
       "      <td>7759</td>\n",
       "      <td>0</td>\n",
       "      <td>229</td>\n",
       "      <td>1</td>\n",
       "      <td>3</td>\n",
       "      <td>B</td>\n",
       "      <td>206148.85</td>\n",
       "      <td>11.4</td>\n",
       "    </tr>\n",
       "    <tr>\n",
       "      <th>8532</th>\n",
       "      <td>2879</td>\n",
       "      <td>78</td>\n",
       "      <td>5</td>\n",
       "      <td>118.9</td>\n",
       "      <td>69.0</td>\n",
       "      <td>10.0</td>\n",
       "      <td>15</td>\n",
       "      <td>16</td>\n",
       "      <td>1998</td>\n",
       "      <td>0.092291</td>\n",
       "      <td>...</td>\n",
       "      <td>B</td>\n",
       "      <td>21</td>\n",
       "      <td>4346</td>\n",
       "      <td>2</td>\n",
       "      <td>165</td>\n",
       "      <td>1</td>\n",
       "      <td>2</td>\n",
       "      <td>B</td>\n",
       "      <td>496026.67</td>\n",
       "      <td>39.9</td>\n",
       "    </tr>\n",
       "    <tr>\n",
       "      <th>8794</th>\n",
       "      <td>14003</td>\n",
       "      <td>99</td>\n",
       "      <td>6</td>\n",
       "      <td>59.4</td>\n",
       "      <td>38.7</td>\n",
       "      <td>6.0</td>\n",
       "      <td>7</td>\n",
       "      <td>9</td>\n",
       "      <td>1969</td>\n",
       "      <td>0.033494</td>\n",
       "      <td>...</td>\n",
       "      <td>B</td>\n",
       "      <td>66</td>\n",
       "      <td>10573</td>\n",
       "      <td>1</td>\n",
       "      <td>1322</td>\n",
       "      <td>3</td>\n",
       "      <td>8</td>\n",
       "      <td>B</td>\n",
       "      <td>229661.96</td>\n",
       "      <td>14.7</td>\n",
       "    </tr>\n",
       "    <tr>\n",
       "      <th>9307</th>\n",
       "      <td>4249</td>\n",
       "      <td>23</td>\n",
       "      <td>5</td>\n",
       "      <td>198.9</td>\n",
       "      <td>123.1</td>\n",
       "      <td>10.0</td>\n",
       "      <td>1</td>\n",
       "      <td>2</td>\n",
       "      <td>2011</td>\n",
       "      <td>0.014073</td>\n",
       "      <td>...</td>\n",
       "      <td>B</td>\n",
       "      <td>2</td>\n",
       "      <td>475</td>\n",
       "      <td>0</td>\n",
       "      <td>900</td>\n",
       "      <td>0</td>\n",
       "      <td>0</td>\n",
       "      <td>B</td>\n",
       "      <td>345665.21</td>\n",
       "      <td>65.8</td>\n",
       "    </tr>\n",
       "    <tr>\n",
       "      <th>9415</th>\n",
       "      <td>4282</td>\n",
       "      <td>195</td>\n",
       "      <td>5</td>\n",
       "      <td>95.6</td>\n",
       "      <td>62.4</td>\n",
       "      <td>7.0</td>\n",
       "      <td>7</td>\n",
       "      <td>7</td>\n",
       "      <td>1940</td>\n",
       "      <td>0.015017</td>\n",
       "      <td>...</td>\n",
       "      <td>B</td>\n",
       "      <td>17</td>\n",
       "      <td>3079</td>\n",
       "      <td>59</td>\n",
       "      <td>2890</td>\n",
       "      <td>0</td>\n",
       "      <td>8</td>\n",
       "      <td>B</td>\n",
       "      <td>479525.15</td>\n",
       "      <td>26.2</td>\n",
       "    </tr>\n",
       "    <tr>\n",
       "      <th>9515</th>\n",
       "      <td>4214</td>\n",
       "      <td>105</td>\n",
       "      <td>5</td>\n",
       "      <td>85.3</td>\n",
       "      <td>56.7</td>\n",
       "      <td>5.0</td>\n",
       "      <td>4</td>\n",
       "      <td>12</td>\n",
       "      <td>1967</td>\n",
       "      <td>0.040243</td>\n",
       "      <td>...</td>\n",
       "      <td>B</td>\n",
       "      <td>25</td>\n",
       "      <td>3478</td>\n",
       "      <td>11</td>\n",
       "      <td>2729</td>\n",
       "      <td>3</td>\n",
       "      <td>1</td>\n",
       "      <td>B</td>\n",
       "      <td>461678.74</td>\n",
       "      <td>23.6</td>\n",
       "    </tr>\n",
       "    <tr>\n",
       "      <th>9641</th>\n",
       "      <td>14143</td>\n",
       "      <td>13</td>\n",
       "      <td>5</td>\n",
       "      <td>119.0</td>\n",
       "      <td>69.0</td>\n",
       "      <td>11.0</td>\n",
       "      <td>13</td>\n",
       "      <td>17</td>\n",
       "      <td>2001</td>\n",
       "      <td>0.090799</td>\n",
       "      <td>...</td>\n",
       "      <td>B</td>\n",
       "      <td>74</td>\n",
       "      <td>19083</td>\n",
       "      <td>2</td>\n",
       "      <td>900</td>\n",
       "      <td>5</td>\n",
       "      <td>15</td>\n",
       "      <td>B</td>\n",
       "      <td>434774.36</td>\n",
       "      <td>39.0</td>\n",
       "    </tr>\n",
       "  </tbody>\n",
       "</table>\n",
       "<p>22 rows × 21 columns</p>\n",
       "</div>"
      ],
      "text/plain": [
       "         Id DistrictId  Rooms  Square  LifeSquare  KitchenSquare  Floor  \\\n",
       "403   13434         13      5   183.4       101.0           15.0      2   \n",
       "505    3454          8      5   112.1        79.8           10.0      4   \n",
       "511    8685         62      5   124.9        81.1           30.0      2   \n",
       "940    4971        169      5   117.9        76.6            9.0     12   \n",
       "1459   8901         34      5   121.6       114.9            1.0      1   \n",
       "1906   5548         86      5   275.6       233.9           26.0     12   \n",
       "1909    238         88      5    90.8        71.0            5.0      1   \n",
       "2004   5927         57     10    59.1        36.2           10.0     22   \n",
       "2516    338         46      5   147.7       136.3            0.0      6   \n",
       "2728  14865          9     10    60.9        38.4           10.0      1   \n",
       "2799   6358         27      5    42.0        30.6            0.0      5   \n",
       "5665   1243         86      5   108.1        82.7            8.0      3   \n",
       "5737   3294        167      5   111.0        81.9            9.0      6   \n",
       "6088   8491          1     19    42.0        21.8            7.0     17   \n",
       "6290   4070         21      5   114.3        88.5            9.0      4   \n",
       "7975   7594         53      5    40.4        28.0            1.0      1   \n",
       "8532   2879         78      5   118.9        69.0           10.0     15   \n",
       "8794  14003         99      6    59.4        38.7            6.0      7   \n",
       "9307   4249         23      5   198.9       123.1           10.0      1   \n",
       "9415   4282        195      5    95.6        62.4            7.0      7   \n",
       "9515   4214        105      5    85.3        56.7            5.0      4   \n",
       "9641  14143         13      5   119.0        69.0           11.0     13   \n",
       "\n",
       "      HouseFloor  HouseYear  Ecology_1  ... Ecology_3 Social_1  Social_2  \\\n",
       "403            6       1997   0.090799  ...         B       74     19083   \n",
       "505           17       1999   0.437885  ...         B       23      5735   \n",
       "511            3       2017   0.072158  ...         B        2       629   \n",
       "940           14       2001   0.178917  ...         B       18      3594   \n",
       "1459           1       1977   0.069753  ...         B       53     13670   \n",
       "1906          37       2011   0.161976  ...         A       31      7010   \n",
       "1909           9       1972   0.127376  ...         B       43      8429   \n",
       "2004          22       2002   0.090799  ...         B       74     19083   \n",
       "2516           6       1977   0.150818  ...         B       16      3433   \n",
       "2728           2       1994   0.161532  ...         B       25      5648   \n",
       "2799          12       1977   0.011654  ...         B        4       915   \n",
       "5665           5       1942   0.161976  ...         A       31      7010   \n",
       "5737           6       1940   0.050272  ...         B       21      4231   \n",
       "6088          17       2014   0.007122  ...         B        1       264   \n",
       "6290           5       1960   0.034331  ...         B       25      5487   \n",
       "7975           1       1977   0.049637  ...         B       34      7759   \n",
       "8532          16       1998   0.092291  ...         B       21      4346   \n",
       "8794           9       1969   0.033494  ...         B       66     10573   \n",
       "9307           2       2011   0.014073  ...         B        2       475   \n",
       "9415           7       1940   0.015017  ...         B       17      3079   \n",
       "9515          12       1967   0.040243  ...         B       25      3478   \n",
       "9641          17       2001   0.090799  ...         B       74     19083   \n",
       "\n",
       "      Social_3  Healthcare_1  Healthcare_2  Shops_1  Shops_2      Price  \\\n",
       "403          2           900             5       15        B  622888.83   \n",
       "505          3          1084             0        5        B  471833.79   \n",
       "511          1           900             0        0        A  271919.87   \n",
       "940          4           192             1        5        B  608674.13   \n",
       "1459         4           900             1       11        B  455446.39   \n",
       "1906         5          4508             3        7        B  455264.88   \n",
       "1909         3           900             3        9        B  289683.94   \n",
       "2004         2           900             5       15        B  317265.32   \n",
       "2516         4          2643             4        5        B  352168.96   \n",
       "2728         1            30             2        4        B  172329.27   \n",
       "2799         0           900             0        0        B  112693.64   \n",
       "5665         5          4508             3        7        B  310305.07   \n",
       "5737        14          1020             0        3        B  513239.50   \n",
       "6088         0           900             0        1        B   78364.62   \n",
       "6290         3           900             0        4        B  499830.94   \n",
       "7975         0           229             1        3        B  206148.85   \n",
       "8532         2           165             1        2        B  496026.67   \n",
       "8794         1          1322             3        8        B  229661.96   \n",
       "9307         0           900             0        0        B  345665.21   \n",
       "9415        59          2890             0        8        B  479525.15   \n",
       "9515        11          2729             3        1        B  461678.74   \n",
       "9641         2           900             5       15        B  434774.36   \n",
       "\n",
       "      OtherSquare  \n",
       "403          67.4  \n",
       "505          22.3  \n",
       "511          13.8  \n",
       "940          32.3  \n",
       "1459          5.7  \n",
       "1906         15.7  \n",
       "1909         14.8  \n",
       "2004         12.9  \n",
       "2516         11.4  \n",
       "2728         12.5  \n",
       "2799         11.4  \n",
       "5665         17.4  \n",
       "5737         20.1  \n",
       "6088         13.2  \n",
       "6290         16.8  \n",
       "7975         11.4  \n",
       "8532         39.9  \n",
       "8794         14.7  \n",
       "9307         65.8  \n",
       "9415         26.2  \n",
       "9515         23.6  \n",
       "9641         39.0  \n",
       "\n",
       "[22 rows x 21 columns]"
      ]
     },
     "execution_count": 54,
     "metadata": {},
     "output_type": "execute_result"
    }
   ],
   "source": [
    "max_tr = np.quantile(dftr['Rooms'], q=0.99)\n",
    "min_tr = np.quantile(dftr['Rooms'], q=0.01)\n",
    "val = (dftr['Rooms'] > max_tr)|(dftr['Rooms'] < min_tr)\n",
    "dftr[val]"
   ]
  },
  {
   "cell_type": "code",
   "execution_count": 55,
   "id": "3ed50654",
   "metadata": {},
   "outputs": [
    {
     "data": {
      "text/html": [
       "<div>\n",
       "<style scoped>\n",
       "    .dataframe tbody tr th:only-of-type {\n",
       "        vertical-align: middle;\n",
       "    }\n",
       "\n",
       "    .dataframe tbody tr th {\n",
       "        vertical-align: top;\n",
       "    }\n",
       "\n",
       "    .dataframe thead th {\n",
       "        text-align: right;\n",
       "    }\n",
       "</style>\n",
       "<table border=\"1\" class=\"dataframe\">\n",
       "  <thead>\n",
       "    <tr style=\"text-align: right;\">\n",
       "      <th></th>\n",
       "      <th>Id</th>\n",
       "      <th>DistrictId</th>\n",
       "      <th>Rooms</th>\n",
       "      <th>Square</th>\n",
       "      <th>LifeSquare</th>\n",
       "      <th>KitchenSquare</th>\n",
       "      <th>Floor</th>\n",
       "      <th>HouseFloor</th>\n",
       "      <th>HouseYear</th>\n",
       "      <th>Ecology_1</th>\n",
       "      <th>Ecology_2</th>\n",
       "      <th>Ecology_3</th>\n",
       "      <th>Social_1</th>\n",
       "      <th>Social_2</th>\n",
       "      <th>Social_3</th>\n",
       "      <th>Healthcare_1</th>\n",
       "      <th>Healthcare_2</th>\n",
       "      <th>Shops_1</th>\n",
       "      <th>Shops_2</th>\n",
       "      <th>OtherSquare</th>\n",
       "    </tr>\n",
       "  </thead>\n",
       "  <tbody>\n",
       "    <tr>\n",
       "      <th>374</th>\n",
       "      <td>8638</td>\n",
       "      <td>25</td>\n",
       "      <td>5</td>\n",
       "      <td>120.3</td>\n",
       "      <td>115.3</td>\n",
       "      <td>1.0</td>\n",
       "      <td>14</td>\n",
       "      <td>25</td>\n",
       "      <td>1963</td>\n",
       "      <td>0.069753</td>\n",
       "      <td>B</td>\n",
       "      <td>B</td>\n",
       "      <td>53</td>\n",
       "      <td>13670</td>\n",
       "      <td>4</td>\n",
       "      <td>46</td>\n",
       "      <td>1</td>\n",
       "      <td>11</td>\n",
       "      <td>B</td>\n",
       "      <td>4.0</td>\n",
       "    </tr>\n",
       "    <tr>\n",
       "      <th>797</th>\n",
       "      <td>13562</td>\n",
       "      <td>78</td>\n",
       "      <td>5</td>\n",
       "      <td>116.7</td>\n",
       "      <td>69.6</td>\n",
       "      <td>10.0</td>\n",
       "      <td>5</td>\n",
       "      <td>14</td>\n",
       "      <td>1977</td>\n",
       "      <td>0.219006</td>\n",
       "      <td>B</td>\n",
       "      <td>B</td>\n",
       "      <td>28</td>\n",
       "      <td>6746</td>\n",
       "      <td>3</td>\n",
       "      <td>900</td>\n",
       "      <td>1</td>\n",
       "      <td>4</td>\n",
       "      <td>B</td>\n",
       "      <td>37.1</td>\n",
       "    </tr>\n",
       "    <tr>\n",
       "      <th>956</th>\n",
       "      <td>4058</td>\n",
       "      <td>27</td>\n",
       "      <td>6</td>\n",
       "      <td>223.5</td>\n",
       "      <td>104.1</td>\n",
       "      <td>16.0</td>\n",
       "      <td>2</td>\n",
       "      <td>2</td>\n",
       "      <td>1997</td>\n",
       "      <td>0.041116</td>\n",
       "      <td>B</td>\n",
       "      <td>B</td>\n",
       "      <td>53</td>\n",
       "      <td>14892</td>\n",
       "      <td>4</td>\n",
       "      <td>1937</td>\n",
       "      <td>1</td>\n",
       "      <td>4</td>\n",
       "      <td>B</td>\n",
       "      <td>103.4</td>\n",
       "    </tr>\n",
       "    <tr>\n",
       "      <th>1117</th>\n",
       "      <td>3747</td>\n",
       "      <td>23</td>\n",
       "      <td>5</td>\n",
       "      <td>139.0</td>\n",
       "      <td>89.8</td>\n",
       "      <td>42.0</td>\n",
       "      <td>1</td>\n",
       "      <td>3</td>\n",
       "      <td>1977</td>\n",
       "      <td>0.014073</td>\n",
       "      <td>B</td>\n",
       "      <td>B</td>\n",
       "      <td>2</td>\n",
       "      <td>475</td>\n",
       "      <td>0</td>\n",
       "      <td>540</td>\n",
       "      <td>0</td>\n",
       "      <td>0</td>\n",
       "      <td>B</td>\n",
       "      <td>7.2</td>\n",
       "    </tr>\n",
       "    <tr>\n",
       "      <th>1631</th>\n",
       "      <td>6060</td>\n",
       "      <td>53</td>\n",
       "      <td>5</td>\n",
       "      <td>56.6</td>\n",
       "      <td>2.7</td>\n",
       "      <td>1.0</td>\n",
       "      <td>6</td>\n",
       "      <td>18</td>\n",
       "      <td>1985</td>\n",
       "      <td>0.049637</td>\n",
       "      <td>B</td>\n",
       "      <td>B</td>\n",
       "      <td>34</td>\n",
       "      <td>7759</td>\n",
       "      <td>0</td>\n",
       "      <td>645</td>\n",
       "      <td>1</td>\n",
       "      <td>3</td>\n",
       "      <td>B</td>\n",
       "      <td>52.9</td>\n",
       "    </tr>\n",
       "    <tr>\n",
       "      <th>1929</th>\n",
       "      <td>12316</td>\n",
       "      <td>183</td>\n",
       "      <td>5</td>\n",
       "      <td>158.0</td>\n",
       "      <td>101.0</td>\n",
       "      <td>12.0</td>\n",
       "      <td>7</td>\n",
       "      <td>8</td>\n",
       "      <td>1977</td>\n",
       "      <td>0.246624</td>\n",
       "      <td>B</td>\n",
       "      <td>B</td>\n",
       "      <td>14</td>\n",
       "      <td>2940</td>\n",
       "      <td>45</td>\n",
       "      <td>176</td>\n",
       "      <td>3</td>\n",
       "      <td>6</td>\n",
       "      <td>B</td>\n",
       "      <td>45.0</td>\n",
       "    </tr>\n",
       "    <tr>\n",
       "      <th>1981</th>\n",
       "      <td>1435</td>\n",
       "      <td>111</td>\n",
       "      <td>17</td>\n",
       "      <td>52.9</td>\n",
       "      <td>32.5</td>\n",
       "      <td>8.0</td>\n",
       "      <td>15</td>\n",
       "      <td>17</td>\n",
       "      <td>1960</td>\n",
       "      <td>0.093443</td>\n",
       "      <td>B</td>\n",
       "      <td>B</td>\n",
       "      <td>23</td>\n",
       "      <td>4635</td>\n",
       "      <td>5</td>\n",
       "      <td>1894</td>\n",
       "      <td>2</td>\n",
       "      <td>4</td>\n",
       "      <td>B</td>\n",
       "      <td>12.4</td>\n",
       "    </tr>\n",
       "    <tr>\n",
       "      <th>2243</th>\n",
       "      <td>10793</td>\n",
       "      <td>23</td>\n",
       "      <td>6</td>\n",
       "      <td>110.8</td>\n",
       "      <td>99.4</td>\n",
       "      <td>0.0</td>\n",
       "      <td>2</td>\n",
       "      <td>2</td>\n",
       "      <td>1982</td>\n",
       "      <td>0.014073</td>\n",
       "      <td>B</td>\n",
       "      <td>B</td>\n",
       "      <td>2</td>\n",
       "      <td>475</td>\n",
       "      <td>0</td>\n",
       "      <td>900</td>\n",
       "      <td>0</td>\n",
       "      <td>0</td>\n",
       "      <td>B</td>\n",
       "      <td>11.4</td>\n",
       "    </tr>\n",
       "    <tr>\n",
       "      <th>2659</th>\n",
       "      <td>15858</td>\n",
       "      <td>9</td>\n",
       "      <td>5</td>\n",
       "      <td>97.5</td>\n",
       "      <td>63.6</td>\n",
       "      <td>8.0</td>\n",
       "      <td>5</td>\n",
       "      <td>14</td>\n",
       "      <td>1968</td>\n",
       "      <td>0.136244</td>\n",
       "      <td>B</td>\n",
       "      <td>B</td>\n",
       "      <td>11</td>\n",
       "      <td>2370</td>\n",
       "      <td>0</td>\n",
       "      <td>900</td>\n",
       "      <td>0</td>\n",
       "      <td>1</td>\n",
       "      <td>B</td>\n",
       "      <td>25.9</td>\n",
       "    </tr>\n",
       "    <tr>\n",
       "      <th>4088</th>\n",
       "      <td>6553</td>\n",
       "      <td>34</td>\n",
       "      <td>5</td>\n",
       "      <td>122.4</td>\n",
       "      <td>0.3</td>\n",
       "      <td>0.0</td>\n",
       "      <td>9</td>\n",
       "      <td>9</td>\n",
       "      <td>1955</td>\n",
       "      <td>0.069753</td>\n",
       "      <td>B</td>\n",
       "      <td>B</td>\n",
       "      <td>53</td>\n",
       "      <td>13670</td>\n",
       "      <td>4</td>\n",
       "      <td>900</td>\n",
       "      <td>1</td>\n",
       "      <td>11</td>\n",
       "      <td>B</td>\n",
       "      <td>122.1</td>\n",
       "    </tr>\n",
       "  </tbody>\n",
       "</table>\n",
       "</div>"
      ],
      "text/plain": [
       "         Id DistrictId  Rooms  Square  LifeSquare  KitchenSquare  Floor  \\\n",
       "374    8638         25      5   120.3       115.3            1.0     14   \n",
       "797   13562         78      5   116.7        69.6           10.0      5   \n",
       "956    4058         27      6   223.5       104.1           16.0      2   \n",
       "1117   3747         23      5   139.0        89.8           42.0      1   \n",
       "1631   6060         53      5    56.6         2.7            1.0      6   \n",
       "1929  12316        183      5   158.0       101.0           12.0      7   \n",
       "1981   1435        111     17    52.9        32.5            8.0     15   \n",
       "2243  10793         23      6   110.8        99.4            0.0      2   \n",
       "2659  15858          9      5    97.5        63.6            8.0      5   \n",
       "4088   6553         34      5   122.4         0.3            0.0      9   \n",
       "\n",
       "      HouseFloor  HouseYear  Ecology_1 Ecology_2 Ecology_3  Social_1  \\\n",
       "374           25       1963   0.069753         B         B        53   \n",
       "797           14       1977   0.219006         B         B        28   \n",
       "956            2       1997   0.041116         B         B        53   \n",
       "1117           3       1977   0.014073         B         B         2   \n",
       "1631          18       1985   0.049637         B         B        34   \n",
       "1929           8       1977   0.246624         B         B        14   \n",
       "1981          17       1960   0.093443         B         B        23   \n",
       "2243           2       1982   0.014073         B         B         2   \n",
       "2659          14       1968   0.136244         B         B        11   \n",
       "4088           9       1955   0.069753         B         B        53   \n",
       "\n",
       "      Social_2  Social_3  Healthcare_1  Healthcare_2  Shops_1 Shops_2  \\\n",
       "374      13670         4            46             1       11       B   \n",
       "797       6746         3           900             1        4       B   \n",
       "956      14892         4          1937             1        4       B   \n",
       "1117       475         0           540             0        0       B   \n",
       "1631      7759         0           645             1        3       B   \n",
       "1929      2940        45           176             3        6       B   \n",
       "1981      4635         5          1894             2        4       B   \n",
       "2243       475         0           900             0        0       B   \n",
       "2659      2370         0           900             0        1       B   \n",
       "4088     13670         4           900             1       11       B   \n",
       "\n",
       "      OtherSquare  \n",
       "374           4.0  \n",
       "797          37.1  \n",
       "956         103.4  \n",
       "1117          7.2  \n",
       "1631         52.9  \n",
       "1929         45.0  \n",
       "1981         12.4  \n",
       "2243         11.4  \n",
       "2659         25.9  \n",
       "4088        122.1  "
      ]
     },
     "execution_count": 55,
     "metadata": {},
     "output_type": "execute_result"
    }
   ],
   "source": [
    "max_tst = np.quantile(dftst['Rooms'], q=0.99)\n",
    "min_tst = np.quantile(dftst['Rooms'], q=0.1)\n",
    "val = (dftst['Rooms'] > max_tst)|(dftst['Rooms'] < min_tst)\n",
    "dftst[val]"
   ]
  },
  {
   "cell_type": "markdown",
   "id": "9b4bd7a6",
   "metadata": {},
   "source": [
    "#### Было принято решение количество комнат более 4 приравнять к 4."
   ]
  },
  {
   "cell_type": "code",
   "execution_count": 56,
   "id": "fd1c1ca0",
   "metadata": {},
   "outputs": [],
   "source": [
    "dftr.loc[dftr['Rooms'] > max_tr, 'Rooms'] = 4\n",
    "dftst.loc[dftst['Rooms'] > max_tst, 'Rooms'] = 4\n"
   ]
  },
  {
   "cell_type": "markdown",
   "id": "405c7f8d",
   "metadata": {},
   "source": [
    "#### Общая площадь:"
   ]
  },
  {
   "cell_type": "code",
   "execution_count": 57,
   "id": "cef1d47f",
   "metadata": {},
   "outputs": [
    {
     "data": {
      "text/plain": [
       "14"
      ]
     },
     "execution_count": 57,
     "metadata": {},
     "output_type": "execute_result"
    }
   ],
   "source": [
    "(dftr['Square'] > 200).sum()"
   ]
  },
  {
   "cell_type": "code",
   "execution_count": 58,
   "id": "7f6dd8a7",
   "metadata": {},
   "outputs": [
    {
     "data": {
      "text/plain": [
       "5"
      ]
     },
     "execution_count": 58,
     "metadata": {},
     "output_type": "execute_result"
    }
   ],
   "source": [
    "(dftst['Square'] > 200).sum()"
   ]
  },
  {
   "cell_type": "markdown",
   "id": "dc7b9bea",
   "metadata": {},
   "source": [
    "#### В виду немногочисленности площадей более 200 квм, было принято решение приравянть все такие площади к медианным значениям."
   ]
  },
  {
   "cell_type": "code",
   "execution_count": 59,
   "id": "3087cdd3",
   "metadata": {},
   "outputs": [],
   "source": [
    "dftr['Square_big'] = 0\n",
    "dftst['Square_big'] = 0\n",
    "\n",
    "dftr.loc[dftr['Square'] > 200, 'Square_big'] = 1\n",
    "dftr.loc[dftr['Square_big'] == 1, 'Square'] = dftr['Square'].median()\n",
    "dftr.loc[dftr['Square_big'] == 1, 'LifeSquare'] = dftr['LifeSquare'].median()\n",
    "dftr.loc[dftr['Square_big'] == 1, 'KitchenSquare'] = dftr['KitchenSquare'].median()\n",
    "dftr.loc[dftr['Square_big'] == 1, 'OtherSquare'] = OSmedTR\n",
    "\n",
    "dftst.loc[dftst['Square'] > 200, 'Square_big'] = 1\n",
    "dftst.loc[dftst['Square_big'] == 1, 'Square'] = dftst['Square'].median()\n",
    "dftst.loc[dftst['Square_big'] == 1, 'LifeSquare'] = dftst['LifeSquare'].median()\n",
    "dftst.loc[dftst['Square_big'] == 1, 'KitchenSquare'] = dftst['KitchenSquare'].median()\n",
    "dftst.loc[dftst['Square_big'] == 1, 'OtherSquare'] = OSmedTST\n",
    "\n",
    "dftr.drop('Square_big', axis=1, inplace=True)\n",
    "dftst.drop('Square_big', axis=1, inplace=True)"
   ]
  },
  {
   "cell_type": "markdown",
   "id": "84d9bc7c",
   "metadata": {},
   "source": [
    "#### Этажность дома:"
   ]
  },
  {
   "cell_type": "code",
   "execution_count": 60,
   "id": "bdcfae68",
   "metadata": {},
   "outputs": [
    {
     "data": {
      "text/plain": [
       "28"
      ]
     },
     "execution_count": 60,
     "metadata": {},
     "output_type": "execute_result"
    }
   ],
   "source": [
    "(dftr['HouseFloor'] > 30).sum()"
   ]
  },
  {
   "cell_type": "code",
   "execution_count": 61,
   "id": "f4e0595f",
   "metadata": {},
   "outputs": [
    {
     "data": {
      "text/plain": [
       "23"
      ]
     },
     "execution_count": 61,
     "metadata": {},
     "output_type": "execute_result"
    }
   ],
   "source": [
    "(dftst['HouseFloor'] > 30).sum()"
   ]
  },
  {
   "cell_type": "markdown",
   "id": "641591b0",
   "metadata": {},
   "source": [
    "#### Было принято решение считать дома с этажностью более 30 за выбросы. Приравниваем их к медиане."
   ]
  },
  {
   "cell_type": "code",
   "execution_count": 62,
   "id": "98467e81",
   "metadata": {},
   "outputs": [],
   "source": [
    "dftr.loc[dftr['HouseFloor'] > 30, 'HouseFloor'] = dftr['HouseFloor'].median()\n",
    "dftst.loc[dftst['HouseFloor'] > 30, 'HouseFloor'] = dftst['HouseFloor'].median()"
   ]
  },
  {
   "cell_type": "code",
   "execution_count": 63,
   "id": "7cba8018",
   "metadata": {},
   "outputs": [
    {
     "data": {
      "text/plain": [
       "14"
      ]
     },
     "execution_count": 63,
     "metadata": {},
     "output_type": "execute_result"
    }
   ],
   "source": [
    "(dftr['HouseFloor']<dftr['Floor']).sum()"
   ]
  },
  {
   "cell_type": "code",
   "execution_count": 64,
   "id": "4f7fa1c0",
   "metadata": {},
   "outputs": [
    {
     "data": {
      "text/plain": [
       "15"
      ]
     },
     "execution_count": 64,
     "metadata": {},
     "output_type": "execute_result"
    }
   ],
   "source": [
    "(dftst['HouseFloor']<dftst['Floor']).sum()"
   ]
  },
  {
   "cell_type": "markdown",
   "id": "684c1fa0",
   "metadata": {},
   "source": [
    "#### Снова появилась проблема превышения этажности дома квартирами. Исправляем с помощью несложной формулы."
   ]
  },
  {
   "cell_type": "code",
   "execution_count": 65,
   "id": "9b8dc180",
   "metadata": {},
   "outputs": [],
   "source": [
    "dftr.loc[dftr['HouseFloor'] < dftr['Floor'], 'Floor'] = dftr['HouseFloor'] - int(dftr['Floor'].median()/2)\n",
    "dftst.loc[dftst['HouseFloor'] < dftst['Floor'], 'Floor'] = dftst['HouseFloor'] - int(dftst['Floor'].median()/2)"
   ]
  },
  {
   "cell_type": "code",
   "execution_count": 66,
   "id": "576b6c60",
   "metadata": {},
   "outputs": [
    {
     "data": {
      "text/plain": [
       "0"
      ]
     },
     "execution_count": 66,
     "metadata": {},
     "output_type": "execute_result"
    }
   ],
   "source": [
    "(dftr['HouseFloor']<dftr['Floor']).sum()"
   ]
  },
  {
   "cell_type": "code",
   "execution_count": 67,
   "id": "af056c0c",
   "metadata": {},
   "outputs": [
    {
     "data": {
      "text/plain": [
       "0"
      ]
     },
     "execution_count": 67,
     "metadata": {},
     "output_type": "execute_result"
    }
   ],
   "source": [
    "(dftst['HouseFloor']<dftst['Floor']).sum()"
   ]
  },
  {
   "cell_type": "markdown",
   "id": "90b678ee",
   "metadata": {},
   "source": [
    "#### Дата постройка дома:"
   ]
  },
  {
   "cell_type": "markdown",
   "id": "4160b2d4",
   "metadata": {},
   "source": [
    "#### Выявляем и исправляем вручную аномальные значения дат постройки домов."
   ]
  },
  {
   "cell_type": "code",
   "execution_count": 68,
   "id": "98ea1ae9",
   "metadata": {},
   "outputs": [
    {
     "data": {
      "text/html": [
       "<div>\n",
       "<style scoped>\n",
       "    .dataframe tbody tr th:only-of-type {\n",
       "        vertical-align: middle;\n",
       "    }\n",
       "\n",
       "    .dataframe tbody tr th {\n",
       "        vertical-align: top;\n",
       "    }\n",
       "\n",
       "    .dataframe thead th {\n",
       "        text-align: right;\n",
       "    }\n",
       "</style>\n",
       "<table border=\"1\" class=\"dataframe\">\n",
       "  <thead>\n",
       "    <tr style=\"text-align: right;\">\n",
       "      <th></th>\n",
       "      <th>Id</th>\n",
       "      <th>DistrictId</th>\n",
       "      <th>Rooms</th>\n",
       "      <th>Square</th>\n",
       "      <th>LifeSquare</th>\n",
       "      <th>KitchenSquare</th>\n",
       "      <th>Floor</th>\n",
       "      <th>HouseFloor</th>\n",
       "      <th>HouseYear</th>\n",
       "      <th>Ecology_1</th>\n",
       "      <th>...</th>\n",
       "      <th>Ecology_3</th>\n",
       "      <th>Social_1</th>\n",
       "      <th>Social_2</th>\n",
       "      <th>Social_3</th>\n",
       "      <th>Healthcare_1</th>\n",
       "      <th>Healthcare_2</th>\n",
       "      <th>Shops_1</th>\n",
       "      <th>Shops_2</th>\n",
       "      <th>Price</th>\n",
       "      <th>OtherSquare</th>\n",
       "    </tr>\n",
       "  </thead>\n",
       "  <tbody>\n",
       "    <tr>\n",
       "      <th>8828</th>\n",
       "      <td>11607</td>\n",
       "      <td>147</td>\n",
       "      <td>2</td>\n",
       "      <td>44.8</td>\n",
       "      <td>28.4</td>\n",
       "      <td>5.0</td>\n",
       "      <td>4</td>\n",
       "      <td>9</td>\n",
       "      <td>4968</td>\n",
       "      <td>0.319809</td>\n",
       "      <td>...</td>\n",
       "      <td>B</td>\n",
       "      <td>25</td>\n",
       "      <td>4756</td>\n",
       "      <td>16</td>\n",
       "      <td>2857</td>\n",
       "      <td>5</td>\n",
       "      <td>8</td>\n",
       "      <td>B</td>\n",
       "      <td>243028.60</td>\n",
       "      <td>11.4</td>\n",
       "    </tr>\n",
       "    <tr>\n",
       "      <th>9163</th>\n",
       "      <td>10814</td>\n",
       "      <td>109</td>\n",
       "      <td>1</td>\n",
       "      <td>37.3</td>\n",
       "      <td>20.2</td>\n",
       "      <td>9.0</td>\n",
       "      <td>9</td>\n",
       "      <td>12</td>\n",
       "      <td>-2005</td>\n",
       "      <td>0.136330</td>\n",
       "      <td>...</td>\n",
       "      <td>B</td>\n",
       "      <td>30</td>\n",
       "      <td>6141</td>\n",
       "      <td>10</td>\n",
       "      <td>262</td>\n",
       "      <td>3</td>\n",
       "      <td>6</td>\n",
       "      <td>B</td>\n",
       "      <td>254084.53</td>\n",
       "      <td>8.1</td>\n",
       "    </tr>\n",
       "  </tbody>\n",
       "</table>\n",
       "<p>2 rows × 21 columns</p>\n",
       "</div>"
      ],
      "text/plain": [
       "         Id DistrictId  Rooms  Square  LifeSquare  KitchenSquare  Floor  \\\n",
       "8828  11607        147      2    44.8        28.4            5.0      4   \n",
       "9163  10814        109      1    37.3        20.2            9.0      9   \n",
       "\n",
       "      HouseFloor  HouseYear  Ecology_1  ... Ecology_3 Social_1  Social_2  \\\n",
       "8828           9       4968   0.319809  ...         B       25      4756   \n",
       "9163          12      -2005   0.136330  ...         B       30      6141   \n",
       "\n",
       "      Social_3  Healthcare_1  Healthcare_2  Shops_1  Shops_2      Price  \\\n",
       "8828        16          2857             5        8        B  243028.60   \n",
       "9163        10           262             3        6        B  254084.53   \n",
       "\n",
       "      OtherSquare  \n",
       "8828         11.4  \n",
       "9163          8.1  \n",
       "\n",
       "[2 rows x 21 columns]"
      ]
     },
     "execution_count": 68,
     "metadata": {},
     "output_type": "execute_result"
    }
   ],
   "source": [
    "dftr[(dftr['HouseYear'] > 2020) | (dftr['HouseYear'] < 1900)]"
   ]
  },
  {
   "cell_type": "code",
   "execution_count": 69,
   "id": "7fb5ad2b",
   "metadata": {},
   "outputs": [
    {
     "data": {
      "text/html": [
       "<div>\n",
       "<style scoped>\n",
       "    .dataframe tbody tr th:only-of-type {\n",
       "        vertical-align: middle;\n",
       "    }\n",
       "\n",
       "    .dataframe tbody tr th {\n",
       "        vertical-align: top;\n",
       "    }\n",
       "\n",
       "    .dataframe thead th {\n",
       "        text-align: right;\n",
       "    }\n",
       "</style>\n",
       "<table border=\"1\" class=\"dataframe\">\n",
       "  <thead>\n",
       "    <tr style=\"text-align: right;\">\n",
       "      <th></th>\n",
       "      <th>Id</th>\n",
       "      <th>DistrictId</th>\n",
       "      <th>Rooms</th>\n",
       "      <th>Square</th>\n",
       "      <th>LifeSquare</th>\n",
       "      <th>KitchenSquare</th>\n",
       "      <th>Floor</th>\n",
       "      <th>HouseFloor</th>\n",
       "      <th>HouseYear</th>\n",
       "      <th>Ecology_1</th>\n",
       "      <th>Ecology_2</th>\n",
       "      <th>Ecology_3</th>\n",
       "      <th>Social_1</th>\n",
       "      <th>Social_2</th>\n",
       "      <th>Social_3</th>\n",
       "      <th>Healthcare_1</th>\n",
       "      <th>Healthcare_2</th>\n",
       "      <th>Shops_1</th>\n",
       "      <th>Shops_2</th>\n",
       "      <th>OtherSquare</th>\n",
       "    </tr>\n",
       "  </thead>\n",
       "  <tbody>\n",
       "  </tbody>\n",
       "</table>\n",
       "</div>"
      ],
      "text/plain": [
       "Empty DataFrame\n",
       "Columns: [Id, DistrictId, Rooms, Square, LifeSquare, KitchenSquare, Floor, HouseFloor, HouseYear, Ecology_1, Ecology_2, Ecology_3, Social_1, Social_2, Social_3, Healthcare_1, Healthcare_2, Shops_1, Shops_2, OtherSquare]\n",
       "Index: []"
      ]
     },
     "execution_count": 69,
     "metadata": {},
     "output_type": "execute_result"
    }
   ],
   "source": [
    "dftst[(dftst['HouseYear'] > 2020) | (dftst['HouseYear'] < 1900)]"
   ]
  },
  {
   "cell_type": "code",
   "execution_count": 70,
   "id": "780946be",
   "metadata": {},
   "outputs": [],
   "source": [
    "dftr.loc[8828, 'HouseYear'] = 1968"
   ]
  },
  {
   "cell_type": "code",
   "execution_count": 71,
   "id": "931b2d23",
   "metadata": {},
   "outputs": [],
   "source": [
    "dftr.loc[9163, 'HouseYear'] = 2005"
   ]
  },
  {
   "cell_type": "markdown",
   "id": "d5e89c98",
   "metadata": {},
   "source": [
    "### График распределения целевой переменной:"
   ]
  },
  {
   "cell_type": "code",
   "execution_count": 72,
   "id": "bf376429",
   "metadata": {},
   "outputs": [],
   "source": [
    "target_mean = round(dftr['Price'].mean(), 2)\n",
    "target_median = dftr['Price'].median()\n",
    "target_mode = dftr['Price'].mode()[0]"
   ]
  },
  {
   "cell_type": "code",
   "execution_count": 73,
   "id": "8af10449",
   "metadata": {},
   "outputs": [
    {
     "data": {
      "image/png": "[encoded data removed]",
      "text/plain": [
       "<Figure size 1152x576 with 1 Axes>"
      ]
     },
     "metadata": {
      "needs_background": "light"
     },
     "output_type": "display_data"
    }
   ],
   "source": [
    "plt.figure(figsize = (16, 8))\n",
    "\n",
    "sns.distplot(dftr['Price'], bins=50)\n",
    "\n",
    "y = np.linspace(0, 0.000005, 10)\n",
    "plt.plot([target_mean] * 10, y, label='mean',  linewidth=4)\n",
    "plt.plot([target_median] * 10, y, label='median',  linewidth=4)\n",
    "plt.plot([target_mode] * 10, y, label='mode', linewidth=4)\n",
    "\n",
    "plt.title('Distribution of Price')\n",
    "plt.legend()\n",
    "plt.show()"
   ]
  },
  {
   "cell_type": "markdown",
   "id": "67a026ac",
   "metadata": {},
   "source": [
    "### Матрицы гистограмм признаков:"
   ]
  },
  {
   "cell_type": "markdown",
   "id": "8f859e82",
   "metadata": {},
   "source": [
    "#### Тренировочные признаки"
   ]
  },
  {
   "cell_type": "code",
   "execution_count": 74,
   "id": "72cb6339",
   "metadata": {},
   "outputs": [],
   "source": [
    "dftr_num_features = dftr.select_dtypes(include=['float64', 'float32', 'float16', 'int32', 'int64', 'int16'])\n",
    "dftr_num_features.drop('Price', axis=1, inplace=True)\n",
    "dftr_num_features.drop('Healthcare_2', axis=1, inplace=True)\n",
    "dftr_num_features.drop('Shops_1', axis=1, inplace=True)"
   ]
  },
  {
   "cell_type": "code",
   "execution_count": 75,
   "id": "71849bea",
   "metadata": {},
   "outputs": [
    {
     "data": {
      "image/png": "[encoded data removed]",
      "text/plain": [
       "<Figure size 1152x1152 with 16 Axes>"
      ]
     },
     "metadata": {
      "needs_background": "light"
     },
     "output_type": "display_data"
    }
   ],
   "source": [
    "dftr_num_features.hist(figsize=(16,16), bins=20, grid=False);"
   ]
  },
  {
   "cell_type": "markdown",
   "id": "cff11523",
   "metadata": {},
   "source": [
    "#### Тестовые признаки"
   ]
  },
  {
   "cell_type": "code",
   "execution_count": 76,
   "id": "2cd31de5",
   "metadata": {},
   "outputs": [],
   "source": [
    "dftst_num_features = dftst.select_dtypes(include=['float64', 'float32', 'float16', 'int32', 'int64', 'int16'])\n",
    "dftst_num_features.drop('Healthcare_2', axis=1, inplace=True)\n",
    "dftst_num_features.drop('Shops_1', axis=1, inplace=True)"
   ]
  },
  {
   "cell_type": "code",
   "execution_count": 77,
   "id": "710224be",
   "metadata": {},
   "outputs": [
    {
     "data": {
      "image/png": "[encoded data removed]",
      "text/plain": [
       "<Figure size 1152x1152 with 16 Axes>"
      ]
     },
     "metadata": {
      "needs_background": "light"
     },
     "output_type": "display_data"
    }
   ],
   "source": [
    "dftst_num_features.hist(figsize=(16,16), bins=20, grid=False);"
   ]
  },
  {
   "cell_type": "markdown",
   "id": "b87949a8",
   "metadata": {},
   "source": [
    "#### В данном варианте обработки датасета было принято решение не исправлять обнаруженные статистическими методами выбросы по Rooms, KitchenSquare, HouseYear, Social_3, Healthcare_1 и OtherSquare в силу того, что квартиры с такими \"выбросными\" признаками имеют место быть и возможно модель обучится с ними лучше, чем без них."
   ]
  },
  {
   "cell_type": "markdown",
   "id": "b4d0d8dc",
   "metadata": {},
   "source": [
    "### Гистограммы категориальных признаков:"
   ]
  },
  {
   "cell_type": "code",
   "execution_count": 78,
   "id": "23fcd57e",
   "metadata": {},
   "outputs": [
    {
     "data": {
      "image/png": "[encoded data removed]",
      "text/plain": [
       "<Figure size 576x360 with 1 Axes>"
      ]
     },
     "metadata": {
      "needs_background": "light"
     },
     "output_type": "display_data"
    }
   ],
   "source": [
    "countsTR = dftr['Healthcare_2'].value_counts()\n",
    "    \n",
    "plt.figure(figsize=(8,5))    \n",
    "plt.title('Healthcare_2 Train')\n",
    "sns.barplot(countsTR.index, countsTR.values)\n",
    "    \n",
    "plt.show()"
   ]
  },
  {
   "cell_type": "code",
   "execution_count": 79,
   "id": "6df2d20f",
   "metadata": {},
   "outputs": [
    {
     "data": {
      "image/png": "[encoded data removed]",
      "text/plain": [
       "<Figure size 576x360 with 1 Axes>"
      ]
     },
     "metadata": {
      "needs_background": "light"
     },
     "output_type": "display_data"
    }
   ],
   "source": [
    "countsTST = dftst['Healthcare_2'].value_counts()\n",
    "    \n",
    "plt.figure(figsize=(8,5))    \n",
    "plt.title('Healthcare_2 Test')\n",
    "sns.barplot(countsTST.index, countsTST.values)\n",
    "    \n",
    "plt.show()"
   ]
  },
  {
   "cell_type": "code",
   "execution_count": 80,
   "id": "582f95e0",
   "metadata": {},
   "outputs": [
    {
     "data": {
      "image/png": "[encoded data removed]",
      "text/plain": [
       "<Figure size 576x360 with 1 Axes>"
      ]
     },
     "metadata": {
      "needs_background": "light"
     },
     "output_type": "display_data"
    }
   ],
   "source": [
    "counts = dftr['Shops_1'].value_counts()\n",
    "    \n",
    "plt.figure(figsize=(8,5))    \n",
    "plt.title('Shops_1 Train')\n",
    "sns.barplot(counts.index, counts.values)\n",
    "    \n",
    "plt.show()"
   ]
  },
  {
   "cell_type": "code",
   "execution_count": 81,
   "id": "8a9fe8ad",
   "metadata": {},
   "outputs": [
    {
     "data": {
      "image/png": "[encoded data removed]",
      "text/plain": [
       "<Figure size 576x360 with 1 Axes>"
      ]
     },
     "metadata": {
      "needs_background": "light"
     },
     "output_type": "display_data"
    }
   ],
   "source": [
    "counts = dftst['Shops_1'].value_counts()\n",
    "    \n",
    "plt.figure(figsize=(8,5))    \n",
    "plt.title('Shops_1 Test')\n",
    "sns.barplot(counts.index, counts.values)\n",
    "    \n",
    "plt.show()"
   ]
  },
  {
   "cell_type": "markdown",
   "id": "b11db909",
   "metadata": {},
   "source": [
    "### Вводим дополнительные признаки:"
   ]
  },
  {
   "cell_type": "code",
   "execution_count": 82,
   "id": "b6a0ed0e",
   "metadata": {},
   "outputs": [
    {
     "data": {
      "image/png": "[encoded data removed]",
      "text/plain": [
       "<Figure size 1296x720 with 2 Axes>"
      ]
     },
     "metadata": {
      "needs_background": "light"
     },
     "output_type": "display_data"
    }
   ],
   "source": [
    "plt.figure(figsize = (18,10))\n",
    "\n",
    "sns.set(font_scale=1.4)\n",
    "\n",
    "corr_matrix = dftr.corr()\n",
    "corr_matrix = np.round(corr_matrix, 2)\n",
    "corr_matrix[np.abs(corr_matrix) < 0.3] = 0\n",
    "\n",
    "sns.heatmap(corr_matrix, annot=True, linewidths=.5, cmap='nipy_spectral')\n",
    "\n",
    "plt.title('Correlation matrix')\n",
    "plt.show()"
   ]
  },
  {
   "cell_type": "code",
   "execution_count": 83,
   "id": "88641bcd",
   "metadata": {},
   "outputs": [
    {
     "data": {
      "image/png": "[encoded data removed]",
      "text/plain": [
       "<Figure size 576x576 with 3 Axes>"
      ]
     },
     "metadata": {},
     "output_type": "display_data"
    }
   ],
   "source": [
    "grid = sns.jointplot(dftr['Square'], dftr['Rooms'], kind='reg')\n",
    "grid.fig.set_figwidth(8)\n",
    "grid.fig.set_figheight(8)\n",
    "\n",
    "plt.show()"
   ]
  },
  {
   "cell_type": "code",
   "execution_count": 84,
   "id": "b659267f",
   "metadata": {},
   "outputs": [
    {
     "data": {
      "image/png": "[encoded data removed]",
      "text/plain": [
       "<Figure size 864x432 with 1 Axes>"
      ]
     },
     "metadata": {},
     "output_type": "display_data"
    }
   ],
   "source": [
    "dftr['Social_1'].hist(figsize=(12,6), bins=100, grid=False);"
   ]
  },
  {
   "cell_type": "markdown",
   "id": "dab39fcb",
   "metadata": {},
   "source": [
    "#### С помощью матрицы корреляций, гистограмм и графиков распределения и плотности принимаем решение сгенерировать признаки отношения площадь-комнаты и категоризации по количеству комнат, площади кухни и соц.объектов."
   ]
  },
  {
   "cell_type": "code",
   "execution_count": 85,
   "id": "941c9806",
   "metadata": {},
   "outputs": [],
   "source": [
    "dftr['SquareRooms'] = (dftr['Square'] / dftr['Rooms'])\n",
    "dftst['SquareRooms'] = (dftst['Square'] / dftst['Rooms'])\n",
    "\n",
    "dftr['MidRooms'] = (dftr['Rooms'].between(2, 3, inclusive=True)) * 1\n",
    "dftst['MidRooms'] = (dftst['Rooms'].between(2, 3, inclusive=True)) * 1\n",
    "dftr['LowRooms'] = (dftr['Rooms'] < 2) * 1\n",
    "dftst['LowRooms'] = (dftst['Rooms'] < 2) * 1\n",
    "\n",
    "dftr['MidKitch'] = (dftr['KitchenSquare'].between(5, 15, inclusive=True)) * 1\n",
    "dftst['MidKitch'] = (dftst['KitchenSquare'].between(5, 15, inclusive=True)) * 1\n",
    "dftr['LowKitch'] = (dftr['KitchenSquare'] < 5) * 1\n",
    "dftst['LowKitch'] = (dftst['KitchenSquare'] < 5) * 1\n",
    "\n",
    "dftr['MidSocial'] = (dftr['Social_1'].between(15, 40, inclusive=True)) * 1\n",
    "dftst['MidSocial'] = (dftst['Social_1'].between(15, 40, inclusive=True)) * 1"
   ]
  },
  {
   "cell_type": "markdown",
   "id": "0412fc6e",
   "metadata": {},
   "source": [
    "#### Сгенерированы бинарные признаки."
   ]
  },
  {
   "cell_type": "code",
   "execution_count": 86,
   "id": "b4c1de6c",
   "metadata": {},
   "outputs": [],
   "source": [
    "dftr['Ecology_3_bin'] = dftr['Ecology_3'].replace({'A':0, 'B':1})\n",
    "dftr['Shops_2_bin'] = dftr['Shops_2'].replace({'A':0, 'B':1})\n",
    "\n",
    "dftst['Ecology_3_bin'] = dftst['Ecology_3'].replace({'A':0, 'B':1})\n",
    "dftst['Shops_2_bin'] = dftst['Shops_2'].replace({'A':0, 'B':1})"
   ]
  },
  {
   "cell_type": "markdown",
   "id": "4e89af12",
   "metadata": {},
   "source": [
    "#### Сгенерирован и преобразован в долевое представление признак количества домов в районе и категориальный признак размера района."
   ]
  },
  {
   "cell_type": "code",
   "execution_count": 87,
   "id": "2f6061d8",
   "metadata": {},
   "outputs": [],
   "source": [
    "district_size = dftr['DistrictId'].value_counts(normalize=True).reset_index().rename(columns={'index':'DistrictId', 'DistrictId':'DistrictSize'})\n",
    "dftr = dftr.merge(district_size, on='DistrictId', how='left')\n",
    "district_size = dftst['DistrictId'].value_counts(normalize=True).reset_index().rename(columns={'index':'DistrictId', 'DistrictId':'DistrictSize'})\n",
    "dftst = dftst.merge(district_size, on='DistrictId', how='left')"
   ]
  },
  {
   "cell_type": "code",
   "execution_count": 88,
   "id": "40d520c6",
   "metadata": {},
   "outputs": [
    {
     "data": {
      "text/plain": [
       "True     5069\n",
       "False    4931\n",
       "Name: DistrictSize, dtype: int64"
      ]
     },
     "execution_count": 88,
     "metadata": {},
     "output_type": "execute_result"
    }
   ],
   "source": [
    "(dftr['DistrictSize'] > 0.01).value_counts()"
   ]
  },
  {
   "cell_type": "code",
   "execution_count": 89,
   "id": "4eb05563",
   "metadata": {},
   "outputs": [],
   "source": [
    "dftr['IsDistrictLarge'] = (dftr['DistrictSize'] > 0.01).astype(int)\n",
    "dftst['IsDistrictLarge'] = (dftst['DistrictSize'] > 0.01).astype(int)"
   ]
  },
  {
   "cell_type": "code",
   "execution_count": 90,
   "id": "14de07f1",
   "metadata": {},
   "outputs": [
    {
     "data": {
      "text/plain": [
       "IsDistrictLarge\n",
       "0    245930.782920\n",
       "1    183212.444965\n",
       "Name: Price, dtype: float64"
      ]
     },
     "execution_count": 90,
     "metadata": {},
     "output_type": "execute_result"
    }
   ],
   "source": [
    "dftr.groupby([\"IsDistrictLarge\"])[\"Price\"].mean()"
   ]
  },
  {
   "cell_type": "markdown",
   "id": "a0578adb",
   "metadata": {},
   "source": [
    "#### На основе 'DistrictSize' сгенерированы признаки: отношение количества соц.объектов к размеру района; отношение количества мед.объектов к размеру района; "
   ]
  },
  {
   "cell_type": "code",
   "execution_count": 91,
   "id": "2027901e",
   "metadata": {},
   "outputs": [],
   "source": [
    "dftr['SocialDistrict'] = (dftr['Social_2'] / dftr['DistrictSize'])\n",
    "dftst['SocialDistrict'] = (dftst['Social_2'] / dftst['DistrictSize'])\n",
    "\n",
    "dftr['HealthDistrict'] = (dftr['Healthcare_2'] / dftr['DistrictSize'])\n",
    "dftst['HealthDistrict'] = (dftst['Healthcare_2'] / dftst['DistrictSize'])"
   ]
  },
  {
   "cell_type": "markdown",
   "id": "570cbfbd",
   "metadata": {},
   "source": [
    "### Промежуточное сохранение данных:"
   ]
  },
  {
   "cell_type": "code",
   "execution_count": 92,
   "id": "f4149b34",
   "metadata": {},
   "outputs": [],
   "source": [
    "dftr.to_csv(TRAIN_PREPARED_DATASET_PATH, sep=\",\", index=False)\n",
    "dftst.to_csv(TEST_PREPARED_DATASET_PATH, sep=\",\", index=False)"
   ]
  },
  {
   "cell_type": "markdown",
   "id": "ad46b9b2",
   "metadata": {},
   "source": [
    "### Загрузка данных:"
   ]
  },
  {
   "cell_type": "code",
   "execution_count": 93,
   "id": "58d9848b",
   "metadata": {},
   "outputs": [],
   "source": [
    "TRAIN_DATASET_PATH = './/prepared_train_hard.csv'\n",
    "TEST_DATASET_PATH = './/prepared_test_hard.csv'"
   ]
  },
  {
   "cell_type": "code",
   "execution_count": 94,
   "id": "2dbcb3df",
   "metadata": {},
   "outputs": [],
   "source": [
    "dftr = pd.read_csv(TRAIN_DATASET_PATH)\n",
    "dftst = pd.read_csv(TEST_DATASET_PATH)"
   ]
  },
  {
   "cell_type": "markdown",
   "id": "07220090",
   "metadata": {},
   "source": [
    "### Отбор признаков для нормализации и нормализация данных:"
   ]
  },
  {
   "cell_type": "code",
   "execution_count": 95,
   "id": "d92507ca",
   "metadata": {},
   "outputs": [
    {
     "data": {
      "text/plain": [
       "Index(['Id', 'DistrictId', 'Rooms', 'Square', 'LifeSquare', 'KitchenSquare',\n",
       "       'Floor', 'HouseFloor', 'HouseYear', 'Ecology_1', 'Ecology_2',\n",
       "       'Ecology_3', 'Social_1', 'Social_2', 'Social_3', 'Healthcare_1',\n",
       "       'Healthcare_2', 'Shops_1', 'Shops_2', 'Price', 'OtherSquare',\n",
       "       'SquareRooms', 'MidRooms', 'LowRooms', 'MidKitch', 'LowKitch',\n",
       "       'MidSocial', 'Ecology_3_bin', 'Shops_2_bin', 'DistrictSize',\n",
       "       'IsDistrictLarge', 'SocialDistrict', 'HealthDistrict'],\n",
       "      dtype='object')"
      ]
     },
     "execution_count": 95,
     "metadata": {},
     "output_type": "execute_result"
    }
   ],
   "source": [
    "dftr.columns"
   ]
  },
  {
   "cell_type": "code",
   "execution_count": 96,
   "id": "dae9127b",
   "metadata": {},
   "outputs": [],
   "source": [
    "feature_names_for_stand = ['Rooms', 'Square', 'LifeSquare', 'KitchenSquare', 'Floor', 'HouseFloor', 'HouseYear',\n",
    "                 'Ecology_1', 'Social_1', 'Social_2', 'Social_3',\n",
    "                 'Healthcare_1', 'Healthcare_2', 'Shops_1', 'OtherSquare', 'DistrictSize','IsDistrictLarge', 'SquareRooms',\n",
    "                           'SocialDistrict', 'HealthDistrict']"
   ]
  },
  {
   "cell_type": "code",
   "execution_count": 97,
   "id": "78f94fb9",
   "metadata": {},
   "outputs": [],
   "source": [
    "from sklearn.preprocessing import MinMaxScaler\n",
    "scaler = MinMaxScaler()"
   ]
  },
  {
   "cell_type": "code",
   "execution_count": 98,
   "id": "cffc9137",
   "metadata": {},
   "outputs": [],
   "source": [
    "stand_features = scaler.fit_transform(dftr[feature_names_for_stand])\n",
    "dftr[feature_names_for_stand] = pd.DataFrame(stand_features, columns=feature_names_for_stand)"
   ]
  },
  {
   "cell_type": "code",
   "execution_count": 99,
   "id": "b1ebe0d7",
   "metadata": {},
   "outputs": [],
   "source": [
    "stand_features = scaler.fit_transform(dftst[feature_names_for_stand])\n",
    "dftst[feature_names_for_stand] = pd.DataFrame(stand_features, columns=feature_names_for_stand)"
   ]
  },
  {
   "cell_type": "markdown",
   "id": "bb3c1d56",
   "metadata": {},
   "source": [
    "### Разбиение тренировочного датасета:"
   ]
  },
  {
   "cell_type": "code",
   "execution_count": 100,
   "id": "de2913fb",
   "metadata": {},
   "outputs": [],
   "source": [
    "feature_names = ['Rooms', 'Square', 'LifeSquare', 'KitchenSquare', 'Floor', 'HouseFloor', 'HouseYear',\n",
    "                 'Ecology_1', 'Social_1', 'Social_2', 'Social_3',\n",
    "                 'Healthcare_1', 'Healthcare_2', 'Shops_1']\n",
    "\n",
    "new_feature_names = ['OtherSquare','Ecology_3_bin','Shops_2_bin', 'DistrictSize', 'IsDistrictLarge', \n",
    "                     'MidRooms', 'LowRooms', 'MidKitch', 'LowKitch', 'MidSocial','SquareRooms','SocialDistrict', \n",
    "                     'HealthDistrict']\n",
    "\n",
    "target_name = 'Price'"
   ]
  },
  {
   "cell_type": "code",
   "execution_count": 101,
   "id": "01e1beae",
   "metadata": {},
   "outputs": [],
   "source": [
    "X = dftr[feature_names + new_feature_names]\n",
    "y = dftr[target_name]\n",
    "Test = dftst[feature_names + new_feature_names]"
   ]
  },
  {
   "cell_type": "code",
   "execution_count": 102,
   "id": "d135665c",
   "metadata": {},
   "outputs": [],
   "source": [
    "X_train, X_test, y_train, y_test = train_test_split(X, y, test_size=0.33, shuffle=True, random_state=21)"
   ]
  },
  {
   "cell_type": "markdown",
   "id": "8ff53a2f",
   "metadata": {},
   "source": [
    "### Построение модели и проверка результатов на тренировочном датасете:"
   ]
  },
  {
   "cell_type": "code",
   "execution_count": 103,
   "id": "2ba39215",
   "metadata": {},
   "outputs": [
    {
     "name": "stdout",
     "output_type": "stream",
     "text": [
      "Train R2:\t0.832\n",
      "Valid R2:\t0.757\n",
      "Overfitting:    9.01%\n"
     ]
    },
    {
     "data": {
      "image/png": "[encoded data removed]",
      "text/plain": [
       "<Figure size 1296x720 with 2 Axes>"
      ]
     },
     "metadata": {},
     "output_type": "display_data"
    }
   ],
   "source": [
    "gb_model = GradientBoostingRegressor(criterion='mse',\n",
    "                                     max_depth=4,\n",
    "                                     min_samples_leaf=120,\n",
    "                                     random_state=12,  \n",
    "                                     n_estimators=500)\n",
    "gb_model.fit(X_train, y_train)\n",
    "\n",
    "y_train_preds = gb_model.predict(X_train)\n",
    "y_test_preds = gb_model.predict(X_test)\n",
    "\n",
    "evaluate_preds(y_train, y_train_preds, y_test, y_test_preds)"
   ]
  },
  {
   "cell_type": "markdown",
   "id": "5ad4a72f",
   "metadata": {},
   "source": [
    "### Оценка важности признаков:"
   ]
  },
  {
   "cell_type": "code",
   "execution_count": 104,
   "id": "74215459",
   "metadata": {},
   "outputs": [],
   "source": [
    "feature_importances = pd.DataFrame(zip(X_train.columns, \n",
    "                                       gb_model.feature_importances_), \n",
    "                                   columns=['feature_name', 'importance'])\n",
    "\n",
    "feature_importances.sort_values(by='importance', ascending=False, inplace=True)"
   ]
  },
  {
   "cell_type": "code",
   "execution_count": 105,
   "id": "d368f3b2",
   "metadata": {},
   "outputs": [
    {
     "data": {
      "text/html": [
       "<div>\n",
       "<style scoped>\n",
       "    .dataframe tbody tr th:only-of-type {\n",
       "        vertical-align: middle;\n",
       "    }\n",
       "\n",
       "    .dataframe tbody tr th {\n",
       "        vertical-align: top;\n",
       "    }\n",
       "\n",
       "    .dataframe thead th {\n",
       "        text-align: right;\n",
       "    }\n",
       "</style>\n",
       "<table border=\"1\" class=\"dataframe\">\n",
       "  <thead>\n",
       "    <tr style=\"text-align: right;\">\n",
       "      <th></th>\n",
       "      <th>feature_name</th>\n",
       "      <th>importance</th>\n",
       "    </tr>\n",
       "  </thead>\n",
       "  <tbody>\n",
       "    <tr>\n",
       "      <th>1</th>\n",
       "      <td>Square</td>\n",
       "      <td>0.444909</td>\n",
       "    </tr>\n",
       "    <tr>\n",
       "      <th>25</th>\n",
       "      <td>SocialDistrict</td>\n",
       "      <td>0.224209</td>\n",
       "    </tr>\n",
       "    <tr>\n",
       "      <th>17</th>\n",
       "      <td>DistrictSize</td>\n",
       "      <td>0.070086</td>\n",
       "    </tr>\n",
       "    <tr>\n",
       "      <th>10</th>\n",
       "      <td>Social_3</td>\n",
       "      <td>0.051973</td>\n",
       "    </tr>\n",
       "    <tr>\n",
       "      <th>7</th>\n",
       "      <td>Ecology_1</td>\n",
       "      <td>0.029431</td>\n",
       "    </tr>\n",
       "    <tr>\n",
       "      <th>6</th>\n",
       "      <td>HouseYear</td>\n",
       "      <td>0.021942</td>\n",
       "    </tr>\n",
       "    <tr>\n",
       "      <th>0</th>\n",
       "      <td>Rooms</td>\n",
       "      <td>0.020647</td>\n",
       "    </tr>\n",
       "    <tr>\n",
       "      <th>26</th>\n",
       "      <td>HealthDistrict</td>\n",
       "      <td>0.017040</td>\n",
       "    </tr>\n",
       "    <tr>\n",
       "      <th>2</th>\n",
       "      <td>LifeSquare</td>\n",
       "      <td>0.015441</td>\n",
       "    </tr>\n",
       "    <tr>\n",
       "      <th>9</th>\n",
       "      <td>Social_2</td>\n",
       "      <td>0.013644</td>\n",
       "    </tr>\n",
       "    <tr>\n",
       "      <th>14</th>\n",
       "      <td>OtherSquare</td>\n",
       "      <td>0.012600</td>\n",
       "    </tr>\n",
       "    <tr>\n",
       "      <th>11</th>\n",
       "      <td>Healthcare_1</td>\n",
       "      <td>0.012381</td>\n",
       "    </tr>\n",
       "    <tr>\n",
       "      <th>5</th>\n",
       "      <td>HouseFloor</td>\n",
       "      <td>0.011809</td>\n",
       "    </tr>\n",
       "    <tr>\n",
       "      <th>24</th>\n",
       "      <td>SquareRooms</td>\n",
       "      <td>0.010021</td>\n",
       "    </tr>\n",
       "    <tr>\n",
       "      <th>13</th>\n",
       "      <td>Shops_1</td>\n",
       "      <td>0.008669</td>\n",
       "    </tr>\n",
       "    <tr>\n",
       "      <th>3</th>\n",
       "      <td>KitchenSquare</td>\n",
       "      <td>0.008291</td>\n",
       "    </tr>\n",
       "    <tr>\n",
       "      <th>4</th>\n",
       "      <td>Floor</td>\n",
       "      <td>0.008290</td>\n",
       "    </tr>\n",
       "    <tr>\n",
       "      <th>8</th>\n",
       "      <td>Social_1</td>\n",
       "      <td>0.006564</td>\n",
       "    </tr>\n",
       "    <tr>\n",
       "      <th>20</th>\n",
       "      <td>LowRooms</td>\n",
       "      <td>0.006362</td>\n",
       "    </tr>\n",
       "    <tr>\n",
       "      <th>21</th>\n",
       "      <td>MidKitch</td>\n",
       "      <td>0.001961</td>\n",
       "    </tr>\n",
       "    <tr>\n",
       "      <th>12</th>\n",
       "      <td>Healthcare_2</td>\n",
       "      <td>0.001279</td>\n",
       "    </tr>\n",
       "    <tr>\n",
       "      <th>23</th>\n",
       "      <td>MidSocial</td>\n",
       "      <td>0.001027</td>\n",
       "    </tr>\n",
       "    <tr>\n",
       "      <th>16</th>\n",
       "      <td>Shops_2_bin</td>\n",
       "      <td>0.000862</td>\n",
       "    </tr>\n",
       "    <tr>\n",
       "      <th>15</th>\n",
       "      <td>Ecology_3_bin</td>\n",
       "      <td>0.000294</td>\n",
       "    </tr>\n",
       "    <tr>\n",
       "      <th>22</th>\n",
       "      <td>LowKitch</td>\n",
       "      <td>0.000128</td>\n",
       "    </tr>\n",
       "    <tr>\n",
       "      <th>19</th>\n",
       "      <td>MidRooms</td>\n",
       "      <td>0.000121</td>\n",
       "    </tr>\n",
       "    <tr>\n",
       "      <th>18</th>\n",
       "      <td>IsDistrictLarge</td>\n",
       "      <td>0.000020</td>\n",
       "    </tr>\n",
       "  </tbody>\n",
       "</table>\n",
       "</div>"
      ],
      "text/plain": [
       "       feature_name  importance\n",
       "1            Square    0.444909\n",
       "25   SocialDistrict    0.224209\n",
       "17     DistrictSize    0.070086\n",
       "10         Social_3    0.051973\n",
       "7         Ecology_1    0.029431\n",
       "6         HouseYear    0.021942\n",
       "0             Rooms    0.020647\n",
       "26   HealthDistrict    0.017040\n",
       "2        LifeSquare    0.015441\n",
       "9          Social_2    0.013644\n",
       "14      OtherSquare    0.012600\n",
       "11     Healthcare_1    0.012381\n",
       "5        HouseFloor    0.011809\n",
       "24      SquareRooms    0.010021\n",
       "13          Shops_1    0.008669\n",
       "3     KitchenSquare    0.008291\n",
       "4             Floor    0.008290\n",
       "8          Social_1    0.006564\n",
       "20         LowRooms    0.006362\n",
       "21         MidKitch    0.001961\n",
       "12     Healthcare_2    0.001279\n",
       "23        MidSocial    0.001027\n",
       "16      Shops_2_bin    0.000862\n",
       "15    Ecology_3_bin    0.000294\n",
       "22         LowKitch    0.000128\n",
       "19         MidRooms    0.000121\n",
       "18  IsDistrictLarge    0.000020"
      ]
     },
     "execution_count": 105,
     "metadata": {},
     "output_type": "execute_result"
    }
   ],
   "source": [
    "feature_importances"
   ]
  },
  {
   "cell_type": "markdown",
   "id": "2ecaf18d",
   "metadata": {},
   "source": [
    "### Предсказание цен по тестовому датасету и запись результатов в файл:"
   ]
  },
  {
   "cell_type": "code",
   "execution_count": 106,
   "id": "08d1a210",
   "metadata": {},
   "outputs": [],
   "source": [
    "Price = gb_model.predict(Test)"
   ]
  },
  {
   "cell_type": "code",
   "execution_count": 107,
   "id": "23a5b8c1",
   "metadata": {},
   "outputs": [
    {
     "data": {
      "text/plain": [
       "(5000,)"
      ]
     },
     "execution_count": 107,
     "metadata": {},
     "output_type": "execute_result"
    }
   ],
   "source": [
    "Price.shape"
   ]
  },
  {
   "cell_type": "code",
   "execution_count": 108,
   "id": "7876c933",
   "metadata": {},
   "outputs": [],
   "source": [
    "Price = np.round(Price, 2)"
   ]
  },
  {
   "cell_type": "code",
   "execution_count": 109,
   "id": "9c06a36e",
   "metadata": {},
   "outputs": [],
   "source": [
    "test_id = dftst[\"Id\"]\n",
    "pred_df = pd.DataFrame()\n",
    "pred_df[\"Id\"] = test_id\n",
    "pred_df[\"Price\"] = Price\n",
    "pred_df.to_csv(\"./predictions_GB.csv\", index=False)"
   ]
  }
 ],
 "metadata": {
  "kernelspec": {
   "display_name": "Python 3",
   "language": "python",
   "name": "python3"
  },
  "language_info": {
   "codemirror_mode": {
    "name": "ipython",
    "version": 3
   },
   "file_extension": ".py",
   "mimetype": "text/x-python",
   "name": "python",
   "nbconvert_exporter": "python",
   "pygments_lexer": "ipython3",
   "version": "3.8.8"
  }
 },
 "nbformat": 4,
 "nbformat_minor": 5
}
