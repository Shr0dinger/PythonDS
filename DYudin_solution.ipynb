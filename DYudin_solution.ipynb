{
 "cells": [
  {
   "cell_type": "markdown",
   "id": "2b25d833",
   "metadata": {},
   "source": [
    "### Загрузка библиотек и функций:"
   ]
  },
  {
   "cell_type": "code",
   "execution_count": 1,
   "id": "7f15b887",
   "metadata": {},
   "outputs": [],
   "source": [
    "# !pip install xgboost\n",
    "# !pip install lightgbm\n",
    "# !pip install catboost"
   ]
  },
  {
   "cell_type": "code",
   "execution_count": 2,
   "id": "0152599c",
   "metadata": {},
   "outputs": [],
   "source": [
    "import numpy as np\n",
    "import pandas as pd\n",
    "import pickle   \n",
    "import random\n",
    "\n",
    "import matplotlib\n",
    "import matplotlib.pyplot as plt\n",
    "import seaborn as sns\n",
    "%matplotlib inline\n",
    "\n",
    "from scipy.stats import shapiro\n",
    "from scipy.stats import probplot\n",
    "from scipy.stats import ttest_ind, mannwhitneyu\n",
    "from scipy.stats import chi2_contingency\n",
    "from statsmodels.stats.weightstats import zconfint\n",
    "\n",
    "from sklearn.model_selection import train_test_split, ShuffleSplit, cross_val_score, learning_curve\n",
    "from sklearn.preprocessing import StandardScaler, MinMaxScaler\n",
    "from sklearn.model_selection import KFold, GridSearchCV, RandomizedSearchCV\n",
    "from sklearn.metrics import classification_report, f1_score, precision_score, recall_score\n",
    "from sklearn.linear_model import LogisticRegression\n",
    "from sklearn.neighbors import KNeighborsClassifier\n",
    "import xgboost as xgb, lightgbm as lgbm, catboost as catb"
   ]
  },
  {
   "cell_type": "code",
   "execution_count": 3,
   "id": "80d7b863",
   "metadata": {},
   "outputs": [],
   "source": [
    "import warnings\n",
    "warnings.filterwarnings('ignore')"
   ]
  },
  {
   "cell_type": "code",
   "execution_count": 4,
   "id": "c04a251a",
   "metadata": {},
   "outputs": [],
   "source": [
    "matplotlib.rcParams.update({'font.size': 14})"
   ]
  },
  {
   "cell_type": "code",
   "execution_count": 5,
   "id": "a7a17049",
   "metadata": {},
   "outputs": [],
   "source": [
    "def get_classification_report(y_train_true, y_train_pred, y_test_true, y_test_pred):\n",
    "    print('TRAIN\\n\\n' + classification_report(y_train_true, y_train_pred))\n",
    "    print('TEST\\n\\n' + classification_report(y_test_true, y_test_pred))\n",
    "    print('CONFUSION MATRIX\\n')\n",
    "    print(pd.crosstab(y_test_true, y_test_pred))"
   ]
  },
  {
   "cell_type": "code",
   "execution_count": 6,
   "id": "8b1ec5be",
   "metadata": {},
   "outputs": [],
   "source": [
    "def balance_df_by_target(df, target_name):\n",
    "\n",
    "    target_counts = df[target_name].value_counts()\n",
    "\n",
    "    major_class_name = target_counts.argmax()\n",
    "    minor_class_name = target_counts.argmin()\n",
    "\n",
    "    disbalance_coeff = int(target_counts[major_class_name] / target_counts[minor_class_name]) - 1\n",
    "\n",
    "    for i in range(disbalance_coeff):\n",
    "        sample = df[df[target_name] == minor_class_name].sample(target_counts[minor_class_name])\n",
    "        df = df.append(sample, ignore_index=True)\n",
    "\n",
    "    return df.sample(frac=1) "
   ]
  },
  {
   "cell_type": "code",
   "execution_count": 7,
   "id": "d99c8050",
   "metadata": {},
   "outputs": [],
   "source": [
    "def show_feature_importances(feature_names, feature_importances, get_top=None):\n",
    "    feature_importances = pd.DataFrame({'feature': feature_names, 'importance': feature_importances})\n",
    "    feature_importances = feature_importances.sort_values('importance', ascending=False)\n",
    "       \n",
    "    plt.figure(figsize = (20, len(feature_importances) * 0.355))\n",
    "    \n",
    "    sns.barplot(feature_importances['importance'], feature_importances['feature'])\n",
    "    \n",
    "    plt.xlabel('Importance')\n",
    "    plt.title('Importance of features')\n",
    "    plt.show()\n",
    "    \n",
    "    if get_top is not None:\n",
    "        return feature_importances['feature'][:get_top].tolist()"
   ]
  },
  {
   "cell_type": "markdown",
   "id": "8ecc45d5",
   "metadata": {},
   "source": [
    "### Загрузка данных:"
   ]
  },
  {
   "cell_type": "code",
   "execution_count": 8,
   "id": "b25fcefd",
   "metadata": {},
   "outputs": [],
   "source": [
    "TRAIN_DATASET_PATH = './/course_project_train.csv'\n",
    "TEST_DATASET_PATH = './/course_project_test.csv'\n",
    "TRAIN_PREPARED_DATASET_PATH = './/prepared_train_DS_2.csv'\n",
    "TEST_PREPARED_DATASET_PATH = './/prepared_test_DS_2.csv'"
   ]
  },
  {
   "cell_type": "markdown",
   "id": "99386118",
   "metadata": {},
   "source": [
    "### Обзор датасета:"
   ]
  },
  {
   "cell_type": "code",
   "execution_count": 9,
   "id": "76a903d5",
   "metadata": {},
   "outputs": [
    {
     "data": {
      "text/html": [
       "<div>\n",
       "<style scoped>\n",
       "    .dataframe tbody tr th:only-of-type {\n",
       "        vertical-align: middle;\n",
       "    }\n",
       "\n",
       "    .dataframe tbody tr th {\n",
       "        vertical-align: top;\n",
       "    }\n",
       "\n",
       "    .dataframe thead th {\n",
       "        text-align: right;\n",
       "    }\n",
       "</style>\n",
       "<table border=\"1\" class=\"dataframe\">\n",
       "  <thead>\n",
       "    <tr style=\"text-align: right;\">\n",
       "      <th></th>\n",
       "      <th>Home Ownership</th>\n",
       "      <th>Annual Income</th>\n",
       "      <th>Years in current job</th>\n",
       "      <th>Tax Liens</th>\n",
       "      <th>Number of Open Accounts</th>\n",
       "      <th>Years of Credit History</th>\n",
       "      <th>Maximum Open Credit</th>\n",
       "      <th>Number of Credit Problems</th>\n",
       "      <th>Months since last delinquent</th>\n",
       "      <th>Bankruptcies</th>\n",
       "      <th>Purpose</th>\n",
       "      <th>Term</th>\n",
       "      <th>Current Loan Amount</th>\n",
       "      <th>Current Credit Balance</th>\n",
       "      <th>Monthly Debt</th>\n",
       "      <th>Credit Score</th>\n",
       "      <th>Credit Default</th>\n",
       "    </tr>\n",
       "  </thead>\n",
       "  <tbody>\n",
       "    <tr>\n",
       "      <th>0</th>\n",
       "      <td>Own Home</td>\n",
       "      <td>482087.0</td>\n",
       "      <td>NaN</td>\n",
       "      <td>0.0</td>\n",
       "      <td>11.0</td>\n",
       "      <td>26.3</td>\n",
       "      <td>685960.0</td>\n",
       "      <td>1.0</td>\n",
       "      <td>NaN</td>\n",
       "      <td>1.0</td>\n",
       "      <td>debt consolidation</td>\n",
       "      <td>Short Term</td>\n",
       "      <td>99999999.0</td>\n",
       "      <td>47386.0</td>\n",
       "      <td>7914.0</td>\n",
       "      <td>749.0</td>\n",
       "      <td>0</td>\n",
       "    </tr>\n",
       "    <tr>\n",
       "      <th>1</th>\n",
       "      <td>Own Home</td>\n",
       "      <td>1025487.0</td>\n",
       "      <td>10+ years</td>\n",
       "      <td>0.0</td>\n",
       "      <td>15.0</td>\n",
       "      <td>15.3</td>\n",
       "      <td>1181730.0</td>\n",
       "      <td>0.0</td>\n",
       "      <td>NaN</td>\n",
       "      <td>0.0</td>\n",
       "      <td>debt consolidation</td>\n",
       "      <td>Long Term</td>\n",
       "      <td>264968.0</td>\n",
       "      <td>394972.0</td>\n",
       "      <td>18373.0</td>\n",
       "      <td>737.0</td>\n",
       "      <td>1</td>\n",
       "    </tr>\n",
       "    <tr>\n",
       "      <th>2</th>\n",
       "      <td>Home Mortgage</td>\n",
       "      <td>751412.0</td>\n",
       "      <td>8 years</td>\n",
       "      <td>0.0</td>\n",
       "      <td>11.0</td>\n",
       "      <td>35.0</td>\n",
       "      <td>1182434.0</td>\n",
       "      <td>0.0</td>\n",
       "      <td>NaN</td>\n",
       "      <td>0.0</td>\n",
       "      <td>debt consolidation</td>\n",
       "      <td>Short Term</td>\n",
       "      <td>99999999.0</td>\n",
       "      <td>308389.0</td>\n",
       "      <td>13651.0</td>\n",
       "      <td>742.0</td>\n",
       "      <td>0</td>\n",
       "    </tr>\n",
       "    <tr>\n",
       "      <th>3</th>\n",
       "      <td>Own Home</td>\n",
       "      <td>805068.0</td>\n",
       "      <td>6 years</td>\n",
       "      <td>0.0</td>\n",
       "      <td>8.0</td>\n",
       "      <td>22.5</td>\n",
       "      <td>147400.0</td>\n",
       "      <td>1.0</td>\n",
       "      <td>NaN</td>\n",
       "      <td>1.0</td>\n",
       "      <td>debt consolidation</td>\n",
       "      <td>Short Term</td>\n",
       "      <td>121396.0</td>\n",
       "      <td>95855.0</td>\n",
       "      <td>11338.0</td>\n",
       "      <td>694.0</td>\n",
       "      <td>0</td>\n",
       "    </tr>\n",
       "    <tr>\n",
       "      <th>4</th>\n",
       "      <td>Rent</td>\n",
       "      <td>776264.0</td>\n",
       "      <td>8 years</td>\n",
       "      <td>0.0</td>\n",
       "      <td>13.0</td>\n",
       "      <td>13.6</td>\n",
       "      <td>385836.0</td>\n",
       "      <td>1.0</td>\n",
       "      <td>NaN</td>\n",
       "      <td>0.0</td>\n",
       "      <td>debt consolidation</td>\n",
       "      <td>Short Term</td>\n",
       "      <td>125840.0</td>\n",
       "      <td>93309.0</td>\n",
       "      <td>7180.0</td>\n",
       "      <td>719.0</td>\n",
       "      <td>0</td>\n",
       "    </tr>\n",
       "  </tbody>\n",
       "</table>\n",
       "</div>"
      ],
      "text/plain": [
       "  Home Ownership  Annual Income Years in current job  Tax Liens  \\\n",
       "0       Own Home       482087.0                  NaN        0.0   \n",
       "1       Own Home      1025487.0            10+ years        0.0   \n",
       "2  Home Mortgage       751412.0              8 years        0.0   \n",
       "3       Own Home       805068.0              6 years        0.0   \n",
       "4           Rent       776264.0              8 years        0.0   \n",
       "\n",
       "   Number of Open Accounts  Years of Credit History  Maximum Open Credit  \\\n",
       "0                     11.0                     26.3             685960.0   \n",
       "1                     15.0                     15.3            1181730.0   \n",
       "2                     11.0                     35.0            1182434.0   \n",
       "3                      8.0                     22.5             147400.0   \n",
       "4                     13.0                     13.6             385836.0   \n",
       "\n",
       "   Number of Credit Problems  Months since last delinquent  Bankruptcies  \\\n",
       "0                        1.0                           NaN           1.0   \n",
       "1                        0.0                           NaN           0.0   \n",
       "2                        0.0                           NaN           0.0   \n",
       "3                        1.0                           NaN           1.0   \n",
       "4                        1.0                           NaN           0.0   \n",
       "\n",
       "              Purpose        Term  Current Loan Amount  \\\n",
       "0  debt consolidation  Short Term           99999999.0   \n",
       "1  debt consolidation   Long Term             264968.0   \n",
       "2  debt consolidation  Short Term           99999999.0   \n",
       "3  debt consolidation  Short Term             121396.0   \n",
       "4  debt consolidation  Short Term             125840.0   \n",
       "\n",
       "   Current Credit Balance  Monthly Debt  Credit Score  Credit Default  \n",
       "0                 47386.0        7914.0         749.0               0  \n",
       "1                394972.0       18373.0         737.0               1  \n",
       "2                308389.0       13651.0         742.0               0  \n",
       "3                 95855.0       11338.0         694.0               0  \n",
       "4                 93309.0        7180.0         719.0               0  "
      ]
     },
     "execution_count": 9,
     "metadata": {},
     "output_type": "execute_result"
    }
   ],
   "source": [
    "dftr = pd.read_csv(TRAIN_DATASET_PATH, sep=',')\n",
    "dftr.head()"
   ]
  },
  {
   "cell_type": "code",
   "execution_count": 10,
   "id": "a7e1ffa5",
   "metadata": {},
   "outputs": [
    {
     "data": {
      "text/html": [
       "<div>\n",
       "<style scoped>\n",
       "    .dataframe tbody tr th:only-of-type {\n",
       "        vertical-align: middle;\n",
       "    }\n",
       "\n",
       "    .dataframe tbody tr th {\n",
       "        vertical-align: top;\n",
       "    }\n",
       "\n",
       "    .dataframe thead th {\n",
       "        text-align: right;\n",
       "    }\n",
       "</style>\n",
       "<table border=\"1\" class=\"dataframe\">\n",
       "  <thead>\n",
       "    <tr style=\"text-align: right;\">\n",
       "      <th></th>\n",
       "      <th>Home Ownership</th>\n",
       "      <th>Annual Income</th>\n",
       "      <th>Years in current job</th>\n",
       "      <th>Tax Liens</th>\n",
       "      <th>Number of Open Accounts</th>\n",
       "      <th>Years of Credit History</th>\n",
       "      <th>Maximum Open Credit</th>\n",
       "      <th>Number of Credit Problems</th>\n",
       "      <th>Months since last delinquent</th>\n",
       "      <th>Bankruptcies</th>\n",
       "      <th>Purpose</th>\n",
       "      <th>Term</th>\n",
       "      <th>Current Loan Amount</th>\n",
       "      <th>Current Credit Balance</th>\n",
       "      <th>Monthly Debt</th>\n",
       "      <th>Credit Score</th>\n",
       "    </tr>\n",
       "  </thead>\n",
       "  <tbody>\n",
       "    <tr>\n",
       "      <th>0</th>\n",
       "      <td>Rent</td>\n",
       "      <td>NaN</td>\n",
       "      <td>4 years</td>\n",
       "      <td>0.0</td>\n",
       "      <td>9.0</td>\n",
       "      <td>12.5</td>\n",
       "      <td>220968.0</td>\n",
       "      <td>0.0</td>\n",
       "      <td>70.0</td>\n",
       "      <td>0.0</td>\n",
       "      <td>debt consolidation</td>\n",
       "      <td>Short Term</td>\n",
       "      <td>162470.0</td>\n",
       "      <td>105906.0</td>\n",
       "      <td>6813.0</td>\n",
       "      <td>NaN</td>\n",
       "    </tr>\n",
       "    <tr>\n",
       "      <th>1</th>\n",
       "      <td>Rent</td>\n",
       "      <td>231838.0</td>\n",
       "      <td>1 year</td>\n",
       "      <td>0.0</td>\n",
       "      <td>6.0</td>\n",
       "      <td>32.7</td>\n",
       "      <td>55946.0</td>\n",
       "      <td>0.0</td>\n",
       "      <td>8.0</td>\n",
       "      <td>0.0</td>\n",
       "      <td>educational expenses</td>\n",
       "      <td>Short Term</td>\n",
       "      <td>78298.0</td>\n",
       "      <td>46037.0</td>\n",
       "      <td>2318.0</td>\n",
       "      <td>699.0</td>\n",
       "    </tr>\n",
       "    <tr>\n",
       "      <th>2</th>\n",
       "      <td>Home Mortgage</td>\n",
       "      <td>1152540.0</td>\n",
       "      <td>3 years</td>\n",
       "      <td>0.0</td>\n",
       "      <td>10.0</td>\n",
       "      <td>13.7</td>\n",
       "      <td>204600.0</td>\n",
       "      <td>0.0</td>\n",
       "      <td>NaN</td>\n",
       "      <td>0.0</td>\n",
       "      <td>debt consolidation</td>\n",
       "      <td>Short Term</td>\n",
       "      <td>200178.0</td>\n",
       "      <td>146490.0</td>\n",
       "      <td>18729.0</td>\n",
       "      <td>7260.0</td>\n",
       "    </tr>\n",
       "    <tr>\n",
       "      <th>3</th>\n",
       "      <td>Home Mortgage</td>\n",
       "      <td>1220313.0</td>\n",
       "      <td>10+ years</td>\n",
       "      <td>0.0</td>\n",
       "      <td>16.0</td>\n",
       "      <td>17.0</td>\n",
       "      <td>456302.0</td>\n",
       "      <td>0.0</td>\n",
       "      <td>70.0</td>\n",
       "      <td>0.0</td>\n",
       "      <td>debt consolidation</td>\n",
       "      <td>Short Term</td>\n",
       "      <td>217382.0</td>\n",
       "      <td>213199.0</td>\n",
       "      <td>27559.0</td>\n",
       "      <td>739.0</td>\n",
       "    </tr>\n",
       "    <tr>\n",
       "      <th>4</th>\n",
       "      <td>Home Mortgage</td>\n",
       "      <td>2340952.0</td>\n",
       "      <td>6 years</td>\n",
       "      <td>0.0</td>\n",
       "      <td>11.0</td>\n",
       "      <td>23.6</td>\n",
       "      <td>1207272.0</td>\n",
       "      <td>0.0</td>\n",
       "      <td>NaN</td>\n",
       "      <td>0.0</td>\n",
       "      <td>debt consolidation</td>\n",
       "      <td>Long Term</td>\n",
       "      <td>777634.0</td>\n",
       "      <td>425391.0</td>\n",
       "      <td>42605.0</td>\n",
       "      <td>706.0</td>\n",
       "    </tr>\n",
       "  </tbody>\n",
       "</table>\n",
       "</div>"
      ],
      "text/plain": [
       "  Home Ownership  Annual Income Years in current job  Tax Liens  \\\n",
       "0           Rent            NaN              4 years        0.0   \n",
       "1           Rent       231838.0               1 year        0.0   \n",
       "2  Home Mortgage      1152540.0              3 years        0.0   \n",
       "3  Home Mortgage      1220313.0            10+ years        0.0   \n",
       "4  Home Mortgage      2340952.0              6 years        0.0   \n",
       "\n",
       "   Number of Open Accounts  Years of Credit History  Maximum Open Credit  \\\n",
       "0                      9.0                     12.5             220968.0   \n",
       "1                      6.0                     32.7              55946.0   \n",
       "2                     10.0                     13.7             204600.0   \n",
       "3                     16.0                     17.0             456302.0   \n",
       "4                     11.0                     23.6            1207272.0   \n",
       "\n",
       "   Number of Credit Problems  Months since last delinquent  Bankruptcies  \\\n",
       "0                        0.0                          70.0           0.0   \n",
       "1                        0.0                           8.0           0.0   \n",
       "2                        0.0                           NaN           0.0   \n",
       "3                        0.0                          70.0           0.0   \n",
       "4                        0.0                           NaN           0.0   \n",
       "\n",
       "                Purpose        Term  Current Loan Amount  \\\n",
       "0    debt consolidation  Short Term             162470.0   \n",
       "1  educational expenses  Short Term              78298.0   \n",
       "2    debt consolidation  Short Term             200178.0   \n",
       "3    debt consolidation  Short Term             217382.0   \n",
       "4    debt consolidation   Long Term             777634.0   \n",
       "\n",
       "   Current Credit Balance  Monthly Debt  Credit Score  \n",
       "0                105906.0        6813.0           NaN  \n",
       "1                 46037.0        2318.0         699.0  \n",
       "2                146490.0       18729.0        7260.0  \n",
       "3                213199.0       27559.0         739.0  \n",
       "4                425391.0       42605.0         706.0  "
      ]
     },
     "execution_count": 10,
     "metadata": {},
     "output_type": "execute_result"
    }
   ],
   "source": [
    "dftst = pd.read_csv(TEST_DATASET_PATH, sep=',')\n",
    "dftst.head()"
   ]
  },
  {
   "cell_type": "code",
   "execution_count": 11,
   "id": "23c8d4ba",
   "metadata": {},
   "outputs": [
    {
     "name": "stdout",
     "output_type": "stream",
     "text": [
      "<class 'pandas.core.frame.DataFrame'>\n",
      "RangeIndex: 7500 entries, 0 to 7499\n",
      "Data columns (total 17 columns):\n",
      " #   Column                        Non-Null Count  Dtype  \n",
      "---  ------                        --------------  -----  \n",
      " 0   Home Ownership                7500 non-null   object \n",
      " 1   Annual Income                 5943 non-null   float64\n",
      " 2   Years in current job          7129 non-null   object \n",
      " 3   Tax Liens                     7500 non-null   float64\n",
      " 4   Number of Open Accounts       7500 non-null   float64\n",
      " 5   Years of Credit History       7500 non-null   float64\n",
      " 6   Maximum Open Credit           7500 non-null   float64\n",
      " 7   Number of Credit Problems     7500 non-null   float64\n",
      " 8   Months since last delinquent  3419 non-null   float64\n",
      " 9   Bankruptcies                  7486 non-null   float64\n",
      " 10  Purpose                       7500 non-null   object \n",
      " 11  Term                          7500 non-null   object \n",
      " 12  Current Loan Amount           7500 non-null   float64\n",
      " 13  Current Credit Balance        7500 non-null   float64\n",
      " 14  Monthly Debt                  7500 non-null   float64\n",
      " 15  Credit Score                  5943 non-null   float64\n",
      " 16  Credit Default                7500 non-null   int64  \n",
      "dtypes: float64(12), int64(1), object(4)\n",
      "memory usage: 2.7 MB\n"
     ]
    }
   ],
   "source": [
    "dftr.info(memory_usage='deep')"
   ]
  },
  {
   "cell_type": "code",
   "execution_count": 12,
   "id": "0d65336e",
   "metadata": {},
   "outputs": [
    {
     "name": "stdout",
     "output_type": "stream",
     "text": [
      "<class 'pandas.core.frame.DataFrame'>\n",
      "RangeIndex: 2500 entries, 0 to 2499\n",
      "Data columns (total 16 columns):\n",
      " #   Column                        Non-Null Count  Dtype  \n",
      "---  ------                        --------------  -----  \n",
      " 0   Home Ownership                2500 non-null   object \n",
      " 1   Annual Income                 1987 non-null   float64\n",
      " 2   Years in current job          2414 non-null   object \n",
      " 3   Tax Liens                     2500 non-null   float64\n",
      " 4   Number of Open Accounts       2500 non-null   float64\n",
      " 5   Years of Credit History       2500 non-null   float64\n",
      " 6   Maximum Open Credit           2500 non-null   float64\n",
      " 7   Number of Credit Problems     2500 non-null   float64\n",
      " 8   Months since last delinquent  1142 non-null   float64\n",
      " 9   Bankruptcies                  2497 non-null   float64\n",
      " 10  Purpose                       2500 non-null   object \n",
      " 11  Term                          2500 non-null   object \n",
      " 12  Current Loan Amount           2500 non-null   float64\n",
      " 13  Current Credit Balance        2500 non-null   float64\n",
      " 14  Monthly Debt                  2500 non-null   float64\n",
      " 15  Credit Score                  1987 non-null   float64\n",
      "dtypes: float64(12), object(4)\n",
      "memory usage: 892.3 KB\n"
     ]
    }
   ],
   "source": [
    "dftst.info(memory_usage='deep')"
   ]
  },
  {
   "cell_type": "code",
   "execution_count": 13,
   "id": "5e0ba263",
   "metadata": {},
   "outputs": [
    {
     "data": {
      "text/plain": [
       "RangeIndex(start=0, stop=7500, step=1)"
      ]
     },
     "execution_count": 13,
     "metadata": {},
     "output_type": "execute_result"
    }
   ],
   "source": [
    "dftr.index"
   ]
  },
  {
   "cell_type": "code",
   "execution_count": 14,
   "id": "63118d54",
   "metadata": {},
   "outputs": [
    {
     "data": {
      "text/plain": [
       "RangeIndex(start=0, stop=2500, step=1)"
      ]
     },
     "execution_count": 14,
     "metadata": {},
     "output_type": "execute_result"
    }
   ],
   "source": [
    "dftst.index"
   ]
  },
  {
   "cell_type": "markdown",
   "id": "a22ecf35",
   "metadata": {},
   "source": [
    "### Целевая переменная:"
   ]
  },
  {
   "cell_type": "code",
   "execution_count": 15,
   "id": "e8e8ed38",
   "metadata": {},
   "outputs": [
    {
     "data": {
      "text/plain": [
       "0    5387\n",
       "1    2113\n",
       "Name: Credit Default, dtype: int64"
      ]
     },
     "execution_count": 15,
     "metadata": {},
     "output_type": "execute_result"
    }
   ],
   "source": [
    "dftr['Credit Default'].value_counts()"
   ]
  },
  {
   "cell_type": "markdown",
   "id": "35937a8c",
   "metadata": {},
   "source": [
    "#### Обзор номинативных признаков:"
   ]
  },
  {
   "cell_type": "code",
   "execution_count": 16,
   "id": "3bbf9abd",
   "metadata": {},
   "outputs": [
    {
     "name": "stdout",
     "output_type": "stream",
     "text": [
      "Home Ownership\n",
      "\n",
      "Home Mortgage    3637\n",
      "Rent             3204\n",
      "Own Home          647\n",
      "Have Mortgage      12\n",
      "Name: Home Ownership, dtype: int64\n",
      "****************************************************************************************************\n",
      "\n",
      "Years in current job\n",
      "\n",
      "10+ years    2332\n",
      "2 years       705\n",
      "3 years       620\n",
      "< 1 year      563\n",
      "5 years       516\n",
      "1 year        504\n",
      "4 years       469\n",
      "6 years       426\n",
      "7 years       396\n",
      "8 years       339\n",
      "9 years       259\n",
      "Name: Years in current job, dtype: int64\n",
      "****************************************************************************************************\n",
      "\n",
      "Purpose\n",
      "\n",
      "debt consolidation      5944\n",
      "other                    665\n",
      "home improvements        412\n",
      "business loan            129\n",
      "buy a car                 96\n",
      "medical bills             71\n",
      "major purchase            40\n",
      "take a trip               37\n",
      "buy house                 34\n",
      "small business            26\n",
      "wedding                   15\n",
      "moving                    11\n",
      "educational expenses      10\n",
      "vacation                   8\n",
      "renewable energy           2\n",
      "Name: Purpose, dtype: int64\n",
      "****************************************************************************************************\n",
      "\n",
      "Term\n",
      "\n",
      "Short Term    5556\n",
      "Long Term     1944\n",
      "Name: Term, dtype: int64\n",
      "****************************************************************************************************\n",
      "\n"
     ]
    }
   ],
   "source": [
    "for cat_colname in dftr.select_dtypes(include='object').columns:\n",
    "    print(str(cat_colname) + '\\n\\n' + str(dftr[cat_colname].value_counts()) + '\\n' + '*' * 100 + '\\n')"
   ]
  },
  {
   "cell_type": "code",
   "execution_count": 17,
   "id": "5997690f",
   "metadata": {},
   "outputs": [
    {
     "name": "stdout",
     "output_type": "stream",
     "text": [
      "Home Ownership\n",
      "\n",
      "Home Mortgage    1225\n",
      "Rent             1020\n",
      "Own Home          248\n",
      "Have Mortgage       7\n",
      "Name: Home Ownership, dtype: int64\n",
      "****************************************************************************************************\n",
      "\n",
      "Years in current job\n",
      "\n",
      "10+ years    810\n",
      "3 years      228\n",
      "2 years      212\n",
      "< 1 year     207\n",
      "5 years      169\n",
      "1 year       153\n",
      "4 years      152\n",
      "7 years      140\n",
      "6 years      137\n",
      "8 years      107\n",
      "9 years       99\n",
      "Name: Years in current job, dtype: int64\n",
      "****************************************************************************************************\n",
      "\n",
      "Purpose\n",
      "\n",
      "debt consolidation      1973\n",
      "other                    240\n",
      "home improvements        140\n",
      "buy a car                 34\n",
      "business loan             30\n",
      "medical bills             27\n",
      "buy house                 19\n",
      "take a trip               14\n",
      "major purchase             9\n",
      "small business             5\n",
      "educational expenses       3\n",
      "vacation                   3\n",
      "wedding                    2\n",
      "moving                     1\n",
      "Name: Purpose, dtype: int64\n",
      "****************************************************************************************************\n",
      "\n",
      "Term\n",
      "\n",
      "Short Term    1861\n",
      "Long Term      639\n",
      "Name: Term, dtype: int64\n",
      "****************************************************************************************************\n",
      "\n"
     ]
    }
   ],
   "source": [
    "for cat_colname in dftst.select_dtypes(include='object').columns:\n",
    "    print(str(cat_colname) + '\\n\\n' + str(dftst[cat_colname].value_counts()) + '\\n' + '*' * 100 + '\\n')"
   ]
  },
  {
   "cell_type": "markdown",
   "id": "c84b92a4",
   "metadata": {},
   "source": [
    "#### Обзор количественных признаков:\n",
    "#### Для корректного отображения данных изменим формат отображения float64. "
   ]
  },
  {
   "cell_type": "code",
   "execution_count": 18,
   "id": "95677a62",
   "metadata": {},
   "outputs": [],
   "source": [
    "pd.options.display.float_format ='{:,.2f}'.format"
   ]
  },
  {
   "cell_type": "code",
   "execution_count": 19,
   "id": "a2e8533e",
   "metadata": {},
   "outputs": [
    {
     "data": {
      "text/html": [
       "<div>\n",
       "<style scoped>\n",
       "    .dataframe tbody tr th:only-of-type {\n",
       "        vertical-align: middle;\n",
       "    }\n",
       "\n",
       "    .dataframe tbody tr th {\n",
       "        vertical-align: top;\n",
       "    }\n",
       "\n",
       "    .dataframe thead th {\n",
       "        text-align: right;\n",
       "    }\n",
       "</style>\n",
       "<table border=\"1\" class=\"dataframe\">\n",
       "  <thead>\n",
       "    <tr style=\"text-align: right;\">\n",
       "      <th></th>\n",
       "      <th>Annual Income</th>\n",
       "      <th>Tax Liens</th>\n",
       "      <th>Number of Open Accounts</th>\n",
       "      <th>Years of Credit History</th>\n",
       "      <th>Maximum Open Credit</th>\n",
       "      <th>Number of Credit Problems</th>\n",
       "      <th>Months since last delinquent</th>\n",
       "      <th>Bankruptcies</th>\n",
       "      <th>Current Loan Amount</th>\n",
       "      <th>Current Credit Balance</th>\n",
       "      <th>Monthly Debt</th>\n",
       "      <th>Credit Score</th>\n",
       "      <th>Credit Default</th>\n",
       "    </tr>\n",
       "  </thead>\n",
       "  <tbody>\n",
       "    <tr>\n",
       "      <th>count</th>\n",
       "      <td>5,943.00</td>\n",
       "      <td>7,500.00</td>\n",
       "      <td>7,500.00</td>\n",
       "      <td>7,500.00</td>\n",
       "      <td>7,500.00</td>\n",
       "      <td>7,500.00</td>\n",
       "      <td>3,419.00</td>\n",
       "      <td>7,486.00</td>\n",
       "      <td>7,500.00</td>\n",
       "      <td>7,500.00</td>\n",
       "      <td>7,500.00</td>\n",
       "      <td>5,943.00</td>\n",
       "      <td>7,500.00</td>\n",
       "    </tr>\n",
       "    <tr>\n",
       "      <th>mean</th>\n",
       "      <td>1,366,391.72</td>\n",
       "      <td>0.03</td>\n",
       "      <td>11.13</td>\n",
       "      <td>18.32</td>\n",
       "      <td>945,153.73</td>\n",
       "      <td>0.17</td>\n",
       "      <td>34.69</td>\n",
       "      <td>0.12</td>\n",
       "      <td>11,873,177.45</td>\n",
       "      <td>289,833.24</td>\n",
       "      <td>18,314.45</td>\n",
       "      <td>1,151.09</td>\n",
       "      <td>0.28</td>\n",
       "    </tr>\n",
       "    <tr>\n",
       "      <th>std</th>\n",
       "      <td>845,339.20</td>\n",
       "      <td>0.27</td>\n",
       "      <td>4.91</td>\n",
       "      <td>7.04</td>\n",
       "      <td>16,026,216.67</td>\n",
       "      <td>0.50</td>\n",
       "      <td>21.69</td>\n",
       "      <td>0.35</td>\n",
       "      <td>31,926,122.97</td>\n",
       "      <td>317,871.38</td>\n",
       "      <td>11,926.76</td>\n",
       "      <td>1,604.45</td>\n",
       "      <td>0.45</td>\n",
       "    </tr>\n",
       "    <tr>\n",
       "      <th>min</th>\n",
       "      <td>164,597.00</td>\n",
       "      <td>0.00</td>\n",
       "      <td>2.00</td>\n",
       "      <td>4.00</td>\n",
       "      <td>0.00</td>\n",
       "      <td>0.00</td>\n",
       "      <td>0.00</td>\n",
       "      <td>0.00</td>\n",
       "      <td>11,242.00</td>\n",
       "      <td>0.00</td>\n",
       "      <td>0.00</td>\n",
       "      <td>585.00</td>\n",
       "      <td>0.00</td>\n",
       "    </tr>\n",
       "    <tr>\n",
       "      <th>25%</th>\n",
       "      <td>844,341.00</td>\n",
       "      <td>0.00</td>\n",
       "      <td>8.00</td>\n",
       "      <td>13.50</td>\n",
       "      <td>279,229.50</td>\n",
       "      <td>0.00</td>\n",
       "      <td>16.00</td>\n",
       "      <td>0.00</td>\n",
       "      <td>180,169.00</td>\n",
       "      <td>114,256.50</td>\n",
       "      <td>10,067.50</td>\n",
       "      <td>711.00</td>\n",
       "      <td>0.00</td>\n",
       "    </tr>\n",
       "    <tr>\n",
       "      <th>50%</th>\n",
       "      <td>1,168,386.00</td>\n",
       "      <td>0.00</td>\n",
       "      <td>10.00</td>\n",
       "      <td>17.00</td>\n",
       "      <td>478,159.00</td>\n",
       "      <td>0.00</td>\n",
       "      <td>32.00</td>\n",
       "      <td>0.00</td>\n",
       "      <td>309,573.00</td>\n",
       "      <td>209,323.00</td>\n",
       "      <td>16,076.50</td>\n",
       "      <td>731.00</td>\n",
       "      <td>0.00</td>\n",
       "    </tr>\n",
       "    <tr>\n",
       "      <th>75%</th>\n",
       "      <td>1,640,137.00</td>\n",
       "      <td>0.00</td>\n",
       "      <td>14.00</td>\n",
       "      <td>21.80</td>\n",
       "      <td>793,501.50</td>\n",
       "      <td>0.00</td>\n",
       "      <td>50.00</td>\n",
       "      <td>0.00</td>\n",
       "      <td>519,882.00</td>\n",
       "      <td>360,406.25</td>\n",
       "      <td>23,818.00</td>\n",
       "      <td>743.00</td>\n",
       "      <td>1.00</td>\n",
       "    </tr>\n",
       "    <tr>\n",
       "      <th>max</th>\n",
       "      <td>10,149,344.00</td>\n",
       "      <td>7.00</td>\n",
       "      <td>43.00</td>\n",
       "      <td>57.70</td>\n",
       "      <td>1,304,726,170.00</td>\n",
       "      <td>7.00</td>\n",
       "      <td>118.00</td>\n",
       "      <td>4.00</td>\n",
       "      <td>99,999,999.00</td>\n",
       "      <td>6,506,797.00</td>\n",
       "      <td>136,679.00</td>\n",
       "      <td>7,510.00</td>\n",
       "      <td>1.00</td>\n",
       "    </tr>\n",
       "  </tbody>\n",
       "</table>\n",
       "</div>"
      ],
      "text/plain": [
       "       Annual Income  Tax Liens  Number of Open Accounts  \\\n",
       "count       5,943.00   7,500.00                 7,500.00   \n",
       "mean    1,366,391.72       0.03                    11.13   \n",
       "std       845,339.20       0.27                     4.91   \n",
       "min       164,597.00       0.00                     2.00   \n",
       "25%       844,341.00       0.00                     8.00   \n",
       "50%     1,168,386.00       0.00                    10.00   \n",
       "75%     1,640,137.00       0.00                    14.00   \n",
       "max    10,149,344.00       7.00                    43.00   \n",
       "\n",
       "       Years of Credit History  Maximum Open Credit  \\\n",
       "count                 7,500.00             7,500.00   \n",
       "mean                     18.32           945,153.73   \n",
       "std                       7.04        16,026,216.67   \n",
       "min                       4.00                 0.00   \n",
       "25%                      13.50           279,229.50   \n",
       "50%                      17.00           478,159.00   \n",
       "75%                      21.80           793,501.50   \n",
       "max                      57.70     1,304,726,170.00   \n",
       "\n",
       "       Number of Credit Problems  Months since last delinquent  Bankruptcies  \\\n",
       "count                   7,500.00                      3,419.00      7,486.00   \n",
       "mean                        0.17                         34.69          0.12   \n",
       "std                         0.50                         21.69          0.35   \n",
       "min                         0.00                          0.00          0.00   \n",
       "25%                         0.00                         16.00          0.00   \n",
       "50%                         0.00                         32.00          0.00   \n",
       "75%                         0.00                         50.00          0.00   \n",
       "max                         7.00                        118.00          4.00   \n",
       "\n",
       "       Current Loan Amount  Current Credit Balance  Monthly Debt  \\\n",
       "count             7,500.00                7,500.00      7,500.00   \n",
       "mean         11,873,177.45              289,833.24     18,314.45   \n",
       "std          31,926,122.97              317,871.38     11,926.76   \n",
       "min              11,242.00                    0.00          0.00   \n",
       "25%             180,169.00              114,256.50     10,067.50   \n",
       "50%             309,573.00              209,323.00     16,076.50   \n",
       "75%             519,882.00              360,406.25     23,818.00   \n",
       "max          99,999,999.00            6,506,797.00    136,679.00   \n",
       "\n",
       "       Credit Score  Credit Default  \n",
       "count      5,943.00        7,500.00  \n",
       "mean       1,151.09            0.28  \n",
       "std        1,604.45            0.45  \n",
       "min          585.00            0.00  \n",
       "25%          711.00            0.00  \n",
       "50%          731.00            0.00  \n",
       "75%          743.00            1.00  \n",
       "max        7,510.00            1.00  "
      ]
     },
     "execution_count": 19,
     "metadata": {},
     "output_type": "execute_result"
    }
   ],
   "source": [
    "dftr.describe()"
   ]
  },
  {
   "cell_type": "code",
   "execution_count": 20,
   "id": "b4665bed",
   "metadata": {},
   "outputs": [
    {
     "data": {
      "text/html": [
       "<div>\n",
       "<style scoped>\n",
       "    .dataframe tbody tr th:only-of-type {\n",
       "        vertical-align: middle;\n",
       "    }\n",
       "\n",
       "    .dataframe tbody tr th {\n",
       "        vertical-align: top;\n",
       "    }\n",
       "\n",
       "    .dataframe thead th {\n",
       "        text-align: right;\n",
       "    }\n",
       "</style>\n",
       "<table border=\"1\" class=\"dataframe\">\n",
       "  <thead>\n",
       "    <tr style=\"text-align: right;\">\n",
       "      <th></th>\n",
       "      <th>Annual Income</th>\n",
       "      <th>Tax Liens</th>\n",
       "      <th>Number of Open Accounts</th>\n",
       "      <th>Years of Credit History</th>\n",
       "      <th>Maximum Open Credit</th>\n",
       "      <th>Number of Credit Problems</th>\n",
       "      <th>Months since last delinquent</th>\n",
       "      <th>Bankruptcies</th>\n",
       "      <th>Current Loan Amount</th>\n",
       "      <th>Current Credit Balance</th>\n",
       "      <th>Monthly Debt</th>\n",
       "      <th>Credit Score</th>\n",
       "    </tr>\n",
       "  </thead>\n",
       "  <tbody>\n",
       "    <tr>\n",
       "      <th>count</th>\n",
       "      <td>1,987.00</td>\n",
       "      <td>2,500.00</td>\n",
       "      <td>2,500.00</td>\n",
       "      <td>2,500.00</td>\n",
       "      <td>2,500.00</td>\n",
       "      <td>2,500.00</td>\n",
       "      <td>1,142.00</td>\n",
       "      <td>2,497.00</td>\n",
       "      <td>2,500.00</td>\n",
       "      <td>2,500.00</td>\n",
       "      <td>2,500.00</td>\n",
       "      <td>1,987.00</td>\n",
       "    </tr>\n",
       "    <tr>\n",
       "      <th>mean</th>\n",
       "      <td>1,366,921.68</td>\n",
       "      <td>0.04</td>\n",
       "      <td>11.18</td>\n",
       "      <td>18.33</td>\n",
       "      <td>710,570.41</td>\n",
       "      <td>0.16</td>\n",
       "      <td>34.18</td>\n",
       "      <td>0.11</td>\n",
       "      <td>12,155,719.63</td>\n",
       "      <td>296,396.65</td>\n",
       "      <td>18,271.34</td>\n",
       "      <td>1,234.52</td>\n",
       "    </tr>\n",
       "    <tr>\n",
       "      <th>std</th>\n",
       "      <td>917,125.15</td>\n",
       "      <td>0.39</td>\n",
       "      <td>4.85</td>\n",
       "      <td>7.25</td>\n",
       "      <td>1,511,983.48</td>\n",
       "      <td>0.56</td>\n",
       "      <td>22.02</td>\n",
       "      <td>0.36</td>\n",
       "      <td>32,260,973.72</td>\n",
       "      <td>378,301.97</td>\n",
       "      <td>11,543.88</td>\n",
       "      <td>1,740.22</td>\n",
       "    </tr>\n",
       "    <tr>\n",
       "      <th>min</th>\n",
       "      <td>106,533.00</td>\n",
       "      <td>0.00</td>\n",
       "      <td>1.00</td>\n",
       "      <td>3.90</td>\n",
       "      <td>0.00</td>\n",
       "      <td>0.00</td>\n",
       "      <td>0.00</td>\n",
       "      <td>0.00</td>\n",
       "      <td>15,422.00</td>\n",
       "      <td>0.00</td>\n",
       "      <td>93.00</td>\n",
       "      <td>585.00</td>\n",
       "    </tr>\n",
       "    <tr>\n",
       "      <th>25%</th>\n",
       "      <td>852,311.50</td>\n",
       "      <td>0.00</td>\n",
       "      <td>8.00</td>\n",
       "      <td>13.40</td>\n",
       "      <td>278,586.00</td>\n",
       "      <td>0.00</td>\n",
       "      <td>16.00</td>\n",
       "      <td>0.00</td>\n",
       "      <td>187,126.50</td>\n",
       "      <td>110,114.50</td>\n",
       "      <td>10,024.75</td>\n",
       "      <td>710.00</td>\n",
       "    </tr>\n",
       "    <tr>\n",
       "      <th>50%</th>\n",
       "      <td>1,178,475.00</td>\n",
       "      <td>0.00</td>\n",
       "      <td>10.00</td>\n",
       "      <td>17.00</td>\n",
       "      <td>478,676.00</td>\n",
       "      <td>0.00</td>\n",
       "      <td>30.00</td>\n",
       "      <td>0.00</td>\n",
       "      <td>322,366.00</td>\n",
       "      <td>207,385.00</td>\n",
       "      <td>16,642.50</td>\n",
       "      <td>731.00</td>\n",
       "    </tr>\n",
       "    <tr>\n",
       "      <th>75%</th>\n",
       "      <td>1,629,734.50</td>\n",
       "      <td>0.00</td>\n",
       "      <td>14.00</td>\n",
       "      <td>22.10</td>\n",
       "      <td>802,598.50</td>\n",
       "      <td>0.00</td>\n",
       "      <td>50.00</td>\n",
       "      <td>0.00</td>\n",
       "      <td>522,582.50</td>\n",
       "      <td>366,348.50</td>\n",
       "      <td>24,146.00</td>\n",
       "      <td>743.00</td>\n",
       "    </tr>\n",
       "    <tr>\n",
       "      <th>max</th>\n",
       "      <td>14,975,610.00</td>\n",
       "      <td>15.00</td>\n",
       "      <td>48.00</td>\n",
       "      <td>53.40</td>\n",
       "      <td>54,484,386.00</td>\n",
       "      <td>15.00</td>\n",
       "      <td>82.00</td>\n",
       "      <td>5.00</td>\n",
       "      <td>99,999,999.00</td>\n",
       "      <td>6,030,087.00</td>\n",
       "      <td>93,555.00</td>\n",
       "      <td>7,480.00</td>\n",
       "    </tr>\n",
       "  </tbody>\n",
       "</table>\n",
       "</div>"
      ],
      "text/plain": [
       "       Annual Income  Tax Liens  Number of Open Accounts  \\\n",
       "count       1,987.00   2,500.00                 2,500.00   \n",
       "mean    1,366,921.68       0.04                    11.18   \n",
       "std       917,125.15       0.39                     4.85   \n",
       "min       106,533.00       0.00                     1.00   \n",
       "25%       852,311.50       0.00                     8.00   \n",
       "50%     1,178,475.00       0.00                    10.00   \n",
       "75%     1,629,734.50       0.00                    14.00   \n",
       "max    14,975,610.00      15.00                    48.00   \n",
       "\n",
       "       Years of Credit History  Maximum Open Credit  \\\n",
       "count                 2,500.00             2,500.00   \n",
       "mean                     18.33           710,570.41   \n",
       "std                       7.25         1,511,983.48   \n",
       "min                       3.90                 0.00   \n",
       "25%                      13.40           278,586.00   \n",
       "50%                      17.00           478,676.00   \n",
       "75%                      22.10           802,598.50   \n",
       "max                      53.40        54,484,386.00   \n",
       "\n",
       "       Number of Credit Problems  Months since last delinquent  Bankruptcies  \\\n",
       "count                   2,500.00                      1,142.00      2,497.00   \n",
       "mean                        0.16                         34.18          0.11   \n",
       "std                         0.56                         22.02          0.36   \n",
       "min                         0.00                          0.00          0.00   \n",
       "25%                         0.00                         16.00          0.00   \n",
       "50%                         0.00                         30.00          0.00   \n",
       "75%                         0.00                         50.00          0.00   \n",
       "max                        15.00                         82.00          5.00   \n",
       "\n",
       "       Current Loan Amount  Current Credit Balance  Monthly Debt  Credit Score  \n",
       "count             2,500.00                2,500.00      2,500.00      1,987.00  \n",
       "mean         12,155,719.63              296,396.65     18,271.34      1,234.52  \n",
       "std          32,260,973.72              378,301.97     11,543.88      1,740.22  \n",
       "min              15,422.00                    0.00         93.00        585.00  \n",
       "25%             187,126.50              110,114.50     10,024.75        710.00  \n",
       "50%             322,366.00              207,385.00     16,642.50        731.00  \n",
       "75%             522,582.50              366,348.50     24,146.00        743.00  \n",
       "max          99,999,999.00            6,030,087.00     93,555.00      7,480.00  "
      ]
     },
     "execution_count": 20,
     "metadata": {},
     "output_type": "execute_result"
    }
   ],
   "source": [
    "dftst.describe()"
   ]
  },
  {
   "cell_type": "code",
   "execution_count": 21,
   "id": "d9f1b60b",
   "metadata": {},
   "outputs": [],
   "source": [
    "pd.reset_option('display.float_format')"
   ]
  },
  {
   "cell_type": "markdown",
   "id": "d0064fdb",
   "metadata": {},
   "source": [
    "### Устранение выбросов:"
   ]
  },
  {
   "cell_type": "markdown",
   "id": "3d055dfa",
   "metadata": {},
   "source": [
    "#### Обнаружение выбросов производилось с помощью BoxPlotb, гистограммы и самостоятельных логических решений."
   ]
  },
  {
   "cell_type": "markdown",
   "id": "bd2d1724",
   "metadata": {},
   "source": [
    "#### Было принято решение все значения признака 'Home Ownership' 'Have Mortgage' считать за выбросы и привести их к моде."
   ]
  },
  {
   "cell_type": "code",
   "execution_count": 22,
   "id": "e028b97f",
   "metadata": {},
   "outputs": [],
   "source": [
    "dftr.replace({'Home Ownership':{'Have Mortgage': dftr['Home Ownership'].mode()[0]}}, inplace=True)\n",
    "dftst.replace({'Home Ownership':{'Have Mortgage': dftst['Home Ownership'].mode()[0]}}, inplace=True)"
   ]
  },
  {
   "cell_type": "code",
   "execution_count": 23,
   "id": "337f44e4",
   "metadata": {},
   "outputs": [
    {
     "data": {
      "text/plain": [
       "Home Mortgage    3649\n",
       "Rent             3204\n",
       "Own Home          647\n",
       "Name: Home Ownership, dtype: int64"
      ]
     },
     "execution_count": 23,
     "metadata": {},
     "output_type": "execute_result"
    }
   ],
   "source": [
    "dftr['Home Ownership'].value_counts()"
   ]
  },
  {
   "cell_type": "code",
   "execution_count": 24,
   "id": "01c26517",
   "metadata": {},
   "outputs": [
    {
     "data": {
      "text/plain": [
       "Home Mortgage    1232\n",
       "Rent             1020\n",
       "Own Home          248\n",
       "Name: Home Ownership, dtype: int64"
      ]
     },
     "execution_count": 24,
     "metadata": {},
     "output_type": "execute_result"
    }
   ],
   "source": [
    "dftst['Home Ownership'].value_counts()"
   ]
  },
  {
   "cell_type": "markdown",
   "id": "df24df17",
   "metadata": {},
   "source": [
    "#### Было принято решение все значения 'Annual Income' > 4 000 000 считать за выбросы и привести их к медиане."
   ]
  },
  {
   "cell_type": "code",
   "execution_count": 25,
   "id": "dcb72c0b",
   "metadata": {},
   "outputs": [
    {
     "data": {
      "text/plain": [
       "91"
      ]
     },
     "execution_count": 25,
     "metadata": {},
     "output_type": "execute_result"
    }
   ],
   "source": [
    "(dftr['Annual Income'] > 4000000).sum()"
   ]
  },
  {
   "cell_type": "code",
   "execution_count": 26,
   "id": "62eb179f",
   "metadata": {},
   "outputs": [
    {
     "data": {
      "text/plain": [
       "27"
      ]
     },
     "execution_count": 26,
     "metadata": {},
     "output_type": "execute_result"
    }
   ],
   "source": [
    "(dftst['Annual Income'] > 4000000).sum()"
   ]
  },
  {
   "cell_type": "code",
   "execution_count": 27,
   "id": "583a2d46",
   "metadata": {},
   "outputs": [],
   "source": [
    "dftr.loc[dftr['Annual Income'] > 4000000,'Annual Income'] = dftr.loc[dftr['Annual Income'] < 4000000,'Annual Income'].median()\n",
    "dftst.loc[dftst['Annual Income'] > 4000000,'Annual Income'] = dftst.loc[dftst['Annual Income'] < 4000000,'Annual Income'].median()"
   ]
  },
  {
   "cell_type": "markdown",
   "id": "c409cda9",
   "metadata": {},
   "source": [
    "#### В виду того, что в признаке 'Tax Liens' все значения > 0 считаются выбросами, принято решение удалить данный признак."
   ]
  },
  {
   "cell_type": "code",
   "execution_count": 28,
   "id": "e42e943c",
   "metadata": {},
   "outputs": [
    {
     "data": {
      "text/plain": [
       "0.0    7366\n",
       "1.0      83\n",
       "2.0      30\n",
       "3.0      10\n",
       "4.0       6\n",
       "6.0       2\n",
       "5.0       2\n",
       "7.0       1\n",
       "Name: Tax Liens, dtype: int64"
      ]
     },
     "execution_count": 28,
     "metadata": {},
     "output_type": "execute_result"
    }
   ],
   "source": [
    "dftr['Tax Liens'].value_counts()"
   ]
  },
  {
   "cell_type": "code",
   "execution_count": 29,
   "id": "2461f9c0",
   "metadata": {},
   "outputs": [
    {
     "data": {
      "text/plain": [
       "0.0     2445\n",
       "1.0       45\n",
       "2.0        5\n",
       "15.0       1\n",
       "6.0        1\n",
       "5.0        1\n",
       "3.0        1\n",
       "4.0        1\n",
       "Name: Tax Liens, dtype: int64"
      ]
     },
     "execution_count": 29,
     "metadata": {},
     "output_type": "execute_result"
    }
   ],
   "source": [
    "dftst['Tax Liens'].value_counts()"
   ]
  },
  {
   "cell_type": "code",
   "execution_count": 30,
   "id": "459adf09",
   "metadata": {},
   "outputs": [],
   "source": [
    "dftr.drop('Tax Liens', axis=1, inplace=True)\n",
    "dftst.drop('Tax Liens', axis=1, inplace=True)"
   ]
  },
  {
   "cell_type": "markdown",
   "id": "9242163a",
   "metadata": {},
   "source": [
    "#### Принято решение считать 'Number of Open Accounts' > 23 выбросами. Заменяем на медиану."
   ]
  },
  {
   "cell_type": "code",
   "execution_count": 31,
   "id": "d84095d9",
   "metadata": {},
   "outputs": [],
   "source": [
    "dftr.loc[dftr['Number of Open Accounts'] > 23,'Number of Open Accounts'] = dftr['Number of Open Accounts'].median()\n",
    "dftst.loc[dftst['Number of Open Accounts'] > 23,'Number of Open Accounts'] = dftst['Number of Open Accounts'].median()"
   ]
  },
  {
   "cell_type": "markdown",
   "id": "8d16b0ea",
   "metadata": {},
   "source": [
    "#### В соответствие с показаниями BoxPlot, 'Years of Credit History' > 35 считаем за выбросы и заменяем медианой."
   ]
  },
  {
   "cell_type": "code",
   "execution_count": 32,
   "id": "2949fba1",
   "metadata": {},
   "outputs": [],
   "source": [
    "dftr.loc[dftr['Years of Credit History'] > 35,'Years of Credit History'] = dftr['Years of Credit History'].median()\n",
    "dftst.loc[dftst['Years of Credit History'] > 35,'Years of Credit History'] = dftst['Years of Credit History'].median()"
   ]
  },
  {
   "cell_type": "markdown",
   "id": "635e81bb",
   "metadata": {},
   "source": [
    "#### В признаке 'Maximum Open Credit' за выбросы считаем значения больше 2 000 000. Заменяем медианой."
   ]
  },
  {
   "cell_type": "code",
   "execution_count": 33,
   "id": "aea50be4",
   "metadata": {},
   "outputs": [],
   "source": [
    "dftr.loc[dftr['Maximum Open Credit'] > 2000000,'Maximum Open Credit'] = dftr.loc[dftr['Maximum Open Credit'] < 2000000,'Maximum Open Credit'].median()\n",
    "dftst.loc[dftst['Maximum Open Credit'] > 2000000,'Maximum Open Credit'] = dftst.loc[dftst['Maximum Open Credit'] < 2000000,'Maximum Open Credit'].median()"
   ]
  },
  {
   "cell_type": "markdown",
   "id": "aa9712a0",
   "metadata": {},
   "source": [
    "#### В признаке 'Number of Credit Problems' обнаружено возможно ошибочное значение. Заменяем на 6."
   ]
  },
  {
   "cell_type": "code",
   "execution_count": 34,
   "id": "c1945c7f",
   "metadata": {},
   "outputs": [],
   "source": [
    "dftst.loc[dftst['Number of Credit Problems'] == 15,'Number of Credit Problems'] = 6"
   ]
  },
  {
   "cell_type": "markdown",
   "id": "c6f5f730",
   "metadata": {},
   "source": [
    "#### В признаке 'Months since last delinquent' в тренировочной выборке обнаружен один выброс. Заменяем модой."
   ]
  },
  {
   "cell_type": "code",
   "execution_count": 35,
   "id": "a8f6ae40",
   "metadata": {},
   "outputs": [],
   "source": [
    "dftr.loc[dftr['Months since last delinquent'] > 100,'Months since last delinquent']=dftr['Months since last delinquent'].mode()"
   ]
  },
  {
   "cell_type": "markdown",
   "id": "679f1be7",
   "metadata": {},
   "source": [
    "#### Применяя логику здравого смысла, считаем за выбросы в признаке 'Bankruptcies' все значения больше 5 и заменяем их медианой."
   ]
  },
  {
   "cell_type": "code",
   "execution_count": 36,
   "id": "3ded67b4",
   "metadata": {},
   "outputs": [],
   "source": [
    "dftr.loc[dftr['Bankruptcies'] > 5,'Bankruptcies'] = dftr['Bankruptcies'].median()\n",
    "dftst.loc[dftst['Bankruptcies'] > 5,'Bankruptcies'] = dftst['Bankruptcies'].median()"
   ]
  },
  {
   "cell_type": "markdown",
   "id": "3b9f877b",
   "metadata": {},
   "source": [
    "#### За выброс в признаке 'Current Loan Amount' считаем слишком большое значение 99999999.0. Принято решение заменить на моду (0.0)."
   ]
  },
  {
   "cell_type": "code",
   "execution_count": 37,
   "id": "d5bd9fc9",
   "metadata": {},
   "outputs": [],
   "source": [
    "dftr.loc[dftr['Current Loan Amount']>1000000,'Current Loan Amount'] = dftr.loc[dftr['Current Loan Amount']<10000000, 'Current Loan Amount'].mode()[0]\n",
    "dftst.loc[dftst['Current Loan Amount']>1000000,'Current Loan Amount'] = dftst.loc[dftst['Current Loan Amount']<10000000, 'Current Loan Amount'].mode()[0]"
   ]
  },
  {
   "cell_type": "markdown",
   "id": "4cf79159",
   "metadata": {},
   "source": [
    "#### Между признаками Current Loan Amount и Current Credit Balance не выявлено закономерности в том, что один должен быть больше другого или наоборот. И так как Current Credit Balance вероятно отображает количество денег на счете, логично предположить, что их может быть сколько угодно, а с учетом того, что явных больших аномальных значений нет, считаем, что выбросов в данном признаке не наблюдается."
   ]
  },
  {
   "cell_type": "markdown",
   "id": "ec581927",
   "metadata": {},
   "source": [
    "#### Так как между признаками Monthly Debt и Current Loan Amount наблюдается очень сильная линейная зависимость, и в признакае Monthly Debt не обнаружено больших аномальных значений, оставляем признак без изменений."
   ]
  },
  {
   "cell_type": "code",
   "execution_count": 38,
   "id": "4781ebff",
   "metadata": {},
   "outputs": [
    {
     "data": {
      "image/png": "[encoded data removed]",
      "text/plain": [
       "<Figure size 360x360 with 3 Axes>"
      ]
     },
     "metadata": {
      "needs_background": "light"
     },
     "output_type": "display_data"
    }
   ],
   "source": [
    "grid = sns.jointplot(dftr['Monthly Debt'], dftr['Current Loan Amount'], kind='reg')\n",
    "grid.fig.set_figwidth(5)\n",
    "grid.fig.set_figheight(5)\n",
    "plt.show()"
   ]
  },
  {
   "cell_type": "markdown",
   "id": "e3943e84",
   "metadata": {},
   "source": [
    "#### В признаке Credit Score обнаружены аномальные значения (> 1000), к которым, вероятно, ошибочно приписан лишний 0. Делим аномальные значения на 10, чтобы привести в правильный формат."
   ]
  },
  {
   "cell_type": "code",
   "execution_count": 39,
   "id": "e611ef5d",
   "metadata": {},
   "outputs": [
    {
     "data": {
      "text/plain": [
       "<AxesSubplot:>"
      ]
     },
     "execution_count": 39,
     "metadata": {},
     "output_type": "execute_result"
    },
    {
     "data": {
      "image/png": "[encoded data removed]",
      "text/plain": [
       "<Figure size 1440x288 with 1 Axes>"
      ]
     },
     "metadata": {
      "needs_background": "light"
     },
     "output_type": "display_data"
    }
   ],
   "source": [
    "dftr['Credit Score'].hist(figsize=(20,4), bins=100, grid=False)"
   ]
  },
  {
   "cell_type": "code",
   "execution_count": 40,
   "id": "8dfd04a0",
   "metadata": {},
   "outputs": [
    {
     "data": {
      "image/png": "[encoded data removed]",
      "text/plain": [
       "<Figure size 1440x288 with 1 Axes>"
      ]
     },
     "metadata": {
      "needs_background": "light"
     },
     "output_type": "display_data"
    }
   ],
   "source": [
    "plt.figure(figsize=(20, 4))\n",
    "sns.boxplot(dftst['Credit Score'])\n",
    "plt.show()"
   ]
  },
  {
   "cell_type": "code",
   "execution_count": 41,
   "id": "bfe1c5fa",
   "metadata": {},
   "outputs": [],
   "source": [
    "dftr.loc[dftr['Credit Score']>1000, 'Credit Score'] = (dftr.loc[dftr['Credit Score']>1000, 'Credit Score'])/10\n",
    "dftst.loc[dftst['Credit Score']>1000, 'Credit Score'] = (dftst.loc[dftst['Credit Score']>1000, 'Credit Score'])/10"
   ]
  },
  {
   "cell_type": "code",
   "execution_count": 42,
   "id": "9c5d9169",
   "metadata": {},
   "outputs": [
    {
     "data": {
      "text/plain": [
       "<AxesSubplot:>"
      ]
     },
     "execution_count": 42,
     "metadata": {},
     "output_type": "execute_result"
    },
    {
     "data": {
      "image/png": "[encoded data removed]",
      "text/plain": [
       "<Figure size 1440x288 with 1 Axes>"
      ]
     },
     "metadata": {
      "needs_background": "light"
     },
     "output_type": "display_data"
    }
   ],
   "source": [
    "dftr['Credit Score'].hist(figsize=(20,4), bins=100, grid=False)"
   ]
  },
  {
   "cell_type": "code",
   "execution_count": 43,
   "id": "e5774111",
   "metadata": {},
   "outputs": [
    {
     "data": {
      "image/png": "[encoded data removed]",
      "text/plain": [
       "<Figure size 1440x288 with 1 Axes>"
      ]
     },
     "metadata": {
      "needs_background": "light"
     },
     "output_type": "display_data"
    }
   ],
   "source": [
    "plt.figure(figsize=(20, 4))\n",
    "sns.boxplot(dftst['Credit Score'])\n",
    "plt.show()"
   ]
  },
  {
   "cell_type": "markdown",
   "id": "30c42675",
   "metadata": {},
   "source": [
    "#### Быстрая контрольная проверка на отрицательные значения:"
   ]
  },
  {
   "cell_type": "code",
   "execution_count": 44,
   "id": "f2192fea",
   "metadata": {},
   "outputs": [
    {
     "name": "stdout",
     "output_type": "stream",
     "text": [
      "Annual Income - 0\n",
      "Number of Open Accounts - 0\n",
      "Years of Credit History - 0\n",
      "Maximum Open Credit - 0\n",
      "Number of Credit Problems - 0\n",
      "Months since last delinquent - 0\n",
      "Bankruptcies - 0\n",
      "Current Loan Amount - 0\n",
      "Current Credit Balance - 0\n",
      "Monthly Debt - 0\n",
      "Credit Score - 0\n",
      "******************************\n",
      "Annual Income - 0\n",
      "Number of Open Accounts - 0\n",
      "Years of Credit History - 0\n",
      "Maximum Open Credit - 0\n",
      "Number of Credit Problems - 0\n",
      "Months since last delinquent - 0\n",
      "Bankruptcies - 0\n",
      "Current Loan Amount - 0\n",
      "Current Credit Balance - 0\n",
      "Monthly Debt - 0\n",
      "Credit Score - 0\n"
     ]
    }
   ],
   "source": [
    "for i in dftr.select_dtypes(include='float64').columns:\n",
    "    print(str(i) +' - '+  str((dftr[i] < 0).sum()))\n",
    "\n",
    "print('*'*30)\n",
    "    \n",
    "for i in dftst.select_dtypes(include='float64').columns:\n",
    "    print(str(i) +' - '+  str((dftst[i] < 0).sum()))"
   ]
  },
  {
   "cell_type": "markdown",
   "id": "62e79954",
   "metadata": {},
   "source": [
    "### Устранение отсутствующих значений."
   ]
  },
  {
   "cell_type": "markdown",
   "id": "c8cfb20b",
   "metadata": {},
   "source": [
    "#### Быстрая статистика по пропускам:"
   ]
  },
  {
   "cell_type": "code",
   "execution_count": 45,
   "id": "60f04fa3",
   "metadata": {},
   "outputs": [
    {
     "name": "stdout",
     "output_type": "stream",
     "text": [
      "Annual Income - 1557\n",
      "Years in current job - 371\n",
      "Months since last delinquent - 4082\n",
      "Bankruptcies - 14\n",
      "Credit Score - 1557\n",
      "******************************\n",
      "Annual Income - 513\n",
      "Years in current job - 86\n",
      "Months since last delinquent - 1358\n",
      "Bankruptcies - 3\n",
      "Credit Score - 513\n"
     ]
    }
   ],
   "source": [
    "for i in dftr.columns:\n",
    "    if ((dftr[i].isnull()).sum(axis = 0)) > 0:\n",
    "        print(str(i) +' - '+  str((dftr[i].isnull()).sum(axis = 0)))\n",
    "\n",
    "print('*'*30)\n",
    "    \n",
    "for i in dftst.columns:\n",
    "    if ((dftr[i].isnull()).sum(axis = 0)) > 0:\n",
    "        print(str(i) +' - '+  str((dftst[i].isnull()).sum(axis = 0)))"
   ]
  },
  {
   "cell_type": "markdown",
   "id": "b6b2381b",
   "metadata": {},
   "source": [
    "#### Графическое представление пропущенных значений:"
   ]
  },
  {
   "cell_type": "code",
   "execution_count": 46,
   "id": "dc40d18f",
   "metadata": {},
   "outputs": [
    {
     "data": {
      "image/png": "[encoded data removed]",
      "text/plain": [
       "<Figure size 1080x576 with 2 Axes>"
      ]
     },
     "metadata": {
      "needs_background": "light"
     },
     "output_type": "display_data"
    }
   ],
   "source": [
    "plt.figure(figsize = (15,8))\n",
    "cols = dftr.columns[:30] # первые 30 колонок\n",
    "# определяем цвета \n",
    "# желтый - пропущенные данные, синий - не пропущенные\n",
    "colours = ['#000099', '#ffff00'] \n",
    "sns.heatmap(dftr[cols].isnull(), cmap=sns.color_palette(colours))\n",
    "plt.title('NAN train')\n",
    "plt.show()"
   ]
  },
  {
   "cell_type": "code",
   "execution_count": 47,
   "id": "a6e9ed86",
   "metadata": {},
   "outputs": [
    {
     "data": {
      "image/png": "[encoded data removed]",
      "text/plain": [
       "<Figure size 1080x576 with 2 Axes>"
      ]
     },
     "metadata": {
      "needs_background": "light"
     },
     "output_type": "display_data"
    }
   ],
   "source": [
    "plt.figure(figsize = (15,8))\n",
    "cols = dftst.columns[:30] # первые 30 колонок\n",
    "# определяем цвета \n",
    "# желтый - пропущенные данные, синий - не пропущенные\n",
    "colours = ['#000099', '#ffff00'] \n",
    "sns.heatmap(dftst[cols].isnull(), cmap=sns.color_palette(colours))\n",
    "plt.title('NAN test')\n",
    "plt.show()"
   ]
  },
  {
   "cell_type": "markdown",
   "id": "98fa8712",
   "metadata": {},
   "source": [
    "#### Признак Annual Income - пропуски заменяем на медиану."
   ]
  },
  {
   "cell_type": "code",
   "execution_count": 48,
   "id": "2f1a2976",
   "metadata": {},
   "outputs": [],
   "source": [
    "mediantr = int(dftr['Annual Income'].median())\n",
    "mediantst = int(dftst['Annual Income'].median())\n",
    "dftr['Annual Income'].fillna(mediantr, inplace = True)\n",
    "dftst['Annual Income'].fillna(mediantst, inplace = True)"
   ]
  },
  {
   "cell_type": "markdown",
   "id": "8cfddf7f",
   "metadata": {},
   "source": [
    "#### Признак Years in current job - пропуски заменяем на моду."
   ]
  },
  {
   "cell_type": "code",
   "execution_count": 49,
   "id": "f1d4b5a5",
   "metadata": {},
   "outputs": [],
   "source": [
    "mediantr = dftr['Years in current job'].mode()[0]\n",
    "mediantst = dftst['Years in current job'].mode()[0]\n",
    "dftr['Years in current job'].fillna(mediantr, inplace = True)\n",
    "dftst['Years in current job'].fillna(mediantst, inplace = True)"
   ]
  },
  {
   "cell_type": "markdown",
   "id": "baf7cbdb",
   "metadata": {},
   "source": [
    "#### Признак Months since last delinquent имеет значительное количество пропусков (~ 43%). Можно предположить, что отсутстве информации обозначает нулевое значение. Заменяем пропуски на 0."
   ]
  },
  {
   "cell_type": "code",
   "execution_count": 50,
   "id": "c747c469",
   "metadata": {},
   "outputs": [],
   "source": [
    "dftr['Months since last delinquent'].fillna(0, inplace = True)\n",
    "dftst['Months since last delinquent'].fillna(0, inplace = True)"
   ]
  },
  {
   "cell_type": "markdown",
   "id": "0b22921b",
   "metadata": {},
   "source": [
    "#### В признаке Bankruptcies немного пропусков. Заменяем на медиану."
   ]
  },
  {
   "cell_type": "code",
   "execution_count": 51,
   "id": "22ea1fd5",
   "metadata": {},
   "outputs": [],
   "source": [
    "mediantr = int(dftr['Bankruptcies'].median())\n",
    "mediantst = int(dftst['Bankruptcies'].median())\n",
    "dftr['Bankruptcies'].fillna(mediantr, inplace = True)\n",
    "dftst['Bankruptcies'].fillna(mediantst, inplace = True)"
   ]
  },
  {
   "cell_type": "markdown",
   "id": "63bd2b72",
   "metadata": {},
   "source": [
    "#### В признаке Credit Score пропуски заменяем медианой."
   ]
  },
  {
   "cell_type": "code",
   "execution_count": 52,
   "id": "bf8c8054",
   "metadata": {},
   "outputs": [],
   "source": [
    "mediantr = int(dftr['Credit Score'].median())\n",
    "mediantst = int(dftst['Credit Score'].median())\n",
    "dftr['Credit Score'].fillna(mediantr, inplace = True)\n",
    "dftst['Credit Score'].fillna(mediantst, inplace = True)"
   ]
  },
  {
   "cell_type": "markdown",
   "id": "24f4c523",
   "metadata": {},
   "source": [
    "#### Итоговые показатели по отсутствию пропусков (выводится только разделитель, т.к. пропусков в данных больше нет):"
   ]
  },
  {
   "cell_type": "code",
   "execution_count": 53,
   "id": "62a8a2ff",
   "metadata": {},
   "outputs": [
    {
     "name": "stdout",
     "output_type": "stream",
     "text": [
      "------------------------------\n"
     ]
    }
   ],
   "source": [
    "for i in dftr.columns:\n",
    "    if ((dftr[i].isnull()).sum(axis = 0)) > 0:\n",
    "        print(str(i) +' - '+  str((dftr[i].isnull()).sum(axis = 0)))\n",
    "\n",
    "print('-'*30)\n",
    "    \n",
    "for i in dftst.columns:\n",
    "    if ((dftr[i].isnull()).sum(axis = 0)) > 0:\n",
    "        print(str(i) +' - '+  str((dftst[i].isnull()).sum(axis = 0)))"
   ]
  },
  {
   "cell_type": "markdown",
   "id": "fef607fb",
   "metadata": {},
   "source": [
    "#### Выявились нулевые значения признака Maximum Open Credit при положительном Monthly Debt. Заменяем нулевые значения на средние значения, соответствующие признаку Current Loan Amount в диапазонах 108000 - 339000 и 275000 - 550000 соответственно."
   ]
  },
  {
   "cell_type": "code",
   "execution_count": 54,
   "id": "5298d47d",
   "metadata": {},
   "outputs": [
    {
     "data": {
      "text/html": [
       "<div>\n",
       "<style scoped>\n",
       "    .dataframe tbody tr th:only-of-type {\n",
       "        vertical-align: middle;\n",
       "    }\n",
       "\n",
       "    .dataframe tbody tr th {\n",
       "        vertical-align: top;\n",
       "    }\n",
       "\n",
       "    .dataframe thead th {\n",
       "        text-align: right;\n",
       "    }\n",
       "</style>\n",
       "<table border=\"1\" class=\"dataframe\">\n",
       "  <thead>\n",
       "    <tr style=\"text-align: right;\">\n",
       "      <th></th>\n",
       "      <th>Home Ownership</th>\n",
       "      <th>Annual Income</th>\n",
       "      <th>Years in current job</th>\n",
       "      <th>Number of Open Accounts</th>\n",
       "      <th>Years of Credit History</th>\n",
       "      <th>Maximum Open Credit</th>\n",
       "      <th>Number of Credit Problems</th>\n",
       "      <th>Months since last delinquent</th>\n",
       "      <th>Bankruptcies</th>\n",
       "      <th>Purpose</th>\n",
       "      <th>Term</th>\n",
       "      <th>Current Loan Amount</th>\n",
       "      <th>Current Credit Balance</th>\n",
       "      <th>Monthly Debt</th>\n",
       "      <th>Credit Score</th>\n",
       "      <th>Credit Default</th>\n",
       "    </tr>\n",
       "  </thead>\n",
       "  <tbody>\n",
       "    <tr>\n",
       "      <th>8</th>\n",
       "      <td>Home Mortgage</td>\n",
       "      <td>1161432.0</td>\n",
       "      <td>5 years</td>\n",
       "      <td>17.0</td>\n",
       "      <td>15.7</td>\n",
       "      <td>0.0</td>\n",
       "      <td>1.0</td>\n",
       "      <td>0.0</td>\n",
       "      <td>1.0</td>\n",
       "      <td>home improvements</td>\n",
       "      <td>Short Term</td>\n",
       "      <td>129734.0</td>\n",
       "      <td>19.0</td>\n",
       "      <td>17.0</td>\n",
       "      <td>729.0</td>\n",
       "      <td>0</td>\n",
       "    </tr>\n",
       "    <tr>\n",
       "      <th>91</th>\n",
       "      <td>Rent</td>\n",
       "      <td>601369.0</td>\n",
       "      <td>10+ years</td>\n",
       "      <td>6.0</td>\n",
       "      <td>16.9</td>\n",
       "      <td>0.0</td>\n",
       "      <td>0.0</td>\n",
       "      <td>14.0</td>\n",
       "      <td>0.0</td>\n",
       "      <td>debt consolidation</td>\n",
       "      <td>Short Term</td>\n",
       "      <td>165924.0</td>\n",
       "      <td>0.0</td>\n",
       "      <td>9021.0</td>\n",
       "      <td>738.0</td>\n",
       "      <td>0</td>\n",
       "    </tr>\n",
       "    <tr>\n",
       "      <th>196</th>\n",
       "      <td>Rent</td>\n",
       "      <td>815157.0</td>\n",
       "      <td>7 years</td>\n",
       "      <td>3.0</td>\n",
       "      <td>8.8</td>\n",
       "      <td>0.0</td>\n",
       "      <td>0.0</td>\n",
       "      <td>0.0</td>\n",
       "      <td>0.0</td>\n",
       "      <td>small business</td>\n",
       "      <td>Short Term</td>\n",
       "      <td>218042.0</td>\n",
       "      <td>0.0</td>\n",
       "      <td>5855.0</td>\n",
       "      <td>738.0</td>\n",
       "      <td>0</td>\n",
       "    </tr>\n",
       "    <tr>\n",
       "      <th>294</th>\n",
       "      <td>Home Mortgage</td>\n",
       "      <td>2033931.0</td>\n",
       "      <td>7 years</td>\n",
       "      <td>6.0</td>\n",
       "      <td>21.1</td>\n",
       "      <td>0.0</td>\n",
       "      <td>0.0</td>\n",
       "      <td>0.0</td>\n",
       "      <td>0.0</td>\n",
       "      <td>home improvements</td>\n",
       "      <td>Short Term</td>\n",
       "      <td>108042.0</td>\n",
       "      <td>0.0</td>\n",
       "      <td>30340.0</td>\n",
       "      <td>742.0</td>\n",
       "      <td>0</td>\n",
       "    </tr>\n",
       "    <tr>\n",
       "      <th>309</th>\n",
       "      <td>Rent</td>\n",
       "      <td>1245792.0</td>\n",
       "      <td>3 years</td>\n",
       "      <td>5.0</td>\n",
       "      <td>22.4</td>\n",
       "      <td>0.0</td>\n",
       "      <td>0.0</td>\n",
       "      <td>58.0</td>\n",
       "      <td>0.0</td>\n",
       "      <td>major purchase</td>\n",
       "      <td>Long Term</td>\n",
       "      <td>338096.0</td>\n",
       "      <td>0.0</td>\n",
       "      <td>395.0</td>\n",
       "      <td>659.0</td>\n",
       "      <td>0</td>\n",
       "    </tr>\n",
       "  </tbody>\n",
       "</table>\n",
       "</div>"
      ],
      "text/plain": [
       "    Home Ownership  Annual Income Years in current job  \\\n",
       "8    Home Mortgage      1161432.0              5 years   \n",
       "91            Rent       601369.0            10+ years   \n",
       "196           Rent       815157.0              7 years   \n",
       "294  Home Mortgage      2033931.0              7 years   \n",
       "309           Rent      1245792.0              3 years   \n",
       "\n",
       "     Number of Open Accounts  Years of Credit History  Maximum Open Credit  \\\n",
       "8                       17.0                     15.7                  0.0   \n",
       "91                       6.0                     16.9                  0.0   \n",
       "196                      3.0                      8.8                  0.0   \n",
       "294                      6.0                     21.1                  0.0   \n",
       "309                      5.0                     22.4                  0.0   \n",
       "\n",
       "     Number of Credit Problems  Months since last delinquent  Bankruptcies  \\\n",
       "8                          1.0                           0.0           1.0   \n",
       "91                         0.0                          14.0           0.0   \n",
       "196                        0.0                           0.0           0.0   \n",
       "294                        0.0                           0.0           0.0   \n",
       "309                        0.0                          58.0           0.0   \n",
       "\n",
       "                Purpose        Term  Current Loan Amount  \\\n",
       "8     home improvements  Short Term             129734.0   \n",
       "91   debt consolidation  Short Term             165924.0   \n",
       "196      small business  Short Term             218042.0   \n",
       "294   home improvements  Short Term             108042.0   \n",
       "309      major purchase   Long Term             338096.0   \n",
       "\n",
       "     Current Credit Balance  Monthly Debt  Credit Score  Credit Default  \n",
       "8                      19.0          17.0         729.0               0  \n",
       "91                      0.0        9021.0         738.0               0  \n",
       "196                     0.0        5855.0         738.0               0  \n",
       "294                     0.0       30340.0         742.0               0  \n",
       "309                     0.0         395.0         659.0               0  "
      ]
     },
     "execution_count": 54,
     "metadata": {},
     "output_type": "execute_result"
    }
   ],
   "source": [
    "dftr[(dftr['Maximum Open Credit'] == 0) & (dftr['Monthly Debt'] > 0)].head()"
   ]
  },
  {
   "cell_type": "code",
   "execution_count": 55,
   "id": "d7bd71f8",
   "metadata": {},
   "outputs": [
    {
     "data": {
      "text/html": [
       "<div>\n",
       "<style scoped>\n",
       "    .dataframe tbody tr th:only-of-type {\n",
       "        vertical-align: middle;\n",
       "    }\n",
       "\n",
       "    .dataframe tbody tr th {\n",
       "        vertical-align: top;\n",
       "    }\n",
       "\n",
       "    .dataframe thead th {\n",
       "        text-align: right;\n",
       "    }\n",
       "</style>\n",
       "<table border=\"1\" class=\"dataframe\">\n",
       "  <thead>\n",
       "    <tr style=\"text-align: right;\">\n",
       "      <th></th>\n",
       "      <th>Home Ownership</th>\n",
       "      <th>Annual Income</th>\n",
       "      <th>Years in current job</th>\n",
       "      <th>Number of Open Accounts</th>\n",
       "      <th>Years of Credit History</th>\n",
       "      <th>Maximum Open Credit</th>\n",
       "      <th>Number of Credit Problems</th>\n",
       "      <th>Months since last delinquent</th>\n",
       "      <th>Bankruptcies</th>\n",
       "      <th>Purpose</th>\n",
       "      <th>Term</th>\n",
       "      <th>Current Loan Amount</th>\n",
       "      <th>Current Credit Balance</th>\n",
       "      <th>Monthly Debt</th>\n",
       "      <th>Credit Score</th>\n",
       "    </tr>\n",
       "  </thead>\n",
       "  <tbody>\n",
       "    <tr>\n",
       "      <th>311</th>\n",
       "      <td>Home Mortgage</td>\n",
       "      <td>1230440.0</td>\n",
       "      <td>1 year</td>\n",
       "      <td>10.0</td>\n",
       "      <td>16.2</td>\n",
       "      <td>0.0</td>\n",
       "      <td>0.0</td>\n",
       "      <td>0.0</td>\n",
       "      <td>0.0</td>\n",
       "      <td>other</td>\n",
       "      <td>Long Term</td>\n",
       "      <td>547976.0</td>\n",
       "      <td>0.0</td>\n",
       "      <td>308.0</td>\n",
       "      <td>701.0</td>\n",
       "    </tr>\n",
       "    <tr>\n",
       "      <th>426</th>\n",
       "      <td>Rent</td>\n",
       "      <td>361760.0</td>\n",
       "      <td>&lt; 1 year</td>\n",
       "      <td>4.0</td>\n",
       "      <td>11.6</td>\n",
       "      <td>0.0</td>\n",
       "      <td>0.0</td>\n",
       "      <td>0.0</td>\n",
       "      <td>0.0</td>\n",
       "      <td>debt consolidation</td>\n",
       "      <td>Short Term</td>\n",
       "      <td>15422.0</td>\n",
       "      <td>0.0</td>\n",
       "      <td>3738.0</td>\n",
       "      <td>718.0</td>\n",
       "    </tr>\n",
       "    <tr>\n",
       "      <th>1036</th>\n",
       "      <td>Home Mortgage</td>\n",
       "      <td>2328906.0</td>\n",
       "      <td>5 years</td>\n",
       "      <td>4.0</td>\n",
       "      <td>16.4</td>\n",
       "      <td>0.0</td>\n",
       "      <td>0.0</td>\n",
       "      <td>0.0</td>\n",
       "      <td>0.0</td>\n",
       "      <td>other</td>\n",
       "      <td>Short Term</td>\n",
       "      <td>434940.0</td>\n",
       "      <td>51775.0</td>\n",
       "      <td>3125.0</td>\n",
       "      <td>735.0</td>\n",
       "    </tr>\n",
       "    <tr>\n",
       "      <th>1343</th>\n",
       "      <td>Home Mortgage</td>\n",
       "      <td>2400061.0</td>\n",
       "      <td>10+ years</td>\n",
       "      <td>1.0</td>\n",
       "      <td>17.0</td>\n",
       "      <td>0.0</td>\n",
       "      <td>0.0</td>\n",
       "      <td>51.0</td>\n",
       "      <td>0.0</td>\n",
       "      <td>debt consolidation</td>\n",
       "      <td>Short Term</td>\n",
       "      <td>494648.0</td>\n",
       "      <td>0.0</td>\n",
       "      <td>1500.0</td>\n",
       "      <td>709.0</td>\n",
       "    </tr>\n",
       "    <tr>\n",
       "      <th>1373</th>\n",
       "      <td>Rent</td>\n",
       "      <td>1164225.0</td>\n",
       "      <td>&lt; 1 year</td>\n",
       "      <td>5.0</td>\n",
       "      <td>10.7</td>\n",
       "      <td>0.0</td>\n",
       "      <td>0.0</td>\n",
       "      <td>0.0</td>\n",
       "      <td>0.0</td>\n",
       "      <td>other</td>\n",
       "      <td>Short Term</td>\n",
       "      <td>276452.0</td>\n",
       "      <td>11533.0</td>\n",
       "      <td>283.0</td>\n",
       "      <td>727.0</td>\n",
       "    </tr>\n",
       "  </tbody>\n",
       "</table>\n",
       "</div>"
      ],
      "text/plain": [
       "     Home Ownership  Annual Income Years in current job  \\\n",
       "311   Home Mortgage      1230440.0               1 year   \n",
       "426            Rent       361760.0             < 1 year   \n",
       "1036  Home Mortgage      2328906.0              5 years   \n",
       "1343  Home Mortgage      2400061.0            10+ years   \n",
       "1373           Rent      1164225.0             < 1 year   \n",
       "\n",
       "      Number of Open Accounts  Years of Credit History  Maximum Open Credit  \\\n",
       "311                      10.0                     16.2                  0.0   \n",
       "426                       4.0                     11.6                  0.0   \n",
       "1036                      4.0                     16.4                  0.0   \n",
       "1343                      1.0                     17.0                  0.0   \n",
       "1373                      5.0                     10.7                  0.0   \n",
       "\n",
       "      Number of Credit Problems  Months since last delinquent  Bankruptcies  \\\n",
       "311                         0.0                           0.0           0.0   \n",
       "426                         0.0                           0.0           0.0   \n",
       "1036                        0.0                           0.0           0.0   \n",
       "1343                        0.0                          51.0           0.0   \n",
       "1373                        0.0                           0.0           0.0   \n",
       "\n",
       "                 Purpose        Term  Current Loan Amount  \\\n",
       "311                other   Long Term             547976.0   \n",
       "426   debt consolidation  Short Term              15422.0   \n",
       "1036               other  Short Term             434940.0   \n",
       "1343  debt consolidation  Short Term             494648.0   \n",
       "1373               other  Short Term             276452.0   \n",
       "\n",
       "      Current Credit Balance  Monthly Debt  Credit Score  \n",
       "311                      0.0         308.0         701.0  \n",
       "426                      0.0        3738.0         718.0  \n",
       "1036                 51775.0        3125.0         735.0  \n",
       "1343                     0.0        1500.0         709.0  \n",
       "1373                 11533.0         283.0         727.0  "
      ]
     },
     "execution_count": 55,
     "metadata": {},
     "output_type": "execute_result"
    }
   ],
   "source": [
    "dftst[(dftst['Maximum Open Credit'] == 0) & (dftst['Monthly Debt'] > 0)].head()"
   ]
  },
  {
   "cell_type": "code",
   "execution_count": 56,
   "id": "45ddb361",
   "metadata": {},
   "outputs": [],
   "source": [
    "dftr.loc[dftr['Maximum Open Credit'] == 0, 'Maximum Open Credit'] = dftr.loc[dftr['Current Loan Amount'].between(108000, 339000, inclusive=True), 'Current Loan Amount'].median()\n",
    "dftst.loc[dftst['Maximum Open Credit'] == 0, 'Maximum Open Credit'] = dftst.loc[dftst['Current Loan Amount'].between(275000, 550000, inclusive=True), 'Current Loan Amount'].median()"
   ]
  },
  {
   "cell_type": "markdown",
   "id": "8ee689c2",
   "metadata": {},
   "source": [
    "#### Выявлены нулевые значения Monthly Debt при положительных значениях Current Loan Amount. Заменяем нулевые значения на средние значения, соответствующие признаку Current Loan Amount в диапазоне 75000 - 333000."
   ]
  },
  {
   "cell_type": "code",
   "execution_count": 57,
   "id": "c4da19f2",
   "metadata": {},
   "outputs": [
    {
     "data": {
      "text/html": [
       "<div>\n",
       "<style scoped>\n",
       "    .dataframe tbody tr th:only-of-type {\n",
       "        vertical-align: middle;\n",
       "    }\n",
       "\n",
       "    .dataframe tbody tr th {\n",
       "        vertical-align: top;\n",
       "    }\n",
       "\n",
       "    .dataframe thead th {\n",
       "        text-align: right;\n",
       "    }\n",
       "</style>\n",
       "<table border=\"1\" class=\"dataframe\">\n",
       "  <thead>\n",
       "    <tr style=\"text-align: right;\">\n",
       "      <th></th>\n",
       "      <th>Home Ownership</th>\n",
       "      <th>Annual Income</th>\n",
       "      <th>Years in current job</th>\n",
       "      <th>Number of Open Accounts</th>\n",
       "      <th>Years of Credit History</th>\n",
       "      <th>Maximum Open Credit</th>\n",
       "      <th>Number of Credit Problems</th>\n",
       "      <th>Months since last delinquent</th>\n",
       "      <th>Bankruptcies</th>\n",
       "      <th>Purpose</th>\n",
       "      <th>Term</th>\n",
       "      <th>Current Loan Amount</th>\n",
       "      <th>Current Credit Balance</th>\n",
       "      <th>Monthly Debt</th>\n",
       "      <th>Credit Score</th>\n",
       "      <th>Credit Default</th>\n",
       "    </tr>\n",
       "  </thead>\n",
       "  <tbody>\n",
       "    <tr>\n",
       "      <th>780</th>\n",
       "      <td>Home Mortgage</td>\n",
       "      <td>867749.0</td>\n",
       "      <td>10+ years</td>\n",
       "      <td>2.0</td>\n",
       "      <td>16.5</td>\n",
       "      <td>219626.0</td>\n",
       "      <td>0.0</td>\n",
       "      <td>66.0</td>\n",
       "      <td>0.0</td>\n",
       "      <td>home improvements</td>\n",
       "      <td>Short Term</td>\n",
       "      <td>75350.0</td>\n",
       "      <td>0.0</td>\n",
       "      <td>0.0</td>\n",
       "      <td>704.0</td>\n",
       "      <td>0</td>\n",
       "    </tr>\n",
       "    <tr>\n",
       "      <th>1643</th>\n",
       "      <td>Rent</td>\n",
       "      <td>1161432.0</td>\n",
       "      <td>9 years</td>\n",
       "      <td>3.0</td>\n",
       "      <td>10.0</td>\n",
       "      <td>219626.0</td>\n",
       "      <td>0.0</td>\n",
       "      <td>0.0</td>\n",
       "      <td>0.0</td>\n",
       "      <td>other</td>\n",
       "      <td>Short Term</td>\n",
       "      <td>332156.0</td>\n",
       "      <td>0.0</td>\n",
       "      <td>0.0</td>\n",
       "      <td>729.0</td>\n",
       "      <td>1</td>\n",
       "    </tr>\n",
       "    <tr>\n",
       "      <th>3219</th>\n",
       "      <td>Home Mortgage</td>\n",
       "      <td>1161432.0</td>\n",
       "      <td>10+ years</td>\n",
       "      <td>3.0</td>\n",
       "      <td>18.5</td>\n",
       "      <td>219626.0</td>\n",
       "      <td>0.0</td>\n",
       "      <td>0.0</td>\n",
       "      <td>0.0</td>\n",
       "      <td>debt consolidation</td>\n",
       "      <td>Short Term</td>\n",
       "      <td>79200.0</td>\n",
       "      <td>0.0</td>\n",
       "      <td>0.0</td>\n",
       "      <td>729.0</td>\n",
       "      <td>0</td>\n",
       "    </tr>\n",
       "    <tr>\n",
       "      <th>3496</th>\n",
       "      <td>Rent</td>\n",
       "      <td>233567.0</td>\n",
       "      <td>1 year</td>\n",
       "      <td>7.0</td>\n",
       "      <td>11.7</td>\n",
       "      <td>219626.0</td>\n",
       "      <td>0.0</td>\n",
       "      <td>0.0</td>\n",
       "      <td>0.0</td>\n",
       "      <td>educational expenses</td>\n",
       "      <td>Short Term</td>\n",
       "      <td>210166.0</td>\n",
       "      <td>0.0</td>\n",
       "      <td>0.0</td>\n",
       "      <td>746.0</td>\n",
       "      <td>0</td>\n",
       "    </tr>\n",
       "    <tr>\n",
       "      <th>4165</th>\n",
       "      <td>Rent</td>\n",
       "      <td>1254513.0</td>\n",
       "      <td>10+ years</td>\n",
       "      <td>6.0</td>\n",
       "      <td>23.4</td>\n",
       "      <td>219626.0</td>\n",
       "      <td>0.0</td>\n",
       "      <td>60.0</td>\n",
       "      <td>0.0</td>\n",
       "      <td>take a trip</td>\n",
       "      <td>Short Term</td>\n",
       "      <td>89298.0</td>\n",
       "      <td>0.0</td>\n",
       "      <td>0.0</td>\n",
       "      <td>748.0</td>\n",
       "      <td>0</td>\n",
       "    </tr>\n",
       "  </tbody>\n",
       "</table>\n",
       "</div>"
      ],
      "text/plain": [
       "     Home Ownership  Annual Income Years in current job  \\\n",
       "780   Home Mortgage       867749.0            10+ years   \n",
       "1643           Rent      1161432.0              9 years   \n",
       "3219  Home Mortgage      1161432.0            10+ years   \n",
       "3496           Rent       233567.0               1 year   \n",
       "4165           Rent      1254513.0            10+ years   \n",
       "\n",
       "      Number of Open Accounts  Years of Credit History  Maximum Open Credit  \\\n",
       "780                       2.0                     16.5             219626.0   \n",
       "1643                      3.0                     10.0             219626.0   \n",
       "3219                      3.0                     18.5             219626.0   \n",
       "3496                      7.0                     11.7             219626.0   \n",
       "4165                      6.0                     23.4             219626.0   \n",
       "\n",
       "      Number of Credit Problems  Months since last delinquent  Bankruptcies  \\\n",
       "780                         0.0                          66.0           0.0   \n",
       "1643                        0.0                           0.0           0.0   \n",
       "3219                        0.0                           0.0           0.0   \n",
       "3496                        0.0                           0.0           0.0   \n",
       "4165                        0.0                          60.0           0.0   \n",
       "\n",
       "                   Purpose        Term  Current Loan Amount  \\\n",
       "780      home improvements  Short Term              75350.0   \n",
       "1643                 other  Short Term             332156.0   \n",
       "3219    debt consolidation  Short Term              79200.0   \n",
       "3496  educational expenses  Short Term             210166.0   \n",
       "4165           take a trip  Short Term              89298.0   \n",
       "\n",
       "      Current Credit Balance  Monthly Debt  Credit Score  Credit Default  \n",
       "780                      0.0           0.0         704.0               0  \n",
       "1643                     0.0           0.0         729.0               1  \n",
       "3219                     0.0           0.0         729.0               0  \n",
       "3496                     0.0           0.0         746.0               0  \n",
       "4165                     0.0           0.0         748.0               0  "
      ]
     },
     "execution_count": 57,
     "metadata": {},
     "output_type": "execute_result"
    }
   ],
   "source": [
    "dftr[(dftr['Monthly Debt'] == 0) & (dftr['Current Loan Amount'] > 0)].head()"
   ]
  },
  {
   "cell_type": "code",
   "execution_count": 58,
   "id": "a936a484",
   "metadata": {},
   "outputs": [],
   "source": [
    "dftr.loc[dftr['Monthly Debt'] == 0, 'Monthly Debt'] = dftr.loc[dftr['Current Loan Amount'].between(75000, 333000, inclusive=True), 'Current Loan Amount'].median()"
   ]
  },
  {
   "cell_type": "markdown",
   "id": "b18bf2ef",
   "metadata": {},
   "source": [
    "### После устранения пропусков возможно приведение типов переменных."
   ]
  },
  {
   "cell_type": "markdown",
   "id": "b6805935",
   "metadata": {},
   "source": [
    "#### В виду отсутствия дробных значений в датасете, приводим все признаки к типу int, немного сэкономив памяти."
   ]
  },
  {
   "cell_type": "code",
   "execution_count": 59,
   "id": "f311d2eb",
   "metadata": {},
   "outputs": [],
   "source": [
    "for colname in ['Annual Income', 'Number of Open Accounts', 'Years of Credit History', 'Maximum Open Credit',\n",
    "                'Number of Credit Problems', 'Months since last delinquent', 'Bankruptcies', 'Current Loan Amount',\n",
    "               'Current Credit Balance', 'Monthly Debt', 'Credit Score']:\n",
    "    dftr[colname] = dftr[colname].astype(int)\n",
    "    \n",
    "for colname in ['Annual Income', 'Number of Open Accounts', 'Years of Credit History', 'Maximum Open Credit',\n",
    "                'Number of Credit Problems', 'Months since last delinquent', 'Bankruptcies', 'Current Loan Amount',\n",
    "               'Current Credit Balance', 'Monthly Debt', 'Credit Score']:\n",
    "    dftst[colname] = dftst[colname].astype(int)"
   ]
  },
  {
   "cell_type": "code",
   "execution_count": 60,
   "id": "6dfa1ca0",
   "metadata": {},
   "outputs": [
    {
     "name": "stdout",
     "output_type": "stream",
     "text": [
      "<class 'pandas.core.frame.DataFrame'>\n",
      "RangeIndex: 7500 entries, 0 to 7499\n",
      "Data columns (total 16 columns):\n",
      " #   Column                        Non-Null Count  Dtype \n",
      "---  ------                        --------------  ----- \n",
      " 0   Home Ownership                7500 non-null   object\n",
      " 1   Annual Income                 7500 non-null   int32 \n",
      " 2   Years in current job          7500 non-null   object\n",
      " 3   Number of Open Accounts       7500 non-null   int32 \n",
      " 4   Years of Credit History       7500 non-null   int32 \n",
      " 5   Maximum Open Credit           7500 non-null   int32 \n",
      " 6   Number of Credit Problems     7500 non-null   int32 \n",
      " 7   Months since last delinquent  7500 non-null   int32 \n",
      " 8   Bankruptcies                  7500 non-null   int32 \n",
      " 9   Purpose                       7500 non-null   object\n",
      " 10  Term                          7500 non-null   object\n",
      " 11  Current Loan Amount           7500 non-null   int32 \n",
      " 12  Current Credit Balance        7500 non-null   int32 \n",
      " 13  Monthly Debt                  7500 non-null   int32 \n",
      " 14  Credit Score                  7500 non-null   int32 \n",
      " 15  Credit Default                7500 non-null   int64 \n",
      "dtypes: int32(11), int64(1), object(4)\n",
      "memory usage: 2.3 MB\n"
     ]
    }
   ],
   "source": [
    "dftr.info(memory_usage='deep')"
   ]
  },
  {
   "cell_type": "code",
   "execution_count": 61,
   "id": "44886f06",
   "metadata": {},
   "outputs": [
    {
     "name": "stdout",
     "output_type": "stream",
     "text": [
      "<class 'pandas.core.frame.DataFrame'>\n",
      "RangeIndex: 2500 entries, 0 to 2499\n",
      "Data columns (total 15 columns):\n",
      " #   Column                        Non-Null Count  Dtype \n",
      "---  ------                        --------------  ----- \n",
      " 0   Home Ownership                2500 non-null   object\n",
      " 1   Annual Income                 2500 non-null   int32 \n",
      " 2   Years in current job          2500 non-null   object\n",
      " 3   Number of Open Accounts       2500 non-null   int32 \n",
      " 4   Years of Credit History       2500 non-null   int32 \n",
      " 5   Maximum Open Credit           2500 non-null   int32 \n",
      " 6   Number of Credit Problems     2500 non-null   int32 \n",
      " 7   Months since last delinquent  2500 non-null   int32 \n",
      " 8   Bankruptcies                  2500 non-null   int32 \n",
      " 9   Purpose                       2500 non-null   object\n",
      " 10  Term                          2500 non-null   object\n",
      " 11  Current Loan Amount           2500 non-null   int32 \n",
      " 12  Current Credit Balance        2500 non-null   int32 \n",
      " 13  Monthly Debt                  2500 non-null   int32 \n",
      " 14  Credit Score                  2500 non-null   int32 \n",
      "dtypes: int32(11), object(4)\n",
      "memory usage: 768.2 KB\n"
     ]
    }
   ],
   "source": [
    "dftst.info(memory_usage='deep')"
   ]
  },
  {
   "cell_type": "markdown",
   "id": "2bc68a7c",
   "metadata": {},
   "source": [
    "#### Переводим номинативные признаки Home Ownership, Years in current job и Purpose в категориальные, а Term в бинарный."
   ]
  },
  {
   "cell_type": "code",
   "execution_count": 62,
   "id": "e0a05dae",
   "metadata": {},
   "outputs": [],
   "source": [
    "cleanup_nums = {\"Home Ownership\":     {\"Home Mortgage\": 1, \"Rent\": 2, 'Own Home': 3},\n",
    "                \"Years in current job\": {\"10+ years\": 10, \"9 years\": 9, \"8 years\": 8, \"7 years\": 7,\n",
    "                                  \"6 years\": 6, \"5 years\": 5, \"4 years\":4, '3 years':3, '2 years':2,\n",
    "                                  '1 year':1, '< 1 year': 0},\n",
    "                'Purpose': {'debt consolidation': 1, 'other': 2, 'home improvements': 3, 'business loan': 4,\n",
    "                           'buy a car': 5, 'medical bills': 6, 'major purchase':7, 'take a trip':8,\n",
    "                           'buy house': 9, 'small business': 10, 'wedding':11, 'moving':12, 'educational expenses':13,\n",
    "                           'vacation':14, 'renewable energy':15},\n",
    "                'Term': {'Short Term': 0, 'Long Term':1}}"
   ]
  },
  {
   "cell_type": "code",
   "execution_count": 63,
   "id": "372592fd",
   "metadata": {},
   "outputs": [],
   "source": [
    "dftr = dftr.replace(cleanup_nums)\n",
    "dftst = dftst.replace(cleanup_nums)"
   ]
  },
  {
   "cell_type": "code",
   "execution_count": 64,
   "id": "b390863f",
   "metadata": {},
   "outputs": [
    {
     "data": {
      "text/html": [
       "<div>\n",
       "<style scoped>\n",
       "    .dataframe tbody tr th:only-of-type {\n",
       "        vertical-align: middle;\n",
       "    }\n",
       "\n",
       "    .dataframe tbody tr th {\n",
       "        vertical-align: top;\n",
       "    }\n",
       "\n",
       "    .dataframe thead th {\n",
       "        text-align: right;\n",
       "    }\n",
       "</style>\n",
       "<table border=\"1\" class=\"dataframe\">\n",
       "  <thead>\n",
       "    <tr style=\"text-align: right;\">\n",
       "      <th></th>\n",
       "      <th>Home Ownership</th>\n",
       "      <th>Annual Income</th>\n",
       "      <th>Years in current job</th>\n",
       "      <th>Number of Open Accounts</th>\n",
       "      <th>Years of Credit History</th>\n",
       "      <th>Maximum Open Credit</th>\n",
       "      <th>Number of Credit Problems</th>\n",
       "      <th>Months since last delinquent</th>\n",
       "      <th>Bankruptcies</th>\n",
       "      <th>Purpose</th>\n",
       "      <th>Term</th>\n",
       "      <th>Current Loan Amount</th>\n",
       "      <th>Current Credit Balance</th>\n",
       "      <th>Monthly Debt</th>\n",
       "      <th>Credit Score</th>\n",
       "      <th>Credit Default</th>\n",
       "    </tr>\n",
       "  </thead>\n",
       "  <tbody>\n",
       "    <tr>\n",
       "      <th>0</th>\n",
       "      <td>3</td>\n",
       "      <td>482087</td>\n",
       "      <td>10</td>\n",
       "      <td>11</td>\n",
       "      <td>26</td>\n",
       "      <td>685960</td>\n",
       "      <td>1</td>\n",
       "      <td>0</td>\n",
       "      <td>1</td>\n",
       "      <td>1</td>\n",
       "      <td>0</td>\n",
       "      <td>89298</td>\n",
       "      <td>47386</td>\n",
       "      <td>7914</td>\n",
       "      <td>749</td>\n",
       "      <td>0</td>\n",
       "    </tr>\n",
       "    <tr>\n",
       "      <th>1</th>\n",
       "      <td>3</td>\n",
       "      <td>1025487</td>\n",
       "      <td>10</td>\n",
       "      <td>15</td>\n",
       "      <td>15</td>\n",
       "      <td>1181730</td>\n",
       "      <td>0</td>\n",
       "      <td>0</td>\n",
       "      <td>0</td>\n",
       "      <td>1</td>\n",
       "      <td>1</td>\n",
       "      <td>264968</td>\n",
       "      <td>394972</td>\n",
       "      <td>18373</td>\n",
       "      <td>737</td>\n",
       "      <td>1</td>\n",
       "    </tr>\n",
       "    <tr>\n",
       "      <th>2</th>\n",
       "      <td>1</td>\n",
       "      <td>751412</td>\n",
       "      <td>8</td>\n",
       "      <td>11</td>\n",
       "      <td>35</td>\n",
       "      <td>1182434</td>\n",
       "      <td>0</td>\n",
       "      <td>0</td>\n",
       "      <td>0</td>\n",
       "      <td>1</td>\n",
       "      <td>0</td>\n",
       "      <td>89298</td>\n",
       "      <td>308389</td>\n",
       "      <td>13651</td>\n",
       "      <td>742</td>\n",
       "      <td>0</td>\n",
       "    </tr>\n",
       "    <tr>\n",
       "      <th>3</th>\n",
       "      <td>3</td>\n",
       "      <td>805068</td>\n",
       "      <td>6</td>\n",
       "      <td>8</td>\n",
       "      <td>22</td>\n",
       "      <td>147400</td>\n",
       "      <td>1</td>\n",
       "      <td>0</td>\n",
       "      <td>1</td>\n",
       "      <td>1</td>\n",
       "      <td>0</td>\n",
       "      <td>121396</td>\n",
       "      <td>95855</td>\n",
       "      <td>11338</td>\n",
       "      <td>694</td>\n",
       "      <td>0</td>\n",
       "    </tr>\n",
       "    <tr>\n",
       "      <th>4</th>\n",
       "      <td>2</td>\n",
       "      <td>776264</td>\n",
       "      <td>8</td>\n",
       "      <td>13</td>\n",
       "      <td>13</td>\n",
       "      <td>385836</td>\n",
       "      <td>1</td>\n",
       "      <td>0</td>\n",
       "      <td>0</td>\n",
       "      <td>1</td>\n",
       "      <td>0</td>\n",
       "      <td>125840</td>\n",
       "      <td>93309</td>\n",
       "      <td>7180</td>\n",
       "      <td>719</td>\n",
       "      <td>0</td>\n",
       "    </tr>\n",
       "  </tbody>\n",
       "</table>\n",
       "</div>"
      ],
      "text/plain": [
       "   Home Ownership  Annual Income  Years in current job  \\\n",
       "0               3         482087                    10   \n",
       "1               3        1025487                    10   \n",
       "2               1         751412                     8   \n",
       "3               3         805068                     6   \n",
       "4               2         776264                     8   \n",
       "\n",
       "   Number of Open Accounts  Years of Credit History  Maximum Open Credit  \\\n",
       "0                       11                       26               685960   \n",
       "1                       15                       15              1181730   \n",
       "2                       11                       35              1182434   \n",
       "3                        8                       22               147400   \n",
       "4                       13                       13               385836   \n",
       "\n",
       "   Number of Credit Problems  Months since last delinquent  Bankruptcies  \\\n",
       "0                          1                             0             1   \n",
       "1                          0                             0             0   \n",
       "2                          0                             0             0   \n",
       "3                          1                             0             1   \n",
       "4                          1                             0             0   \n",
       "\n",
       "   Purpose  Term  Current Loan Amount  Current Credit Balance  Monthly Debt  \\\n",
       "0        1     0                89298                   47386          7914   \n",
       "1        1     1               264968                  394972         18373   \n",
       "2        1     0                89298                  308389         13651   \n",
       "3        1     0               121396                   95855         11338   \n",
       "4        1     0               125840                   93309          7180   \n",
       "\n",
       "   Credit Score  Credit Default  \n",
       "0           749               0  \n",
       "1           737               1  \n",
       "2           742               0  \n",
       "3           694               0  \n",
       "4           719               0  "
      ]
     },
     "execution_count": 64,
     "metadata": {},
     "output_type": "execute_result"
    }
   ],
   "source": [
    "dftr.head()"
   ]
  },
  {
   "cell_type": "code",
   "execution_count": 65,
   "id": "74768bf5",
   "metadata": {},
   "outputs": [
    {
     "data": {
      "text/html": [
       "<div>\n",
       "<style scoped>\n",
       "    .dataframe tbody tr th:only-of-type {\n",
       "        vertical-align: middle;\n",
       "    }\n",
       "\n",
       "    .dataframe tbody tr th {\n",
       "        vertical-align: top;\n",
       "    }\n",
       "\n",
       "    .dataframe thead th {\n",
       "        text-align: right;\n",
       "    }\n",
       "</style>\n",
       "<table border=\"1\" class=\"dataframe\">\n",
       "  <thead>\n",
       "    <tr style=\"text-align: right;\">\n",
       "      <th></th>\n",
       "      <th>Home Ownership</th>\n",
       "      <th>Annual Income</th>\n",
       "      <th>Years in current job</th>\n",
       "      <th>Number of Open Accounts</th>\n",
       "      <th>Years of Credit History</th>\n",
       "      <th>Maximum Open Credit</th>\n",
       "      <th>Number of Credit Problems</th>\n",
       "      <th>Months since last delinquent</th>\n",
       "      <th>Bankruptcies</th>\n",
       "      <th>Purpose</th>\n",
       "      <th>Term</th>\n",
       "      <th>Current Loan Amount</th>\n",
       "      <th>Current Credit Balance</th>\n",
       "      <th>Monthly Debt</th>\n",
       "      <th>Credit Score</th>\n",
       "    </tr>\n",
       "  </thead>\n",
       "  <tbody>\n",
       "    <tr>\n",
       "      <th>0</th>\n",
       "      <td>2</td>\n",
       "      <td>1164225</td>\n",
       "      <td>4</td>\n",
       "      <td>9</td>\n",
       "      <td>12</td>\n",
       "      <td>220968</td>\n",
       "      <td>0</td>\n",
       "      <td>70</td>\n",
       "      <td>0</td>\n",
       "      <td>1</td>\n",
       "      <td>0</td>\n",
       "      <td>162470</td>\n",
       "      <td>105906</td>\n",
       "      <td>6813</td>\n",
       "      <td>727</td>\n",
       "    </tr>\n",
       "    <tr>\n",
       "      <th>1</th>\n",
       "      <td>2</td>\n",
       "      <td>231838</td>\n",
       "      <td>1</td>\n",
       "      <td>6</td>\n",
       "      <td>32</td>\n",
       "      <td>55946</td>\n",
       "      <td>0</td>\n",
       "      <td>8</td>\n",
       "      <td>0</td>\n",
       "      <td>13</td>\n",
       "      <td>0</td>\n",
       "      <td>78298</td>\n",
       "      <td>46037</td>\n",
       "      <td>2318</td>\n",
       "      <td>699</td>\n",
       "    </tr>\n",
       "    <tr>\n",
       "      <th>2</th>\n",
       "      <td>1</td>\n",
       "      <td>1152540</td>\n",
       "      <td>3</td>\n",
       "      <td>10</td>\n",
       "      <td>13</td>\n",
       "      <td>204600</td>\n",
       "      <td>0</td>\n",
       "      <td>0</td>\n",
       "      <td>0</td>\n",
       "      <td>1</td>\n",
       "      <td>0</td>\n",
       "      <td>200178</td>\n",
       "      <td>146490</td>\n",
       "      <td>18729</td>\n",
       "      <td>726</td>\n",
       "    </tr>\n",
       "    <tr>\n",
       "      <th>3</th>\n",
       "      <td>1</td>\n",
       "      <td>1220313</td>\n",
       "      <td>10</td>\n",
       "      <td>16</td>\n",
       "      <td>17</td>\n",
       "      <td>456302</td>\n",
       "      <td>0</td>\n",
       "      <td>70</td>\n",
       "      <td>0</td>\n",
       "      <td>1</td>\n",
       "      <td>0</td>\n",
       "      <td>217382</td>\n",
       "      <td>213199</td>\n",
       "      <td>27559</td>\n",
       "      <td>739</td>\n",
       "    </tr>\n",
       "    <tr>\n",
       "      <th>4</th>\n",
       "      <td>1</td>\n",
       "      <td>2340952</td>\n",
       "      <td>6</td>\n",
       "      <td>11</td>\n",
       "      <td>23</td>\n",
       "      <td>1207272</td>\n",
       "      <td>0</td>\n",
       "      <td>0</td>\n",
       "      <td>0</td>\n",
       "      <td>1</td>\n",
       "      <td>1</td>\n",
       "      <td>777634</td>\n",
       "      <td>425391</td>\n",
       "      <td>42605</td>\n",
       "      <td>706</td>\n",
       "    </tr>\n",
       "  </tbody>\n",
       "</table>\n",
       "</div>"
      ],
      "text/plain": [
       "   Home Ownership  Annual Income  Years in current job  \\\n",
       "0               2        1164225                     4   \n",
       "1               2         231838                     1   \n",
       "2               1        1152540                     3   \n",
       "3               1        1220313                    10   \n",
       "4               1        2340952                     6   \n",
       "\n",
       "   Number of Open Accounts  Years of Credit History  Maximum Open Credit  \\\n",
       "0                        9                       12               220968   \n",
       "1                        6                       32                55946   \n",
       "2                       10                       13               204600   \n",
       "3                       16                       17               456302   \n",
       "4                       11                       23              1207272   \n",
       "\n",
       "   Number of Credit Problems  Months since last delinquent  Bankruptcies  \\\n",
       "0                          0                            70             0   \n",
       "1                          0                             8             0   \n",
       "2                          0                             0             0   \n",
       "3                          0                            70             0   \n",
       "4                          0                             0             0   \n",
       "\n",
       "   Purpose  Term  Current Loan Amount  Current Credit Balance  Monthly Debt  \\\n",
       "0        1     0               162470                  105906          6813   \n",
       "1       13     0                78298                   46037          2318   \n",
       "2        1     0               200178                  146490         18729   \n",
       "3        1     0               217382                  213199         27559   \n",
       "4        1     1               777634                  425391         42605   \n",
       "\n",
       "   Credit Score  \n",
       "0           727  \n",
       "1           699  \n",
       "2           726  \n",
       "3           739  \n",
       "4           706  "
      ]
     },
     "execution_count": 65,
     "metadata": {},
     "output_type": "execute_result"
    }
   ],
   "source": [
    "dftst.head()"
   ]
  },
  {
   "cell_type": "markdown",
   "id": "5f8660db",
   "metadata": {},
   "source": [
    "### Промежуточное сохранение датасета:"
   ]
  },
  {
   "cell_type": "code",
   "execution_count": 66,
   "id": "22335530",
   "metadata": {},
   "outputs": [],
   "source": [
    "dftr.to_csv(TRAIN_PREPARED_DATASET_PATH, sep=\",\", index=False)\n",
    "dftst.to_csv(TEST_PREPARED_DATASET_PATH, sep=\",\", index=False)"
   ]
  },
  {
   "cell_type": "markdown",
   "id": "451b645d",
   "metadata": {},
   "source": [
    "### Загрузка датасета:"
   ]
  },
  {
   "cell_type": "code",
   "execution_count": 67,
   "id": "3e7a4f09",
   "metadata": {},
   "outputs": [],
   "source": [
    "TRAIN_DATASET_PATH = './/course_project_train.csv'\n",
    "TEST_DATASET_PATH = './/course_project_test.csv'\n",
    "TRAIN_PREPARED_DATASET_PATH = './/prepared_train_DS_2.csv'\n",
    "TEST_PREPARED_DATASET_PATH = './/prepared_test_DS_2.csv'\n",
    "\n",
    "dftr = pd.read_csv(TRAIN_PREPARED_DATASET_PATH)\n",
    "dftst = pd.read_csv(TEST_PREPARED_DATASET_PATH)"
   ]
  },
  {
   "cell_type": "markdown",
   "id": "0728a40a",
   "metadata": {},
   "source": [
    "#### Выделение целевой переменной и групп признаков:"
   ]
  },
  {
   "cell_type": "code",
   "execution_count": 68,
   "id": "3007251c",
   "metadata": {},
   "outputs": [],
   "source": [
    "TARGET_NAME = 'Credit Default'\n",
    "FEATURE_NAMES = dftr.columns.drop(TARGET_NAME).tolist()"
   ]
  },
  {
   "cell_type": "markdown",
   "id": "49bd1835",
   "metadata": {},
   "source": [
    "### Анализ целевой переменной."
   ]
  },
  {
   "cell_type": "markdown",
   "id": "547b2049",
   "metadata": {},
   "source": [
    "#### Обзор распределения:"
   ]
  },
  {
   "cell_type": "code",
   "execution_count": 69,
   "id": "a8d62e35",
   "metadata": {},
   "outputs": [
    {
     "data": {
      "text/plain": [
       "0    5387\n",
       "1    2113\n",
       "Name: Credit Default, dtype: int64"
      ]
     },
     "execution_count": 69,
     "metadata": {},
     "output_type": "execute_result"
    }
   ],
   "source": [
    "dftr[TARGET_NAME].value_counts()"
   ]
  },
  {
   "cell_type": "code",
   "execution_count": 70,
   "id": "8ccd4c80",
   "metadata": {},
   "outputs": [
    {
     "data": {
      "image/png": "[encoded data removed]",
      "text/plain": [
       "<Figure size 576x360 with 1 Axes>"
      ]
     },
     "metadata": {
      "needs_background": "light"
     },
     "output_type": "display_data"
    }
   ],
   "source": [
    "plt.figure(figsize=(8, 5))\n",
    "\n",
    "sns.countplot(x=TARGET_NAME, data=dftr)\n",
    "\n",
    "plt.title('Target variable distribution')\n",
    "plt.show()"
   ]
  },
  {
   "cell_type": "markdown",
   "id": "0ebd9f98",
   "metadata": {},
   "source": [
    "#### На графике виден явный дисбаланс целевой переменной, который будет сглаживаться позже."
   ]
  },
  {
   "cell_type": "markdown",
   "id": "8142b666",
   "metadata": {},
   "source": [
    "#### Корреляция с базовыми признаками:"
   ]
  },
  {
   "cell_type": "code",
   "execution_count": 71,
   "id": "aebcab5c",
   "metadata": {},
   "outputs": [
    {
     "data": {
      "image/png": "[encoded data removed]",
      "text/plain": [
       "<Figure size 720x576 with 1 Axes>"
      ]
     },
     "metadata": {
      "needs_background": "light"
     },
     "output_type": "display_data"
    }
   ],
   "source": [
    "corr_with_target = dftr[FEATURE_NAMES + [TARGET_NAME]].corr().iloc[:-1, -1].sort_values(ascending=False)\n",
    "\n",
    "plt.figure(figsize=(10, 8))\n",
    "\n",
    "sns.barplot(x=corr_with_target.values, y=corr_with_target.index)\n",
    "\n",
    "plt.title('Correlation with target variable')\n",
    "plt.show()"
   ]
  },
  {
   "cell_type": "markdown",
   "id": "e985ae7b",
   "metadata": {},
   "source": [
    "### Оценка признака \"Home Ownership\" в разрезе целевой переменной:"
   ]
  },
  {
   "cell_type": "code",
   "execution_count": 72,
   "id": "dfe648fc",
   "metadata": {},
   "outputs": [
    {
     "data": {
      "image/png": "[encoded data removed]",
      "text/plain": [
       "<Figure size 720x576 with 1 Axes>"
      ]
     },
     "metadata": {
      "needs_background": "light"
     },
     "output_type": "display_data"
    }
   ],
   "source": [
    "plt.figure(figsize=(10, 8))\n",
    "\n",
    "sns.countplot(x=\"Home Ownership\", hue=TARGET_NAME, data=dftr)\n",
    "plt.title('Home Ownership grouped by target variable')\n",
    "plt.legend(title='Target', loc='upper right')\n",
    "\n",
    "plt.show()"
   ]
  },
  {
   "cell_type": "markdown",
   "id": "59f604dd",
   "metadata": {},
   "source": [
    "#### Наблюдение:"
   ]
  },
  {
   "cell_type": "markdown",
   "id": "b3b38b7f",
   "metadata": {},
   "source": [
    "#### Изучив получившийся график, видно, что значения 1 (Home Mortgage) и 2 (Rent) признака Home Ownership имеют схожие доли в разрезе целевой переменной. Если это действительно так, то можно будет, например, объединить их в одну категорию."
   ]
  },
  {
   "cell_type": "markdown",
   "id": "9389f6a3",
   "metadata": {},
   "source": [
    "#### Гипотеза:"
   ]
  },
  {
   "cell_type": "markdown",
   "id": "32d92098",
   "metadata": {},
   "source": [
    "* Нулевая гипотеза: ожидаемые и наблюдаемые частоты согласованы\n",
    "* Альтернативная гипотеза: отклонения в частотах выходят за рамки случайных колебаний, расхождения статистически значимы\n",
    "* Критерий: Хи-квадрат Пирсона\n",
    "* Уровень значимости: 0.05\n",
    "* Критическая область: двухсторонняя"
   ]
  },
  {
   "cell_type": "markdown",
   "id": "4ebc2e3b",
   "metadata": {},
   "source": [
    "#### Формирование выборки и расчет наблюдаемых частот:"
   ]
  },
  {
   "cell_type": "code",
   "execution_count": 73,
   "id": "f82721cd",
   "metadata": {},
   "outputs": [],
   "source": [
    "dftr['ID'] = dftr.index"
   ]
  },
  {
   "cell_type": "code",
   "execution_count": 74,
   "id": "83609899",
   "metadata": {},
   "outputs": [],
   "source": [
    "sss = dftr.loc[dftr['Home Ownership'].isin([1, 2]), ['ID', 'Home Ownership', 'Credit Default']].sample(1000, random_state=42)"
   ]
  },
  {
   "cell_type": "code",
   "execution_count": 75,
   "id": "ce71b82a",
   "metadata": {},
   "outputs": [
    {
     "data": {
      "text/html": [
       "<div>\n",
       "<style scoped>\n",
       "    .dataframe tbody tr th:only-of-type {\n",
       "        vertical-align: middle;\n",
       "    }\n",
       "\n",
       "    .dataframe tbody tr th {\n",
       "        vertical-align: top;\n",
       "    }\n",
       "\n",
       "    .dataframe thead th {\n",
       "        text-align: right;\n",
       "    }\n",
       "</style>\n",
       "<table border=\"1\" class=\"dataframe\">\n",
       "  <thead>\n",
       "    <tr style=\"text-align: right;\">\n",
       "      <th>Credit Default</th>\n",
       "      <th>0</th>\n",
       "      <th>1</th>\n",
       "    </tr>\n",
       "    <tr>\n",
       "      <th>Home Ownership</th>\n",
       "      <th></th>\n",
       "      <th></th>\n",
       "    </tr>\n",
       "  </thead>\n",
       "  <tbody>\n",
       "    <tr>\n",
       "      <th>1</th>\n",
       "      <td>410</td>\n",
       "      <td>135</td>\n",
       "    </tr>\n",
       "    <tr>\n",
       "      <th>2</th>\n",
       "      <td>308</td>\n",
       "      <td>147</td>\n",
       "    </tr>\n",
       "  </tbody>\n",
       "</table>\n",
       "</div>"
      ],
      "text/plain": [
       "Credit Default    0    1\n",
       "Home Ownership          \n",
       "1               410  135\n",
       "2               308  147"
      ]
     },
     "execution_count": 75,
     "metadata": {},
     "output_type": "execute_result"
    }
   ],
   "source": [
    "table = sss.pivot_table(values='ID', index='Home Ownership', columns='Credit Default', aggfunc='count')\n",
    "table"
   ]
  },
  {
   "cell_type": "markdown",
   "id": "be612eef",
   "metadata": {},
   "source": [
    "#### Проверка гипотезы по критерию Хи-квадрата Пирсона:"
   ]
  },
  {
   "cell_type": "code",
   "execution_count": 76,
   "id": "5a391183",
   "metadata": {},
   "outputs": [
    {
     "data": {
      "text/plain": [
       "0.008348058926751984"
      ]
     },
     "execution_count": 76,
     "metadata": {},
     "output_type": "execute_result"
    }
   ],
   "source": [
    "chi2, p, dof, expected = chi2_contingency(table, correction=False)\n",
    "p"
   ]
  },
  {
   "cell_type": "markdown",
   "id": "ad422ea7",
   "metadata": {},
   "source": [
    "#### Повторное формирование выборки и проверка гипотезы:"
   ]
  },
  {
   "cell_type": "code",
   "execution_count": 77,
   "id": "43f6d3a9",
   "metadata": {},
   "outputs": [
    {
     "data": {
      "text/html": [
       "<div>\n",
       "<style scoped>\n",
       "    .dataframe tbody tr th:only-of-type {\n",
       "        vertical-align: middle;\n",
       "    }\n",
       "\n",
       "    .dataframe tbody tr th {\n",
       "        vertical-align: top;\n",
       "    }\n",
       "\n",
       "    .dataframe thead th {\n",
       "        text-align: right;\n",
       "    }\n",
       "</style>\n",
       "<table border=\"1\" class=\"dataframe\">\n",
       "  <thead>\n",
       "    <tr style=\"text-align: right;\">\n",
       "      <th>Credit Default</th>\n",
       "      <th>0</th>\n",
       "      <th>1</th>\n",
       "    </tr>\n",
       "    <tr>\n",
       "      <th>Home Ownership</th>\n",
       "      <th></th>\n",
       "      <th></th>\n",
       "    </tr>\n",
       "  </thead>\n",
       "  <tbody>\n",
       "    <tr>\n",
       "      <th>1</th>\n",
       "      <td>401</td>\n",
       "      <td>152</td>\n",
       "    </tr>\n",
       "    <tr>\n",
       "      <th>2</th>\n",
       "      <td>307</td>\n",
       "      <td>140</td>\n",
       "    </tr>\n",
       "  </tbody>\n",
       "</table>\n",
       "</div>"
      ],
      "text/plain": [
       "Credit Default    0    1\n",
       "Home Ownership          \n",
       "1               401  152\n",
       "2               307  140"
      ]
     },
     "execution_count": 77,
     "metadata": {},
     "output_type": "execute_result"
    }
   ],
   "source": [
    "sss = dftr.loc[dftr['Home Ownership'].isin([1, 2]), ['ID', 'Home Ownership', 'Credit Default']].sample(1000, random_state=12)\n",
    "table = sss.pivot_table(values='ID', index='Home Ownership', columns='Credit Default', aggfunc='count')\n",
    "table"
   ]
  },
  {
   "cell_type": "code",
   "execution_count": 78,
   "id": "224afaa1",
   "metadata": {},
   "outputs": [
    {
     "data": {
      "text/plain": [
       "0.184984188262754"
      ]
     },
     "execution_count": 78,
     "metadata": {},
     "output_type": "execute_result"
    }
   ],
   "source": [
    "chi2, p, dof, expected = chi2_contingency(table, correction=False)\n",
    "p"
   ]
  },
  {
   "cell_type": "code",
   "execution_count": 79,
   "id": "3c653cf1",
   "metadata": {},
   "outputs": [],
   "source": [
    "dftr.drop(['ID'], axis = 1, inplace = True)"
   ]
  },
  {
   "cell_type": "markdown",
   "id": "8b0bb486",
   "metadata": {},
   "source": [
    "#### В результате двух проверок гипотезы, в первом случае P-value получилось меньше выбранного уровня значимости, а во втором больше, что не позволяет нам однозначно сказать одинаково или нет категории Home Mortgage и Rent влияют на целевую переменную и стоит ли их объединять."
   ]
  },
  {
   "cell_type": "markdown",
   "id": "e73610c6",
   "metadata": {},
   "source": [
    "### Оценка признака \"Current Loan Amount\" в разрезе целевой переменной:"
   ]
  },
  {
   "cell_type": "code",
   "execution_count": 80,
   "id": "8d79d696",
   "metadata": {},
   "outputs": [
    {
     "data": {
      "image/png": "[encoded data removed]",
      "text/plain": [
       "<Figure size 720x360 with 1 Axes>"
      ]
     },
     "metadata": {
      "needs_background": "light"
     },
     "output_type": "display_data"
    }
   ],
   "source": [
    "CLA_with_target_s = dftr[['Current Loan Amount', TARGET_NAME]].sample(1000)\n",
    "CLA_s = CLA_with_target_s['Current Loan Amount']\n",
    "CLA_target_0 = CLA_s[CLA_with_target_s[TARGET_NAME] == 0]\n",
    "CLA_target_1 = CLA_s[CLA_with_target_s[TARGET_NAME] == 1]\n",
    "\n",
    "plt.figure(figsize=(10, 5))\n",
    "\n",
    "sns.kdeplot(CLA_target_0, shade=True, label='No default', color='b')\n",
    "sns.kdeplot(CLA_target_1, shade=True, label='Default', color='r')\n",
    "\n",
    "plt.xlabel('Current Loan Amount')\n",
    "plt.title('Current Loan Amount grouped by target variable')\n",
    "plt.show()"
   ]
  },
  {
   "cell_type": "markdown",
   "id": "ebf69b57",
   "metadata": {},
   "source": [
    "#### Наблюдение:"
   ]
  },
  {
   "cell_type": "markdown",
   "id": "424ff4da",
   "metadata": {},
   "source": [
    "#### Две группы, полученные в результате разбиения признака \"Current Loan Amount\" по целевой переменной, вероятно имеют различные распределения. Между признаком \"Current Loan Amount\" и целевой переменной, возможно, существует некоторая функциональная зависимость."
   ]
  },
  {
   "cell_type": "markdown",
   "id": "4fff129a",
   "metadata": {},
   "source": [
    "#### Гипотеза:"
   ]
  },
  {
   "cell_type": "markdown",
   "id": "c0abb7f9",
   "metadata": {},
   "source": [
    "* Нулевая гипотеза: средние значения в двух независимых выборках равны\n",
    "* Альтернативная гипотеза: средние значения в двух независимых выборках различаются\n",
    "* Критерий: критерий Стьюдента (t-тест) и его аналоги\n",
    "* Уровень значимости: 0.05\n",
    "* Критическая область: двухсторонняя"
   ]
  },
  {
   "cell_type": "code",
   "execution_count": 81,
   "id": "8a5059be",
   "metadata": {},
   "outputs": [
    {
     "data": {
      "text/plain": [
       "ShapiroResult(statistic=0.9136602282524109, pvalue=2.100043024095684e-23)"
      ]
     },
     "execution_count": 81,
     "metadata": {},
     "output_type": "execute_result"
    }
   ],
   "source": [
    "shapiro(CLA_s)"
   ]
  },
  {
   "cell_type": "markdown",
   "id": "07b442a3",
   "metadata": {},
   "source": [
    "#### Гипотеза о нормальности распределения отвергается, т.к. pvalue <<< уровня значимости."
   ]
  },
  {
   "cell_type": "markdown",
   "id": "369c862d",
   "metadata": {},
   "source": [
    "#### Визуальная оценка распределения признака и QQ-график:"
   ]
  },
  {
   "cell_type": "code",
   "execution_count": 82,
   "id": "67c1c08b",
   "metadata": {},
   "outputs": [
    {
     "data": {
      "image/png": "[encoded data removed]",
      "text/plain": [
       "<Figure size 1440x576 with 2 Axes>"
      ]
     },
     "metadata": {
      "needs_background": "light"
     },
     "output_type": "display_data"
    }
   ],
   "source": [
    "plt.figure(figsize=(20, 8))\n",
    "\n",
    "ax1 = plt.subplot(121)\n",
    "ax1.set_xlabel('Current Loan Amount')\n",
    "ax1.set_ylabel('Count')\n",
    "ax1.set_title('Current Loan Amount distribution')\n",
    "CLA_s.hist()\n",
    "\n",
    "plt.subplot(122)\n",
    "probplot(CLA_s, dist='norm', plot=plt)\n",
    "\n",
    "plt.show()"
   ]
  },
  {
   "cell_type": "markdown",
   "id": "e84f1873",
   "metadata": {},
   "source": [
    "#### По графикам видно явное отличное от нормального распределение признака. В связи с этим мы не можем использовать критерий Стьюдента. Поэтому используем критерий Манна-Уитни, не требовательный к нормальному распределению."
   ]
  },
  {
   "cell_type": "code",
   "execution_count": 83,
   "id": "4fd52a53",
   "metadata": {},
   "outputs": [
    {
     "data": {
      "text/plain": [
       "MannwhitneyuResult(statistic=74158.5, pvalue=5.42969989393748e-15)"
      ]
     },
     "execution_count": 83,
     "metadata": {},
     "output_type": "execute_result"
    }
   ],
   "source": [
    "mannwhitneyu(CLA_target_0, CLA_target_1)"
   ]
  },
  {
   "cell_type": "markdown",
   "id": "cfd6b3e0",
   "metadata": {},
   "source": [
    "#### В связи с тем, что pvalue <<< уровня значимости, нулевая гипотеза отвергается."
   ]
  },
  {
   "cell_type": "markdown",
   "id": "48e35f11",
   "metadata": {},
   "source": [
    "#### Построение доверительных интервалов для средних значений, каждой из двух групп признака Current Loan Amount:"
   ]
  },
  {
   "cell_type": "code",
   "execution_count": 84,
   "id": "ecf23fcb",
   "metadata": {},
   "outputs": [
    {
     "data": {
      "image/png": "[encoded data removed]",
      "text/plain": [
       "<Figure size 576x360 with 1 Axes>"
      ]
     },
     "metadata": {
      "needs_background": "light"
     },
     "output_type": "display_data"
    }
   ],
   "source": [
    "plt.figure(figsize=(8, 5))\n",
    "sns.pointplot(x=TARGET_NAME, y='Current Loan Amount', data=CLA_with_target_s, capsize=.1)\n",
    "plt.title('Confidence intervals (95 %) for Current Loan Amount')\n",
    "plt.show()"
   ]
  },
  {
   "cell_type": "markdown",
   "id": "b2d89f8b",
   "metadata": {},
   "source": [
    "#### График показывает, что интервалы, в которых с 95% вероятностью должны находиться средние значения двух групп признака Current Loan Amount, не пересекаются, что подтверждает показатели критерия Манна-Уитни, и говорит, что группы из которых взяты данные выборки, с допускаемой нами вероятностью (95%), имеют различные распределения и признак Current Loan Amount может быть полезен для определения значения целевой переменной."
   ]
  },
  {
   "cell_type": "markdown",
   "id": "c3172981",
   "metadata": {},
   "source": [
    "### Анализ распределения нецелевых признаков:"
   ]
  },
  {
   "cell_type": "code",
   "execution_count": 85,
   "id": "48581b7c",
   "metadata": {},
   "outputs": [
    {
     "data": {
      "image/png": "[encoded data removed]",
      "text/plain": [
       "<Figure size 1152x1152 with 16 Axes>"
      ]
     },
     "metadata": {
      "needs_background": "light"
     },
     "output_type": "display_data"
    }
   ],
   "source": [
    "dftr.hist(figsize=(16,16), bins=30, grid=False);"
   ]
  },
  {
   "cell_type": "code",
   "execution_count": 86,
   "id": "8b78cbea",
   "metadata": {},
   "outputs": [
    {
     "data": {
      "image/png": "[encoded data removed]",
      "text/plain": [
       "<Figure size 1152x1152 with 16 Axes>"
      ]
     },
     "metadata": {
      "needs_background": "light"
     },
     "output_type": "display_data"
    }
   ],
   "source": [
    "dftst.hist(figsize=(16,16), bins=30, grid=False);"
   ]
  },
  {
   "cell_type": "markdown",
   "id": "d3cbb9c7",
   "metadata": {},
   "source": [
    "#### При анализе распределения нецелевых признаков видно, что из-за обработки выбросов и пропусков была нарушена плавность распределения некоторых признаков."
   ]
  },
  {
   "cell_type": "markdown",
   "id": "018213a2",
   "metadata": {},
   "source": [
    "### Матрица корреляций:"
   ]
  },
  {
   "cell_type": "code",
   "execution_count": 87,
   "id": "b7d2a6bc",
   "metadata": {},
   "outputs": [
    {
     "data": {
      "image/png": "[encoded data removed]",
      "text/plain": [
       "<Figure size 1296x720 with 2 Axes>"
      ]
     },
     "metadata": {
      "needs_background": "light"
     },
     "output_type": "display_data"
    }
   ],
   "source": [
    "plt.figure(figsize = (18,10))\n",
    "\n",
    "sns.set(font_scale=1.4)\n",
    "\n",
    "corr_matrix = dftr[FEATURE_NAMES].corr()\n",
    "corr_matrix = np.round(corr_matrix, 2)\n",
    "corr_matrix[np.abs(corr_matrix) < 0.3] = 0\n",
    "\n",
    "sns.heatmap(corr_matrix, annot=True, linewidths=.5, cmap='nipy_spectral')\n",
    "\n",
    "plt.title('Correlation matrix')\n",
    "plt.show()"
   ]
  },
  {
   "cell_type": "markdown",
   "id": "d22f4927",
   "metadata": {},
   "source": [
    "#### Признак Bankruptcies сильно коррелирован с признаком Number of Credit Problems, что создает проблему мультиколлинеарности. И т.к. признак Bankruptcies показал корреляцию с целевым признаком меньшую, чем Number of Credit Problems, принято решение удалить из датасета именно его."
   ]
  },
  {
   "cell_type": "code",
   "execution_count": 88,
   "id": "0c3b62ab",
   "metadata": {},
   "outputs": [],
   "source": [
    "dftr.drop('Bankruptcies', axis=1, inplace=True)\n",
    "dftst.drop('Bankruptcies', axis=1, inplace=True)"
   ]
  },
  {
   "cell_type": "markdown",
   "id": "2ac7118b",
   "metadata": {},
   "source": [
    "### Отобор признаков."
   ]
  },
  {
   "cell_type": "markdown",
   "id": "10b111e6",
   "metadata": {},
   "source": [
    "#### Не имеющие практической пользы признаки были ранее удалены. Оставшиеся признаки разбиваются на числовые и категориальные."
   ]
  },
  {
   "cell_type": "code",
   "execution_count": 89,
   "id": "d9928da0",
   "metadata": {},
   "outputs": [],
   "source": [
    "NUM_FEATURE_NAMES = ['Annual Income', 'Maximum Open Credit', 'Months since last delinquent', 'Current Loan Amount',\n",
    "                    'Current Credit Balance', 'Monthly Debt', 'Credit Score']\n",
    "\n",
    "CAT_FEATURE_NAMES = ['Home Ownership', 'Years in current job', 'Purpose', 'Term', 'Number of Open Accounts', \n",
    "                     'Years of Credit History', 'Number of Credit Problems']\n",
    "\n",
    "FEATURE_NAMES = NUM_FEATURE_NAMES + CAT_FEATURE_NAMES"
   ]
  },
  {
   "cell_type": "markdown",
   "id": "ea9d2139",
   "metadata": {},
   "source": [
    "### Нормализация данных."
   ]
  },
  {
   "cell_type": "code",
   "execution_count": 90,
   "id": "861a589d",
   "metadata": {},
   "outputs": [],
   "source": [
    "scaler = StandardScaler()\n",
    "dftr[NUM_FEATURE_NAMES] = scaler.fit_transform(dftr[NUM_FEATURE_NAMES])\n",
    "dftst[NUM_FEATURE_NAMES] = scaler.fit_transform(dftst[NUM_FEATURE_NAMES])"
   ]
  },
  {
   "cell_type": "markdown",
   "id": "3fd09fbd",
   "metadata": {},
   "source": [
    "#### После нормализации все данные автоматически приводятся к одному типу - float64."
   ]
  },
  {
   "cell_type": "markdown",
   "id": "816f2bd4",
   "metadata": {},
   "source": [
    "### Разбиение датасета."
   ]
  },
  {
   "cell_type": "code",
   "execution_count": 91,
   "id": "7e046af1",
   "metadata": {},
   "outputs": [],
   "source": [
    "X = dftr[FEATURE_NAMES]\n",
    "y = dftr[TARGET_NAME]\n",
    "Test = dftst\n",
    "\n",
    "X_train, X_test, y_train, y_test = train_test_split(X, y, test_size=0.30, shuffle=True, random_state=21)"
   ]
  },
  {
   "cell_type": "markdown",
   "id": "53acf426",
   "metadata": {},
   "source": [
    "### Балансировка целевой переменной."
   ]
  },
  {
   "cell_type": "code",
   "execution_count": 92,
   "id": "0092365c",
   "metadata": {},
   "outputs": [
    {
     "data": {
      "text/plain": [
       "0    3771\n",
       "1    2958\n",
       "Name: Credit Default, dtype: int64"
      ]
     },
     "execution_count": 92,
     "metadata": {},
     "output_type": "execute_result"
    }
   ],
   "source": [
    "df_for_balancing = pd.concat([X_train, y_train], axis=1)\n",
    "df_balanced = balance_df_by_target(df_for_balancing, TARGET_NAME)\n",
    "    \n",
    "df_balanced[TARGET_NAME].value_counts()"
   ]
  },
  {
   "cell_type": "markdown",
   "id": "ef029c86",
   "metadata": {},
   "source": [
    "#### Алгоритм балансировки на выходе дал 6729 строк для обоих классов целевой переменной, хотя на вход подавалось 5250."
   ]
  },
  {
   "cell_type": "code",
   "execution_count": 93,
   "id": "0bacb109",
   "metadata": {},
   "outputs": [],
   "source": [
    "X_train = df_balanced.drop(columns=TARGET_NAME)\n",
    "y_train = df_balanced[TARGET_NAME]"
   ]
  },
  {
   "cell_type": "markdown",
   "id": "2370ca01",
   "metadata": {},
   "source": [
    "### Построение и оценка базовых моделей."
   ]
  },
  {
   "cell_type": "markdown",
   "id": "873c2801",
   "metadata": {},
   "source": [
    "#### CatBoost."
   ]
  },
  {
   "cell_type": "markdown",
   "id": "90828655",
   "metadata": {},
   "source": [
    "#### Приведение типов для модели CatBoost:"
   ]
  },
  {
   "cell_type": "markdown",
   "id": "29057a73",
   "metadata": {},
   "source": [
    "#### При сравнении результатов работы модели CatBoost при приведенных к типу Category данных и неприведенных, наилучший показатель был при неприведенных данных. Данные решено было не приводить к типу Category."
   ]
  },
  {
   "cell_type": "markdown",
   "id": "587bcc8a",
   "metadata": {},
   "source": [
    "#### Построение CatBoost:"
   ]
  },
  {
   "cell_type": "code",
   "execution_count": 94,
   "id": "9bfaafcc",
   "metadata": {},
   "outputs": [
    {
     "name": "stdout",
     "output_type": "stream",
     "text": [
      "TRAIN\n",
      "\n",
      "              precision    recall  f1-score   support\n",
      "\n",
      "           0       0.90      0.91      0.90      3771\n",
      "           1       0.88      0.86      0.87      2958\n",
      "\n",
      "    accuracy                           0.89      6729\n",
      "   macro avg       0.89      0.89      0.89      6729\n",
      "weighted avg       0.89      0.89      0.89      6729\n",
      "\n",
      "TEST\n",
      "\n",
      "              precision    recall  f1-score   support\n",
      "\n",
      "           0       0.79      0.76      0.78      1616\n",
      "           1       0.44      0.47      0.46       634\n",
      "\n",
      "    accuracy                           0.68      2250\n",
      "   macro avg       0.61      0.62      0.62      2250\n",
      "weighted avg       0.69      0.68      0.69      2250\n",
      "\n",
      "CONFUSION MATRIX\n",
      "\n",
      "col_0              0    1\n",
      "Credit Default           \n",
      "0               1235  381\n",
      "1                333  301\n"
     ]
    }
   ],
   "source": [
    "model_catb = catb.CatBoostClassifier(silent=True, random_state=21)\n",
    "model_catb.fit(X_train, y_train)\n",
    "\n",
    "y_train_pred = model_catb.predict(X_train)\n",
    "y_test_pred = model_catb.predict(X_test)\n",
    "\n",
    "get_classification_report(y_train, y_train_pred, y_test, y_test_pred)"
   ]
  },
  {
   "cell_type": "markdown",
   "id": "dc0c4cf0",
   "metadata": {},
   "source": [
    "### Подбор гиперпараметров."
   ]
  },
  {
   "cell_type": "code",
   "execution_count": 95,
   "id": "6ae23812",
   "metadata": {},
   "outputs": [],
   "source": [
    "model_catb = catb.CatBoostClassifier(class_weights=[1, 4], silent=True, random_state=21)"
   ]
  },
  {
   "cell_type": "code",
   "execution_count": 96,
   "id": "8c18cd5e",
   "metadata": {},
   "outputs": [],
   "source": [
    "params = {'n_estimators':[50, 100, 200, 500, 700, 1000, 1200, 1500],\n",
    "          'max_depth':[2, 3, 5, 7]}"
   ]
  },
  {
   "cell_type": "code",
   "execution_count": 97,
   "id": "19be16df",
   "metadata": {},
   "outputs": [],
   "source": [
    "cv=KFold(n_splits=3, random_state=21, shuffle=True)"
   ]
  },
  {
   "cell_type": "code",
   "execution_count": 98,
   "id": "19388276",
   "metadata": {},
   "outputs": [
    {
     "name": "stdout",
     "output_type": "stream",
     "text": [
      "Wall time: 23 s\n"
     ]
    },
    {
     "data": {
      "text/plain": [
       "RandomizedSearchCV(cv=KFold(n_splits=3, random_state=21, shuffle=True),\n",
       "                   estimator=<catboost.core.CatBoostClassifier object at 0x00000202343FC1C0>,\n",
       "                   n_jobs=-1,\n",
       "                   param_distributions={'max_depth': [2, 3, 5, 7],\n",
       "                                        'n_estimators': [50, 100, 200, 500, 700,\n",
       "                                                         1000, 1200, 1500]},\n",
       "                   scoring='f1')"
      ]
     },
     "execution_count": 98,
     "metadata": {},
     "output_type": "execute_result"
    }
   ],
   "source": [
    "%%time\n",
    "\n",
    "rs = RandomizedSearchCV(model_catb, params, scoring='f1', cv=cv, n_jobs=-1)\n",
    "rs.fit(X, y)"
   ]
  },
  {
   "cell_type": "code",
   "execution_count": 99,
   "id": "33d4353f",
   "metadata": {},
   "outputs": [
    {
     "data": {
      "text/plain": [
       "{'n_estimators': 200, 'max_depth': 5}"
      ]
     },
     "execution_count": 99,
     "metadata": {},
     "output_type": "execute_result"
    }
   ],
   "source": [
    "rs.best_params_"
   ]
  },
  {
   "cell_type": "code",
   "execution_count": 100,
   "id": "c9ac3c0b",
   "metadata": {},
   "outputs": [
    {
     "data": {
      "text/plain": [
       "0.5114026514356637"
      ]
     },
     "execution_count": 100,
     "metadata": {},
     "output_type": "execute_result"
    }
   ],
   "source": [
    "rs.best_score_"
   ]
  },
  {
   "cell_type": "markdown",
   "id": "da27cf92",
   "metadata": {},
   "source": [
    "### Обучение и оценка финальной модели:"
   ]
  },
  {
   "cell_type": "markdown",
   "id": "222d7b41",
   "metadata": {},
   "source": [
    "#### Автоматический подбор гиперпараметров показал худший результат, чем ручная настройка. Для устранения переобучения добавляем регуляризацию."
   ]
  },
  {
   "cell_type": "code",
   "execution_count": 101,
   "id": "c6f2d6f6",
   "metadata": {},
   "outputs": [
    {
     "name": "stdout",
     "output_type": "stream",
     "text": [
      "TRAIN\n",
      "\n",
      "              precision    recall  f1-score   support\n",
      "\n",
      "           0       0.72      0.76      0.74      3771\n",
      "           1       0.68      0.63      0.65      2958\n",
      "\n",
      "    accuracy                           0.71      6729\n",
      "   macro avg       0.70      0.70      0.70      6729\n",
      "weighted avg       0.70      0.71      0.70      6729\n",
      "\n",
      "TEST\n",
      "\n",
      "              precision    recall  f1-score   support\n",
      "\n",
      "           0       0.81      0.72      0.76      1616\n",
      "           1       0.44      0.57      0.50       634\n",
      "\n",
      "    accuracy                           0.68      2250\n",
      "   macro avg       0.63      0.64      0.63      2250\n",
      "weighted avg       0.71      0.68      0.69      2250\n",
      "\n",
      "CONFUSION MATRIX\n",
      "\n",
      "col_0              0    1\n",
      "Credit Default           \n",
      "0               1160  456\n",
      "1                272  362\n",
      "Wall time: 2.2 s\n"
     ]
    }
   ],
   "source": [
    "%%time\n",
    "\n",
    "final_model = catb.CatBoostClassifier(n_estimators=1000, max_depth=2,\n",
    "                                      l2_leaf_reg=2,\n",
    "                                      silent=True, random_state=21)\n",
    "final_model.fit(X_train, y_train)\n",
    "\n",
    "y_train_pred = final_model.predict(X_train)\n",
    "y_test_pred = final_model.predict(X_test)\n",
    "\n",
    "\n",
    "get_classification_report(y_train, y_train_pred, y_test, y_test_pred)"
   ]
  },
  {
   "cell_type": "markdown",
   "id": "8cf71f29",
   "metadata": {},
   "source": [
    "#### Рейтинг признаков:"
   ]
  },
  {
   "cell_type": "code",
   "execution_count": 102,
   "id": "1be28900",
   "metadata": {},
   "outputs": [
    {
     "data": {
      "image/png": "[encoded data removed]",
      "text/plain": [
       "<Figure size 1440x357.84 with 1 Axes>"
      ]
     },
     "metadata": {},
     "output_type": "display_data"
    }
   ],
   "source": [
    "important_features_top = show_feature_importances(X_train.columns, final_model.feature_importances_, get_top=20)"
   ]
  },
  {
   "cell_type": "code",
   "execution_count": 103,
   "id": "3e615e7e",
   "metadata": {},
   "outputs": [
    {
     "data": {
      "text/plain": [
       "['Current Loan Amount',\n",
       " 'Annual Income',\n",
       " 'Credit Score',\n",
       " 'Maximum Open Credit',\n",
       " 'Term',\n",
       " 'Monthly Debt',\n",
       " 'Current Credit Balance',\n",
       " 'Number of Open Accounts',\n",
       " 'Years of Credit History',\n",
       " 'Home Ownership',\n",
       " 'Purpose',\n",
       " 'Months since last delinquent',\n",
       " 'Number of Credit Problems',\n",
       " 'Years in current job']"
      ]
     },
     "execution_count": 103,
     "metadata": {},
     "output_type": "execute_result"
    }
   ],
   "source": [
    "important_features_top"
   ]
  },
  {
   "cell_type": "markdown",
   "id": "f2811b45",
   "metadata": {},
   "source": [
    "### Финальная модель с учетом рейтинга признаков:"
   ]
  },
  {
   "cell_type": "code",
   "execution_count": 104,
   "id": "39434838",
   "metadata": {},
   "outputs": [
    {
     "name": "stdout",
     "output_type": "stream",
     "text": [
      "TRAIN\n",
      "\n",
      "              precision    recall  f1-score   support\n",
      "\n",
      "           0       0.72      0.76      0.74      3771\n",
      "           1       0.68      0.63      0.65      2958\n",
      "\n",
      "    accuracy                           0.71      6729\n",
      "   macro avg       0.70      0.70      0.70      6729\n",
      "weighted avg       0.70      0.71      0.70      6729\n",
      "\n",
      "TEST\n",
      "\n",
      "              precision    recall  f1-score   support\n",
      "\n",
      "           0       0.81      0.71      0.76      1616\n",
      "           1       0.44      0.57      0.50       634\n",
      "\n",
      "    accuracy                           0.67      2250\n",
      "   macro avg       0.62      0.64      0.63      2250\n",
      "weighted avg       0.70      0.67      0.68      2250\n",
      "\n",
      "CONFUSION MATRIX\n",
      "\n",
      "col_0              0    1\n",
      "Credit Default           \n",
      "0               1151  465\n",
      "1                272  362\n",
      "Wall time: 2.07 s\n"
     ]
    }
   ],
   "source": [
    "%%time\n",
    "\n",
    "final_model = catb.CatBoostClassifier(n_estimators=1000, max_depth=2,\n",
    "                                      l2_leaf_reg=2,\n",
    "                                      silent=True, random_state=21)\n",
    "final_model.fit(X_train[important_features_top], y_train)\n",
    "\n",
    "y_train_pred = final_model.predict(X_train)\n",
    "y_test_pred = final_model.predict(X_test)\n",
    "\n",
    "\n",
    "get_classification_report(y_train, y_train_pred, y_test, y_test_pred)"
   ]
  },
  {
   "cell_type": "markdown",
   "id": "fe4756f0",
   "metadata": {},
   "source": [
    "### Предсказание по тестовому датасету и запись результатов в файл:"
   ]
  },
  {
   "cell_type": "code",
   "execution_count": 105,
   "id": "51735d7b",
   "metadata": {},
   "outputs": [],
   "source": [
    "Credit = final_model.predict(Test)"
   ]
  },
  {
   "cell_type": "code",
   "execution_count": 106,
   "id": "289ff953",
   "metadata": {},
   "outputs": [
    {
     "data": {
      "text/plain": [
       "(2500,)"
      ]
     },
     "execution_count": 106,
     "metadata": {},
     "output_type": "execute_result"
    }
   ],
   "source": [
    "Credit.shape"
   ]
  },
  {
   "cell_type": "code",
   "execution_count": 107,
   "id": "d51fa702",
   "metadata": {},
   "outputs": [
    {
     "name": "stdout",
     "output_type": "stream",
     "text": [
      "[0 1] [1658  842]\n"
     ]
    }
   ],
   "source": [
    "unique, counts = np.unique(Credit, return_counts=True)\n",
    "print(unique , counts)"
   ]
  },
  {
   "cell_type": "code",
   "execution_count": 108,
   "id": "92d55f36",
   "metadata": {},
   "outputs": [],
   "source": [
    "pred_df = pd.DataFrame()\n",
    "pred_df[\"Credit\"] = Credit\n",
    "pred_df.to_csv(\"./predictions_GB_2.csv\", header=False, index=False)"
   ]
  }
 ],
 "metadata": {
  "kernelspec": {
   "display_name": "Python 3",
   "language": "python",
   "name": "python3"
  },
  "language_info": {
   "codemirror_mode": {
    "name": "ipython",
    "version": 3
   },
   "file_extension": ".py",
   "mimetype": "text/x-python",
   "name": "python",
   "nbconvert_exporter": "python",
   "pygments_lexer": "ipython3",
   "version": "3.8.8"
  }
 },
 "nbformat": 4,
 "nbformat_minor": 5
}
