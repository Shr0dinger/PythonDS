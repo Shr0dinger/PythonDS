{
 "cells": [
  {
   "cell_type": "code",
   "execution_count": 486,
   "id": "2dad3a13",
   "metadata": {},
   "outputs": [],
   "source": [
    "import numpy as np"
   ]
  },
  {
   "cell_type": "code",
   "execution_count": 487,
   "id": "d424d2f4",
   "metadata": {},
   "outputs": [
    {
     "name": "stdout",
     "output_type": "stream",
     "text": [
      "[12 13 14 15 16 17 18 19 20 21 22 23]\n"
     ]
    }
   ],
   "source": [
    "a = np.arange(12, 24)\n",
    "print(a)"
   ]
  },
  {
   "cell_type": "code",
   "execution_count": 488,
   "id": "9af0e56b",
   "metadata": {},
   "outputs": [
    {
     "name": "stdout",
     "output_type": "stream",
     "text": [
      "[[12 13 14 15 16 17]\n",
      " [18 19 20 21 22 23]]\n"
     ]
    }
   ],
   "source": [
    "aa = a.reshape(2,6)\n",
    "print(aa)"
   ]
  },
  {
   "cell_type": "code",
   "execution_count": 489,
   "id": "9a789acb",
   "metadata": {},
   "outputs": [
    {
     "name": "stdout",
     "output_type": "stream",
     "text": [
      "[[12 13 14 15]\n",
      " [16 17 18 19]\n",
      " [20 21 22 23]]\n"
     ]
    }
   ],
   "source": [
    "aa = a.reshape(3,4)\n",
    "print(aa)"
   ]
  },
  {
   "cell_type": "code",
   "execution_count": 490,
   "id": "519f7627",
   "metadata": {},
   "outputs": [
    {
     "name": "stdout",
     "output_type": "stream",
     "text": [
      "[[12 13 14]\n",
      " [15 16 17]\n",
      " [18 19 20]\n",
      " [21 22 23]]\n"
     ]
    }
   ],
   "source": [
    "aa = a.reshape(4,3)\n",
    "print(aa)"
   ]
  },
  {
   "cell_type": "code",
   "execution_count": 491,
   "id": "bfd6a69d",
   "metadata": {},
   "outputs": [
    {
     "name": "stdout",
     "output_type": "stream",
     "text": [
      "[[12 13]\n",
      " [14 15]\n",
      " [16 17]\n",
      " [18 19]\n",
      " [20 21]\n",
      " [22 23]]\n"
     ]
    }
   ],
   "source": [
    "aa = a.reshape(6,2)\n",
    "print(aa)"
   ]
  },
  {
   "cell_type": "code",
   "execution_count": 492,
   "id": "907a5fdd",
   "metadata": {},
   "outputs": [
    {
     "name": "stdout",
     "output_type": "stream",
     "text": [
      "[[12]\n",
      " [13]\n",
      " [14]\n",
      " [15]\n",
      " [16]\n",
      " [17]\n",
      " [18]\n",
      " [19]\n",
      " [20]\n",
      " [21]\n",
      " [22]\n",
      " [23]]\n"
     ]
    }
   ],
   "source": [
    "aa = a.reshape(12,1)\n",
    "print(aa)"
   ]
  },
  {
   "cell_type": "code",
   "execution_count": 493,
   "id": "c0312993",
   "metadata": {},
   "outputs": [
    {
     "name": "stdout",
     "output_type": "stream",
     "text": [
      "[[12 13 14 15 16 17]\n",
      " [18 19 20 21 22 23]]\n"
     ]
    }
   ],
   "source": [
    "aa = a.reshape(-1,6)\n",
    "print(aa)"
   ]
  },
  {
   "cell_type": "code",
   "execution_count": 494,
   "id": "9cfe2edd",
   "metadata": {},
   "outputs": [
    {
     "name": "stdout",
     "output_type": "stream",
     "text": [
      "[[12 13 14]\n",
      " [15 16 17]\n",
      " [18 19 20]\n",
      " [21 22 23]]\n"
     ]
    }
   ],
   "source": [
    "aa = a.reshape(-1,3)\n",
    "print(aa)"
   ]
  },
  {
   "cell_type": "code",
   "execution_count": 495,
   "id": "6ded10aa",
   "metadata": {},
   "outputs": [
    {
     "name": "stdout",
     "output_type": "stream",
     "text": [
      "[[12]\n",
      " [13]\n",
      " [14]\n",
      " [15]\n",
      " [16]\n",
      " [17]\n",
      " [18]\n",
      " [19]\n",
      " [20]\n",
      " [21]\n",
      " [22]\n",
      " [23]]\n"
     ]
    }
   ],
   "source": [
    "aa = a.reshape(12,-1)\n",
    "print(aa)"
   ]
  },
  {
   "cell_type": "code",
   "execution_count": 496,
   "id": "5a14ac2d",
   "metadata": {},
   "outputs": [
    {
     "name": "stdout",
     "output_type": "stream",
     "text": [
      "[[12 13 14]\n",
      " [15 16 17]\n",
      " [18 19 20]\n",
      " [21 22 23]]\n"
     ]
    }
   ],
   "source": [
    "aa = a.reshape(4,-1)\n",
    "print(aa)"
   ]
  },
  {
   "cell_type": "code",
   "execution_count": 497,
   "id": "1b524ec9",
   "metadata": {},
   "outputs": [
    {
     "name": "stdout",
     "output_type": "stream",
     "text": [
      "[[12 13]\n",
      " [14 15]\n",
      " [16 17]\n",
      " [18 19]\n",
      " [20 21]\n",
      " [22 23]]\n"
     ]
    }
   ],
   "source": [
    "aa = a.reshape(6,-1)\n",
    "print(aa)"
   ]
  },
  {
   "cell_type": "markdown",
   "id": "daf9d714",
   "metadata": {},
   "source": [
    "### Массив Numpy, состоящий из одного столбца и 12 строк нельзя  назвать одномерным, потому что у одномерного массива может быть только одна строка."
   ]
  },
  {
   "cell_type": "code",
   "execution_count": 498,
   "id": "5d09127d",
   "metadata": {},
   "outputs": [
    {
     "name": "stdout",
     "output_type": "stream",
     "text": [
      "12\n",
      "(3, 4)\n",
      "[[ 0.81363846  0.95168264 -1.02251819 -0.04187409]\n",
      " [-0.70158795  2.18128792  1.03482808 -0.49354599]\n",
      " [-0.01395411 -0.45548527  0.29257232 -1.25854745]]\n",
      "12\n",
      "(12,)\n",
      "[ 0.81363846  0.95168264 -1.02251819 -0.04187409 -0.70158795  2.18128792\n",
      "  1.03482808 -0.49354599 -0.01395411 -0.45548527  0.29257232 -1.25854745]\n"
     ]
    }
   ],
   "source": [
    "a = np.random.randn(3, 4)\n",
    "print(a.size)\n",
    "print(a.shape)\n",
    "print(a)\n",
    "b = a.flatten()\n",
    "print(b.size)\n",
    "print(b.shape)\n",
    "print(b)"
   ]
  },
  {
   "cell_type": "code",
   "execution_count": 499,
   "id": "bde27a25",
   "metadata": {},
   "outputs": [
    {
     "name": "stdout",
     "output_type": "stream",
     "text": [
      "[20 18 16 14 12 10  8  6  4  2]\n"
     ]
    }
   ],
   "source": [
    "a = np.arange(20, 0, -2)\n",
    "print(a)"
   ]
  },
  {
   "cell_type": "code",
   "execution_count": 500,
   "id": "f4619746",
   "metadata": {},
   "outputs": [
    {
     "name": "stdout",
     "output_type": "stream",
     "text": [
      "[[19]\n",
      " [17]\n",
      " [15]\n",
      " [13]\n",
      " [11]\n",
      " [ 9]\n",
      " [ 7]\n",
      " [ 5]\n",
      " [ 3]\n",
      " [ 1]]\n"
     ]
    }
   ],
   "source": [
    "b = np.arange(19, 0, -2).reshape(10,1)\n",
    "print(b)"
   ]
  },
  {
   "cell_type": "markdown",
   "id": "fdc37a41",
   "metadata": {},
   "source": [
    "### Разница между массивами a и b в том, что a - одномерный массив, а b - нет."
   ]
  },
  {
   "cell_type": "code",
   "execution_count": 501,
   "id": "2c2f4923",
   "metadata": {},
   "outputs": [
    {
     "name": "stdout",
     "output_type": "stream",
     "text": [
      "[[0. 0.]\n",
      " [0. 0.]]\n",
      "[[1. 1.]\n",
      " [1. 1.]\n",
      " [1. 1.]]\n",
      "-------------------------\n",
      "[[0. 0.]\n",
      " [0. 0.]\n",
      " [1. 1.]\n",
      " [1. 1.]\n",
      " [1. 1.]]\n",
      "10\n"
     ]
    }
   ],
   "source": [
    "a = np.zeros((2, 2))\n",
    "b = np.ones((3, 2))\n",
    "print(a)\n",
    "print(b)\n",
    "v = np.vstack((a, b))\n",
    "print('-'*25)\n",
    "print(v)\n",
    "print(v.size)"
   ]
  },
  {
   "cell_type": "code",
   "execution_count": 502,
   "id": "d9ac2cf9",
   "metadata": {},
   "outputs": [
    {
     "name": "stdout",
     "output_type": "stream",
     "text": [
      "[ 1  2  3  4  5  6  7  8  9 10 11 12]\n",
      "[[ 1  2  3]\n",
      " [ 4  5  6]\n",
      " [ 7  8  9]\n",
      " [10 11 12]]\n",
      "[[ 1  4  7 10]\n",
      " [ 2  5  8 11]\n",
      " [ 3  6  9 12]]\n",
      "[[ 14  32  50  68]\n",
      " [ 32  77 122 167]\n",
      " [ 50 122 194 266]\n",
      " [ 68 167 266 365]]\n",
      "16\n",
      "7.446513419535917e-28\n",
      "Мы можем посчитать обратную матрицу, т.к. определитель не равен 0\n"
     ]
    }
   ],
   "source": [
    "a = np.arange(1,13)\n",
    "print(a)\n",
    "A = a.reshape(4,3)\n",
    "print(A)\n",
    "At = np.transpose(A)\n",
    "print(At)\n",
    "B = A.dot(At)\n",
    "print(B)\n",
    "print(B.size)\n",
    "d = np.linalg.det(B)\n",
    "print(d)\n",
    "print('Мы можем посчитать обратную матрицу, т.к. определитель не равен 0')"
   ]
  },
  {
   "cell_type": "code",
   "execution_count": 503,
   "id": "87d76993",
   "metadata": {},
   "outputs": [
    {
     "name": "stdout",
     "output_type": "stream",
     "text": [
      "0.6394267984578837\n"
     ]
    }
   ],
   "source": [
    "import random\n",
    "random.seed(42)\n",
    "print(random.random())"
   ]
  },
  {
   "cell_type": "code",
   "execution_count": 504,
   "id": "d49e86f3",
   "metadata": {},
   "outputs": [
    {
     "name": "stdout",
     "output_type": "stream",
     "text": [
      "[ 5  8  9 15  3  4  1  7  5 11 10 15  2 11  4  0]\n"
     ]
    }
   ],
   "source": [
    "c = np.random.randint(0, 16, (1, 16))\n",
    "c = c.flatten()\n",
    "print(c)"
   ]
  },
  {
   "cell_type": "code",
   "execution_count": 505,
   "id": "c6964bc6",
   "metadata": {},
   "outputs": [
    {
     "name": "stdout",
     "output_type": "stream",
     "text": [
      "[[ 5  8  9 15]\n",
      " [ 3  4  1  7]\n",
      " [ 5 11 10 15]\n",
      " [ 2 11  4  0]]\n"
     ]
    }
   ],
   "source": [
    "C = c.reshape(4,4)\n",
    "print(C)"
   ]
  },
  {
   "cell_type": "code",
   "execution_count": 506,
   "id": "16ce4841",
   "metadata": {},
   "outputs": [
    {
     "name": "stdout",
     "output_type": "stream",
     "text": [
      "[[ 64 112 140 218]\n",
      " [ 62 117 132 237]\n",
      " [100 232 294 416]\n",
      " [ 88 277 306 365]]\n"
     ]
    }
   ],
   "source": [
    "D=(C*10)+B\n",
    "print(D)"
   ]
  },
  {
   "cell_type": "code",
   "execution_count": 507,
   "id": "fb08f955",
   "metadata": {},
   "outputs": [
    {
     "name": "stdout",
     "output_type": "stream",
     "text": [
      "-7873800.000000006\n",
      "2\n",
      "[[ 0.09921512 -0.03027509 -0.04060809  0.00668292]\n",
      " [-0.01325154  0.02962737 -0.02573599  0.01800909]\n",
      " [ 0.0197211  -0.04512688  0.02129848 -0.0067515 ]\n",
      " [-0.03039701  0.02264726  0.01146587 -0.00687851]]\n"
     ]
    }
   ],
   "source": [
    "print(np.linalg.det(D))\n",
    "print(np.linalg.matrix_rank(B))\n",
    "D_inv = np.linalg.inv(D)\n",
    "print(D_inv)"
   ]
  },
  {
   "cell_type": "code",
   "execution_count": 508,
   "id": "8421a617",
   "metadata": {},
   "outputs": [
    {
     "name": "stdout",
     "output_type": "stream",
     "text": [
      "[[1. 0. 0. 1.]\n",
      " [0. 1. 0. 1.]\n",
      " [1. 0. 1. 0.]\n",
      " [0. 1. 1. 0.]]\n"
     ]
    }
   ],
   "source": [
    "D_inv = np.where(D_inv < 0.0, D_inv, 1)\n",
    "D_inv = np.where(D_inv > 0.0, D_inv, 0)\n",
    "print(D_inv)"
   ]
  },
  {
   "cell_type": "code",
   "execution_count": 509,
   "id": "aa947382",
   "metadata": {},
   "outputs": [
    {
     "name": "stdout",
     "output_type": "stream",
     "text": [
      "[[ 14  32  50  68]\n",
      " [ 32  77 122 167]\n",
      " [ 50 122 194 266]\n",
      " [ 68 167 266 365]]\n",
      "[ 14  68  77 167  50 194 167 266]\n",
      "[[ 14  68  77 167]\n",
      " [ 50 194 167 266]]\n"
     ]
    }
   ],
   "source": [
    "ind1 = D_inv == 1\n",
    "print(B)\n",
    "print(B[ind1])\n",
    "x=(B[ind1]).reshape(-1,4)\n",
    "print(x)"
   ]
  },
  {
   "cell_type": "code",
   "execution_count": 510,
   "id": "4b40792e",
   "metadata": {},
   "outputs": [
    {
     "name": "stdout",
     "output_type": "stream",
     "text": [
      "[[ 5  8  9 15]\n",
      " [ 3  4  1  7]\n",
      " [ 5 11 10 15]\n",
      " [ 2 11  4  0]]\n",
      "[ 8  9  3  1 11 15  2  0]\n"
     ]
    }
   ],
   "source": [
    "ind2 = D_inv == 0\n",
    "print(C)\n",
    "print(C[ind2])\n",
    "y=(C[ind2]).reshape(-1,4)"
   ]
  },
  {
   "cell_type": "code",
   "execution_count": 517,
   "id": "6f4a1ee4",
   "metadata": {},
   "outputs": [
    {
     "name": "stdout",
     "output_type": "stream",
     "text": [
      "[[ 14  68  77 167]\n",
      " [ 50 194 167 266]]\n",
      "[[ 8  9  3  1]\n",
      " [11 15  2  0]]\n",
      "[[ 14  68  77 167]\n",
      " [ 50 194 167 266]\n",
      " [  8   9   3   1]\n",
      " [ 11  15   2   0]]\n"
     ]
    }
   ],
   "source": [
    "print(x)\n",
    "print(y)\n",
    "E = np.vstack((x, y))\n",
    "print(E)"
   ]
  }
 ],
 "metadata": {
  "kernelspec": {
   "display_name": "Python 3",
   "language": "python",
   "name": "python3"
  },
  "language_info": {
   "codemirror_mode": {
    "name": "ipython",
    "version": 3
   },
   "file_extension": ".py",
   "mimetype": "text/x-python",
   "name": "python",
   "nbconvert_exporter": "python",
   "pygments_lexer": "ipython3",
   "version": "3.8.8"
  }
 },
 "nbformat": 4,
 "nbformat_minor": 5
}
