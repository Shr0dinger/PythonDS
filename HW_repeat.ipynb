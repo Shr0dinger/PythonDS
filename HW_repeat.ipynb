{
 "cells": [
  {
   "cell_type": "code",
   "execution_count": 1,
   "id": "2dad3a13",
   "metadata": {},
   "outputs": [],
   "source": [
    "import numpy as np"
   ]
  },
  {
   "cell_type": "code",
   "execution_count": 6,
   "id": "d424d2f4",
   "metadata": {},
   "outputs": [
    {
     "name": "stdout",
     "output_type": "stream",
     "text": [
      "[12 13 14 15 16 17 18 19 20 21 22 23]\n"
     ]
    }
   ],
   "source": [
    "a = np.arange(12, 24)\n",
    "print(a)"
   ]
  },
  {
   "cell_type": "code",
   "execution_count": 10,
   "id": "9af0e56b",
   "metadata": {},
   "outputs": [
    {
     "name": "stdout",
     "output_type": "stream",
     "text": [
      "[[12 13 14 15 16 17]\n",
      " [18 19 20 21 22 23]]\n"
     ]
    }
   ],
   "source": [
    "aa = a.reshape(2,6)\n",
    "print(aa)"
   ]
  },
  {
   "cell_type": "code",
   "execution_count": 11,
   "id": "9a789acb",
   "metadata": {},
   "outputs": [
    {
     "name": "stdout",
     "output_type": "stream",
     "text": [
      "[[12 13 14 15]\n",
      " [16 17 18 19]\n",
      " [20 21 22 23]]\n"
     ]
    }
   ],
   "source": [
    "aa = a.reshape(3,4)\n",
    "print(aa)"
   ]
  },
  {
   "cell_type": "code",
   "execution_count": 12,
   "id": "519f7627",
   "metadata": {},
   "outputs": [
    {
     "name": "stdout",
     "output_type": "stream",
     "text": [
      "[[12 13 14]\n",
      " [15 16 17]\n",
      " [18 19 20]\n",
      " [21 22 23]]\n"
     ]
    }
   ],
   "source": [
    "aa = a.reshape(4,3)\n",
    "print(aa)"
   ]
  },
  {
   "cell_type": "code",
   "execution_count": 14,
   "id": "bfd6a69d",
   "metadata": {},
   "outputs": [
    {
     "name": "stdout",
     "output_type": "stream",
     "text": [
      "[[12 13]\n",
      " [14 15]\n",
      " [16 17]\n",
      " [18 19]\n",
      " [20 21]\n",
      " [22 23]]\n"
     ]
    }
   ],
   "source": [
    "aa = a.reshape(6,2)\n",
    "print(aa)"
   ]
  },
  {
   "cell_type": "code",
   "execution_count": 15,
   "id": "907a5fdd",
   "metadata": {},
   "outputs": [
    {
     "name": "stdout",
     "output_type": "stream",
     "text": [
      "[[12]\n",
      " [13]\n",
      " [14]\n",
      " [15]\n",
      " [16]\n",
      " [17]\n",
      " [18]\n",
      " [19]\n",
      " [20]\n",
      " [21]\n",
      " [22]\n",
      " [23]]\n"
     ]
    }
   ],
   "source": [
    "aa = a.reshape(12,1)\n",
    "print(aa)"
   ]
  },
  {
   "cell_type": "code",
   "execution_count": 16,
   "id": "c0312993",
   "metadata": {},
   "outputs": [
    {
     "name": "stdout",
     "output_type": "stream",
     "text": [
      "[[12 13 14 15 16 17]\n",
      " [18 19 20 21 22 23]]\n"
     ]
    }
   ],
   "source": [
    "aa = a.reshape(-1,6)\n",
    "print(aa)"
   ]
  },
  {
   "cell_type": "code",
   "execution_count": 17,
   "id": "9cfe2edd",
   "metadata": {},
   "outputs": [
    {
     "name": "stdout",
     "output_type": "stream",
     "text": [
      "[[12 13 14]\n",
      " [15 16 17]\n",
      " [18 19 20]\n",
      " [21 22 23]]\n"
     ]
    }
   ],
   "source": [
    "aa = a.reshape(-1,3)\n",
    "print(aa)"
   ]
  },
  {
   "cell_type": "code",
   "execution_count": 19,
   "id": "6ded10aa",
   "metadata": {},
   "outputs": [
    {
     "name": "stdout",
     "output_type": "stream",
     "text": [
      "[[12]\n",
      " [13]\n",
      " [14]\n",
      " [15]\n",
      " [16]\n",
      " [17]\n",
      " [18]\n",
      " [19]\n",
      " [20]\n",
      " [21]\n",
      " [22]\n",
      " [23]]\n"
     ]
    }
   ],
   "source": [
    "aa = a.reshape(12,-1)\n",
    "print(aa)"
   ]
  },
  {
   "cell_type": "code",
   "execution_count": 21,
   "id": "5a14ac2d",
   "metadata": {},
   "outputs": [
    {
     "name": "stdout",
     "output_type": "stream",
     "text": [
      "[[12 13 14]\n",
      " [15 16 17]\n",
      " [18 19 20]\n",
      " [21 22 23]]\n"
     ]
    }
   ],
   "source": [
    "aa = a.reshape(4,-1)\n",
    "print(aa)"
   ]
  },
  {
   "cell_type": "code",
   "execution_count": 22,
   "id": "1b524ec9",
   "metadata": {},
   "outputs": [
    {
     "name": "stdout",
     "output_type": "stream",
     "text": [
      "[[12 13]\n",
      " [14 15]\n",
      " [16 17]\n",
      " [18 19]\n",
      " [20 21]\n",
      " [22 23]]\n"
     ]
    }
   ],
   "source": [
    "aa = a.reshape(6,-1)\n",
    "print(aa)"
   ]
  },
  {
   "cell_type": "markdown",
   "id": "daf9d714",
   "metadata": {},
   "source": [
    "### Массив Numpy, состоящий из одного столбца и 12 строк нельзя  назвать одномерным, потому что у одномерного массива может быть только одна строка."
   ]
  },
  {
   "cell_type": "code",
   "execution_count": 60,
   "id": "5d09127d",
   "metadata": {},
   "outputs": [
    {
     "name": "stdout",
     "output_type": "stream",
     "text": [
      "12\n",
      "(3, 4)\n",
      "[[ 0.88853072 -0.86957595 -0.75669241  0.46773752]\n",
      " [-0.21944193 -0.60271086 -1.54939877  0.26095544]\n",
      " [ 0.91632754 -0.25126568  0.81679411 -0.72398036]]\n",
      "12\n",
      "(12,)\n",
      "[ 0.88853072 -0.86957595 -0.75669241  0.46773752 -0.21944193 -0.60271086\n",
      " -1.54939877  0.26095544  0.91632754 -0.25126568  0.81679411 -0.72398036]\n"
     ]
    }
   ],
   "source": [
    "a = np.random.randn(3, 4)\n",
    "print(a.size)\n",
    "print(a.shape)\n",
    "print(a)\n",
    "b = a.flatten()\n",
    "print(b.size)\n",
    "print(b.shape)\n",
    "print(b)"
   ]
  },
  {
   "cell_type": "code",
   "execution_count": 27,
   "id": "bde27a25",
   "metadata": {},
   "outputs": [
    {
     "name": "stdout",
     "output_type": "stream",
     "text": [
      "[20 18 16 14 12 10  8  6  4  2]\n"
     ]
    }
   ],
   "source": [
    "a = np.arange(20, 0, -2)\n",
    "print(a)"
   ]
  },
  {
   "cell_type": "code",
   "execution_count": 37,
   "id": "f4619746",
   "metadata": {},
   "outputs": [
    {
     "name": "stdout",
     "output_type": "stream",
     "text": [
      "[[19]\n",
      " [17]\n",
      " [15]\n",
      " [13]\n",
      " [11]\n",
      " [ 9]\n",
      " [ 7]\n",
      " [ 5]\n",
      " [ 3]\n",
      " [ 1]]\n"
     ]
    }
   ],
   "source": [
    "b = np.arange(19, 0, -2).reshape(10,1)\n",
    "print(b)"
   ]
  },
  {
   "cell_type": "markdown",
   "id": "fdc37a41",
   "metadata": {},
   "source": [
    "### Разница между массивами a и b в том, что a - одномерный массив, а b - нет."
   ]
  },
  {
   "cell_type": "code",
   "execution_count": 66,
   "id": "2c2f4923",
   "metadata": {},
   "outputs": [
    {
     "name": "stdout",
     "output_type": "stream",
     "text": [
      "[[0. 0.]\n",
      " [0. 0.]]\n",
      "[[1. 1.]\n",
      " [1. 1.]\n",
      " [1. 1.]]\n",
      "-------------------------\n",
      "[[0. 0.]\n",
      " [0. 0.]\n",
      " [1. 1.]\n",
      " [1. 1.]\n",
      " [1. 1.]]\n",
      "10\n"
     ]
    }
   ],
   "source": [
    "a = np.zeros((2, 2))\n",
    "b = np.ones((3, 2))\n",
    "print(a)\n",
    "print(b)\n",
    "v = np.vstack((a, b))\n",
    "print('-'*25)\n",
    "print(v)\n",
    "print(v.size)"
   ]
  },
  {
   "cell_type": "code",
   "execution_count": 89,
   "id": "d9ac2cf9",
   "metadata": {},
   "outputs": [
    {
     "name": "stdout",
     "output_type": "stream",
     "text": [
      "[ 1  2  3  4  5  6  7  8  9 10 11 12]\n",
      "[[ 1  2  3]\n",
      " [ 4  5  6]\n",
      " [ 7  8  9]\n",
      " [10 11 12]]\n",
      "[[ 1  4  7 10]\n",
      " [ 2  5  8 11]\n",
      " [ 3  6  9 12]]\n",
      "[[ 14  32  50  68]\n",
      " [ 32  77 122 167]\n",
      " [ 50 122 194 266]\n",
      " [ 68 167 266 365]]\n",
      "16\n",
      "7.446513419535917e-28\n",
      "Мы можем посчитать обратную матрицу, т.к. определитель не равен 0\n"
     ]
    }
   ],
   "source": [
    "a = np.arange(1,13)\n",
    "print(a)\n",
    "A = a.reshape(4,3)\n",
    "print(A)\n",
    "At = np.transpose(A)\n",
    "print(At)\n",
    "B = A.dot(At)\n",
    "print(B)\n",
    "print(B.size)\n",
    "d = np.linalg.det(B)\n",
    "print(d)\n",
    "print('Мы можем посчитать обратную матрицу, т.к. определитель не равен 0')"
   ]
  },
  {
   "cell_type": "code",
   "execution_count": 93,
   "id": "87d76993",
   "metadata": {},
   "outputs": [
    {
     "name": "stdout",
     "output_type": "stream",
     "text": [
      "0.6394267984578837\n"
     ]
    }
   ],
   "source": [
    "import random\n",
    "random.seed(42)\n",
    "print(random.random())"
   ]
  },
  {
   "cell_type": "code",
   "execution_count": 105,
   "id": "d49e86f3",
   "metadata": {},
   "outputs": [
    {
     "name": "stdout",
     "output_type": "stream",
     "text": [
      "[13  1  9 12 12 10  3  8 12  3  2  8 15 15 12  5]\n"
     ]
    }
   ],
   "source": [
    "c = np.random.randint(0, 16, (1, 16))\n",
    "c = c.flatten()\n",
    "print(c)"
   ]
  },
  {
   "cell_type": "code",
   "execution_count": 107,
   "id": "c6964bc6",
   "metadata": {},
   "outputs": [
    {
     "name": "stdout",
     "output_type": "stream",
     "text": [
      "[[13  1  9 12]\n",
      " [12 10  3  8]\n",
      " [12  3  2  8]\n",
      " [15 15 12  5]]\n"
     ]
    }
   ],
   "source": [
    "C = c.reshape(4,4)\n",
    "print(C)"
   ]
  },
  {
   "cell_type": "code",
   "execution_count": 108,
   "id": "16ce4841",
   "metadata": {},
   "outputs": [
    {
     "name": "stdout",
     "output_type": "stream",
     "text": [
      "[[144  42 140 188]\n",
      " [152 177 152 247]\n",
      " [170 152 214 346]\n",
      " [218 317 386 415]]\n"
     ]
    }
   ],
   "source": [
    "D=(C*10)+B\n",
    "print(D)"
   ]
  },
  {
   "cell_type": "code",
   "execution_count": 129,
   "id": "fb08f955",
   "metadata": {},
   "outputs": [
    {
     "name": "stdout",
     "output_type": "stream",
     "text": [
      "-241834400.00000066\n",
      "2\n",
      "[[ 0.01282092  0.01208157 -0.01285632 -0.00227999]\n",
      " [-0.00568505  0.00907447 -0.00470454  0.00109678]\n",
      " [ 0.00452318 -0.01076795 -0.00297336  0.00683881]\n",
      " [-0.00659939 -0.00326256  0.01311261 -0.00359138]]\n"
     ]
    }
   ],
   "source": [
    "print(np.linalg.det(D))\n",
    "print(np.linalg.matrix_rank(B))\n",
    "D_inv = np.linalg.inv(D)\n",
    "print(D_inv)"
   ]
  },
  {
   "cell_type": "code",
   "execution_count": 130,
   "id": "8421a617",
   "metadata": {},
   "outputs": [
    {
     "name": "stdout",
     "output_type": "stream",
     "text": [
      "[[1. 1. 0. 0.]\n",
      " [0. 1. 0. 1.]\n",
      " [1. 0. 0. 1.]\n",
      " [0. 0. 1. 0.]]\n"
     ]
    }
   ],
   "source": [
    "D_inv = np.where(D_inv < 0.0, D_inv, 1)\n",
    "D_inv = np.where(D_inv > 0.0, D_inv, 0)\n",
    "print(D_inv)"
   ]
  },
  {
   "cell_type": "markdown",
   "id": "fa8d8a96",
   "metadata": {},
   "source": [
    "### Объединить массивы по маске сообразить не получилось."
   ]
  },
  {
   "cell_type": "code",
   "execution_count": null,
   "id": "aa947382",
   "metadata": {},
   "outputs": [],
   "source": []
  }
 ],
 "metadata": {
  "kernelspec": {
   "display_name": "Python 3",
   "language": "python",
   "name": "python3"
  },
  "language_info": {
   "codemirror_mode": {
    "name": "ipython",
    "version": 3
   },
   "file_extension": ".py",
   "mimetype": "text/x-python",
   "name": "python",
   "nbconvert_exporter": "python",
   "pygments_lexer": "ipython3",
   "version": "3.8.8"
  }
 },
 "nbformat": 4,
 "nbformat_minor": 5
}
